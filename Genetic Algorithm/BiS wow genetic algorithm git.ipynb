{
 "cells": [
  {
   "cell_type": "code",
   "execution_count": 9,
   "metadata": {},
   "outputs": [
    {
     "ename": "NameError",
     "evalue": "name 'type_check' is not defined",
     "output_type": "error",
     "traceback": [
      "\u001b[1;31m---------------------------------------------------------------------------\u001b[0m",
      "\u001b[1;31mNameError\u001b[0m                                 Traceback (most recent call last)",
      "\u001b[1;32m<ipython-input-9-cd238e950675>\u001b[0m in \u001b[0;36m<module>\u001b[1;34m\u001b[0m\n\u001b[1;32m----> 1\u001b[1;33m \u001b[1;32mimport\u001b[0m \u001b[0mnumpy\u001b[0m \u001b[1;32mas\u001b[0m \u001b[0mnp\u001b[0m\u001b[1;33m\u001b[0m\u001b[1;33m\u001b[0m\u001b[0m\n\u001b[0m\u001b[0;32m      2\u001b[0m \u001b[1;32mimport\u001b[0m \u001b[0mpandas\u001b[0m \u001b[1;32mas\u001b[0m \u001b[0mpd\u001b[0m\u001b[1;33m\u001b[0m\u001b[1;33m\u001b[0m\u001b[0m\n\u001b[0;32m      3\u001b[0m \u001b[1;32mimport\u001b[0m \u001b[0mrandom\u001b[0m\u001b[1;33m\u001b[0m\u001b[1;33m\u001b[0m\u001b[0m\n",
      "\u001b[1;32m~\\Anaconda3\\lib\\site-packages\\numpy\\__init__.py\u001b[0m in \u001b[0;36m<module>\u001b[1;34m\u001b[0m\n\u001b[0;32m    143\u001b[0m     \u001b[1;32mfrom\u001b[0m \u001b[1;33m.\u001b[0m\u001b[0mcore\u001b[0m \u001b[1;32mimport\u001b[0m \u001b[1;33m*\u001b[0m\u001b[1;33m\u001b[0m\u001b[1;33m\u001b[0m\u001b[0m\n\u001b[0;32m    144\u001b[0m     \u001b[1;32mfrom\u001b[0m \u001b[1;33m.\u001b[0m \u001b[1;32mimport\u001b[0m \u001b[0mcompat\u001b[0m\u001b[1;33m\u001b[0m\u001b[1;33m\u001b[0m\u001b[0m\n\u001b[1;32m--> 145\u001b[1;33m     \u001b[1;32mfrom\u001b[0m \u001b[1;33m.\u001b[0m \u001b[1;32mimport\u001b[0m \u001b[0mlib\u001b[0m\u001b[1;33m\u001b[0m\u001b[1;33m\u001b[0m\u001b[0m\n\u001b[0m\u001b[0;32m    146\u001b[0m     \u001b[1;32mfrom\u001b[0m \u001b[1;33m.\u001b[0m\u001b[0mlib\u001b[0m \u001b[1;32mimport\u001b[0m \u001b[1;33m*\u001b[0m\u001b[1;33m\u001b[0m\u001b[1;33m\u001b[0m\u001b[0m\n\u001b[0;32m    147\u001b[0m     \u001b[1;32mfrom\u001b[0m \u001b[1;33m.\u001b[0m \u001b[1;32mimport\u001b[0m \u001b[0mlinalg\u001b[0m\u001b[1;33m\u001b[0m\u001b[1;33m\u001b[0m\u001b[0m\n",
      "\u001b[1;32m~\\Anaconda3\\lib\\site-packages\\numpy\\lib\\__init__.py\u001b[0m in \u001b[0;36m<module>\u001b[1;34m\u001b[0m\n\u001b[0;32m     30\u001b[0m \u001b[1;33m\u001b[0m\u001b[0m\n\u001b[0;32m     31\u001b[0m \u001b[0m__all__\u001b[0m \u001b[1;33m=\u001b[0m \u001b[1;33m[\u001b[0m\u001b[1;34m'emath'\u001b[0m\u001b[1;33m,\u001b[0m \u001b[1;34m'math'\u001b[0m\u001b[1;33m,\u001b[0m \u001b[1;34m'tracemalloc_domain'\u001b[0m\u001b[1;33m]\u001b[0m\u001b[1;33m\u001b[0m\u001b[1;33m\u001b[0m\u001b[0m\n\u001b[1;32m---> 32\u001b[1;33m \u001b[0m__all__\u001b[0m \u001b[1;33m+=\u001b[0m \u001b[0mtype_check\u001b[0m\u001b[1;33m.\u001b[0m\u001b[0m__all__\u001b[0m\u001b[1;33m\u001b[0m\u001b[1;33m\u001b[0m\u001b[0m\n\u001b[0m\u001b[0;32m     33\u001b[0m \u001b[0m__all__\u001b[0m \u001b[1;33m+=\u001b[0m \u001b[0mindex_tricks\u001b[0m\u001b[1;33m.\u001b[0m\u001b[0m__all__\u001b[0m\u001b[1;33m\u001b[0m\u001b[1;33m\u001b[0m\u001b[0m\n\u001b[0;32m     34\u001b[0m \u001b[0m__all__\u001b[0m \u001b[1;33m+=\u001b[0m \u001b[0mfunction_base\u001b[0m\u001b[1;33m.\u001b[0m\u001b[0m__all__\u001b[0m\u001b[1;33m\u001b[0m\u001b[1;33m\u001b[0m\u001b[0m\n",
      "\u001b[1;31mNameError\u001b[0m: name 'type_check' is not defined"
     ]
    }
   ],
   "source": [
    "import numpy as np\n",
    "import pandas as pd\n",
    "import random"
   ]
  },
  {
   "cell_type": "code",
   "execution_count": 30,
   "metadata": {},
   "outputs": [
    {
     "name": "stdout",
     "output_type": "stream",
     "text": [
      "strength : 5\n",
      "Name : armor\n"
     ]
    }
   ],
   "source": [
    "class item:\n",
    "    \n",
    "    #0:Name 1:Crit 2:Hit 3:Str 4:Sta 5:Agi 6:AP 7:Dodge 8:Parry 9:Defense 10:AC Skill Type\n",
    "    \n",
    "    def __init__(self, carac):\n",
    "        self.name = carac[0]\n",
    "        self.str = carac[3]\n",
    "        self.sta = carac[4]\n",
    "        self.agi = carac[5]\n",
    "        self.hit = carac[2]\n",
    "        self.defense = carac[9]\n",
    "        self.crit = carac[1]\n",
    "        self.dodge = carac[7]\n",
    "        self.ap = carac[6]\n",
    "        self.armor = carac[10]\n",
    "    \n",
    "    def __repr__(self):\n",
    "        return 'strength : ' + str(self.str) + '\\n' + 'Name : ' + self.name\n",
    "        \n",
    "varStat = [\"armor\", 10, 7, 5, 0, 0, 10, 10, 0,0,0,0,0, 0]\n",
    "a = item(varStat)\n",
    "\n",
    "print(a)"
   ]
  },
  {
   "cell_type": "code",
   "execution_count": 42,
   "metadata": {},
   "outputs": [],
   "source": [
    "class bis:\n",
    "    \n",
    "    def __init__(self, itemTable): #items = array of object item\n",
    "        self.head = itemTable[0]\n",
    "        self.neck = itemTable[1]\n",
    "        self.shoulders = itemTable[2]\n",
    "        self.back = itemTable[3]\n",
    "        \n",
    "        self.chest = itemTable[4]\n",
    "        self.wrist = itemTable[5]\n",
    "        self.hands = itemTable[6]\n",
    "        self.waist = itemTable[7]\n",
    "        self.legs = itemTable[8]\n",
    "        self.feet = itemTable[9]\n",
    "        self.ring1 = itemTable[10]\n",
    "        self.ring2 = itemTable[11]\n",
    "        self.trinket1 = itemTable[12]\n",
    "        self.trinket2 = itemTable[13]\n",
    "       \n",
    "        self.ranged = itemTable[14]\n",
    "        \n",
    "        #self.mainHand = itemTable[15]\n",
    "        #self.offHand = itemTable[16]\n",
    "    \n",
    "    def listGear(self):\n",
    "        self.gearList = [self.head, self.neck, self.shoulders, self.back, self.chest, self.wrist, self.hands, self.waist,\n",
    "                   self.legs, self.feet, self.ring1, self.ring2, self.trinket1, self.trinket2, self.ranged]\n",
    "        return self.gearList\n",
    "      \n",
    "        \n",
    "'''\n",
    "def score(self, x):\n",
    "    print('tralala')\n",
    "    self.set = [self.head.name , self.neck.name , self.shoulders.name , self.back.name\n",
    "                         , self.chest.name , self.wrist.name , self.hands.name , self.waist.name\n",
    "                         , self.legs.name , self.feet.name , self.ring1.name , self.ring2.name ,\n",
    "                         self.trinket1.name , self.trinket2.name , self.ranged.name]\n",
    "\n",
    "    self.stamina = np.sum(self.head.sta + self.neck.sta + self.shoulders.sta + self.back.sta\n",
    "                         + self.chest.sta + self.wrist.sta + self.hands.sta + self.waist.sta +\n",
    "                         + self.legs.sta + self.feet.sta + self.ring1.sta + self.ring2.sta +\n",
    "                         self.trinket1.sta + self.trinket2.sta + self.ranged.sta)\n",
    "\n",
    "    self.AC = np.sum(self.head.armor + self.neck.armor + self.shoulders.armor + self.back.armor\n",
    "                         + self.chest.armor + self.wrist.armor + self.hands.armor + self.waist.armor +\n",
    "                         self.legs.armor + self.feet.armor + self.ring1.armor + self.ring2.armor +\n",
    "                         self.trinket1.armor + self.trinket2.armor + self.ranged.armor)\n",
    "\n",
    "    self.strength = np.sum(self.head.str + self.neck.str + self.shoulders.str + self.back.str\n",
    "                         + self.chest.str + self.wrist.str + self.hands.str + self.waist.str +\n",
    "                         self.legs.str + self.feet.str + self.ring1.str + self.ring2.str +\n",
    "                         self.trinket1.str + self.trinket2.str + self.ranged.str)\n",
    "    self.agility = np.sum(self.head.agi + self.neck.agi + self.shoulders.agi + self.back.agi\n",
    "                         + self.chest.agi + self.wrist.agi + self.hands.agi + self.waist.agi +\n",
    "                         self.legs.agi + self.feet.agi + self.ring1.agi + self.ring2.agi +\n",
    "                         self.trinket1.agi + self.trinket2.agi + self.ranged.agi)\n",
    "\n",
    "    self.crit = np.sum(self.head.crit + self.neck.crit + self.shoulders.crit + self.back.crit\n",
    "                         + self.chest.crit + self.wrist.crit + self.hands.crit + self.waist.crit +\n",
    "                         self.legs.crit + self.feet.crit + self.ring1.crit + self.ring2.crit +\n",
    "                         self.trinket1.crit + self.trinket2.crit + self.ranged.crit)\n",
    "\n",
    "    self.hit = np.sum(self.head.hit + self.neck.hit + self.shoulders.hit + self.back.hit\n",
    "                         + self.chest.hit + self.wrist.hit + self.hands.hit + self.waist.hit +\n",
    "                          self.legs.hit + self.feet.hit + self.ring1.hit + self.ring2.hit +\n",
    "                         self.trinket1.hit + self.trinket2.hit + self.ranged.hit)\n",
    "\n",
    "    self.dodge = np.sum(self.head.dodge + self.neck.dodge + self.shoulders.dodge + self.back.dodge\n",
    "                         + self.chest.dodge + self.wrist.dodge + self.hands.dodge + self.waist.dodge +\n",
    "                        self.legs.dodge + self.feet.dodge + self.ring1.dodge + self.ring2.dodge +\n",
    "                         self.trinket1.dodge + self.trinket2.dodge + self.ranged.dodge)\n",
    "\n",
    "    self.attackpower = np.sum(self.head.ap + self.neck.ap + self.shoulders.ap + self.back.ap\n",
    "                         + self.chest.ap + self.wrist.ap + self.hands.ap + self.waist.ap +\n",
    "                         self.legs.ap + self.feet.ap + self.ring1.ap + self.ring2.ap +\n",
    "                         self.trinket1.ap + self.trinket2.ap + self.ranged.ap)\n",
    "\n",
    "    self.scoreSet = (np.log (self.AC/4050 + 1) + np.log(self.stamina / 157 + 1) \n",
    "     + np.log(self.strength / 108 + 1) + np.log(self.agility / 104 + 1) \n",
    "     + np.log((self.agility/20 + self.crit + 1)/9.2) + np.log(hit/5 + 1) + 6) / 6\n",
    "    \n",
    "    print(\"set :\")\n",
    "    print(self.set)\n",
    "    print(\"+stamina :\"  + str(self.stamina))\n",
    "    print(\"+str :\"  + str(self.strength))\n",
    "    print(\"+agi :\"  + str(self.agility))\n",
    "    print(\"+crit :\"  + str(self.crit))\n",
    "    print(\"+hit :\"  + str(self.hit))\n",
    "    print(\"+armor :\"  + str(self.armor))\n",
    "    print(\"+dodge :\"  + str(self.dodge))\n",
    "    print(\"+ap :\"  + str(self.attackpower))\n",
    "\n",
    "    return self.scoreSet\n",
    "'''\n",
    "\n",
    "def scoreFunc(x):\n",
    "    equipment = x\n",
    "    gear_set = [equipment.head.name , equipment.neck.name , equipment.shoulders.name , equipment.back.name\n",
    "                         , equipment.chest.name , equipment.wrist.name , equipment.hands.name , equipment.waist.name\n",
    "                         , equipment.legs.name , equipment.feet.name , equipment.ring1.name , equipment.ring2.name ,\n",
    "                         equipment.trinket1.name , equipment.trinket2.name , equipment.ranged.name]\n",
    "    print(\"set :\")\n",
    "    print(gear_set)\n",
    "\n",
    "    stamina = (equipment.head.sta + equipment.neck.sta + equipment.shoulders.sta + equipment.back.sta\n",
    "                         + equipment.chest.sta + equipment.wrist.sta + equipment.hands.sta + equipment.waist.sta +\n",
    "                         + equipment.legs.sta + equipment.feet.sta + equipment.ring1.sta + equipment.ring2.sta +\n",
    "                         equipment.trinket1.sta + equipment.trinket2.sta + equipment.ranged.sta)\n",
    "    print(\"+stamina :\"  + str(stamina))\n",
    "\n",
    "    AC = (equipment.head.armor + equipment.neck.armor + equipment.shoulders.armor + equipment.back.armor\n",
    "                         + equipment.chest.armor + equipment.wrist.armor + equipment.hands.armor + equipment.waist.armor +\n",
    "                         equipment.legs.armor + equipment.feet.armor + equipment.ring1.armor + equipment.ring2.armor +\n",
    "                         equipment.trinket1.armor + equipment.trinket2.armor + equipment.ranged.armor)\n",
    "    print(\"+armor :\"  + str(AC))\n",
    "\n",
    "    strength = (equipment.head.str + equipment.neck.str + equipment.shoulders.str + equipment.back.str\n",
    "                         + equipment.chest.str + equipment.wrist.str + equipment.hands.str + equipment.waist.str +\n",
    "                         equipment.legs.str + equipment.feet.str + equipment.ring1.str + equipment.ring2.str +\n",
    "                         equipment.trinket1.str + equipment.trinket2.str + equipment.ranged.str)\n",
    "    print(\"+str :\"  + str(strength))\n",
    "    \n",
    "    agility = (equipment.head.agi + equipment.neck.agi + equipment.shoulders.agi + equipment.back.agi\n",
    "                         + equipment.chest.agi + equipment.wrist.agi + equipment.hands.agi + equipment.waist.agi +\n",
    "                         equipment.legs.agi + equipment.feet.agi + equipment.ring1.agi + equipment.ring2.agi +\n",
    "                         equipment.trinket1.agi + equipment.trinket2.agi + equipment.ranged.agi)\n",
    "    print(\"+agi :\"  + str(agility))\n",
    "\n",
    "    crit = (equipment.head.crit + equipment.neck.crit + equipment.shoulders.crit + equipment.back.crit\n",
    "                         + equipment.chest.crit + equipment.wrist.crit + equipment.hands.crit + equipment.waist.crit +\n",
    "                         equipment.legs.crit + equipment.feet.crit + equipment.ring1.crit + equipment.ring2.crit +\n",
    "                         equipment.trinket1.crit + equipment.trinket2.crit + equipment.ranged.crit) + agility/20\n",
    "    print(\"+crit :\"  + str(crit))\n",
    "    if (equipment.hands.name == 'gantelets diablosaures' and equipment.legs.name == 'jambieres diablosaures'):\n",
    "        hit = (equipment.head.hit + equipment.neck.hit + equipment.shoulders.hit + equipment.back.hit\n",
    "                         + equipment.chest.hit + equipment.wrist.hit + equipment.hands.hit + equipment.waist.hit +\n",
    "                          equipment.legs.hit + equipment.feet.hit + equipment.ring1.hit + equipment.ring2.hit +\n",
    "                         equipment.trinket1.hit + equipment.trinket2.hit + equipment.ranged.hit) + 2\n",
    "    else:\n",
    "        hit = (equipment.head.hit + equipment.neck.hit + equipment.shoulders.hit + equipment.back.hit\n",
    "                         + equipment.chest.hit + equipment.wrist.hit + equipment.hands.hit + equipment.waist.hit +\n",
    "                          equipment.legs.hit + equipment.feet.hit + equipment.ring1.hit + equipment.ring2.hit +\n",
    "                         equipment.trinket1.hit + equipment.trinket2.hit + equipment.ranged.hit)\n",
    "    print(\"+hit :\"  + str(hit))\n",
    "\n",
    "    dodge = (equipment.head.dodge + equipment.neck.dodge + equipment.shoulders.dodge + equipment.back.dodge\n",
    "                         + equipment.chest.dodge + equipment.wrist.dodge + equipment.hands.dodge + equipment.waist.dodge +\n",
    "                        equipment.legs.dodge + equipment.feet.dodge + equipment.ring1.dodge + equipment.ring2.dodge +\n",
    "                         equipment.trinket1.dodge + equipment.trinket2.dodge + equipment.ranged.dodge)\n",
    "    print(\"+dodge :\"  + str(dodge))\n",
    "    \n",
    "    AP = (equipment.head.ap + equipment.neck.ap + equipment.shoulders.ap + equipment.back.ap\n",
    "                         + equipment.chest.ap + equipment.wrist.ap + equipment.hands.ap + equipment.waist.ap +\n",
    "                        equipment.legs.ap + equipment.feet.ap + equipment.ring1.ap + equipment.ring2.ap +\n",
    "                         equipment.trinket1.ap + equipment.trinket2.ap + equipment.ranged.ap) + strength * 2 \n",
    "    print(\"+ap :\"  + str(AP))\n",
    "    \n",
    "    scoreSet = 0\n",
    "    if (hit > 8 and hit < 11):\n",
    "        scoreSet = AP/200 + crit/4 + 8\n",
    "    elif hit < 9:\n",
    "        scoreSet = AP/200 + crit/4  + hit\n",
    "    return scoreSet\n",
    "    \n",
    "    '''\n",
    "    scoreSet = ((np.log2(AC/4050 + 1) + np.log2(stamina / 157 + 1) \n",
    "         + np.log2(strength / 108 + 1) + np.log2(agility / 104 + 1) \n",
    "         + np.log2((agility/20 + crit + 1)/9.2) + 5 * np.log2(hit/5 + 1) + 6) / 6)\n",
    "    print('SCORE : '+ str(scoreSet))\n",
    "    if AC > 4000:\n",
    "        scoreSet = ((np.log2(AC/4050 + 1) + np.log2(stamina / 157 + 1) \n",
    "         + np.log2(strength / 108 + 1) + np.log2(agility / 104 + 1) \n",
    "         + np.log2((agility/20 + crit + 1)/9.2) + 5 * np.log2(hit/5 + 1) + 6) / 6) + 5\n",
    "    elif (AC > 3500 and AC < 4000):\n",
    "        scoreSet = ((np.log2(AC/4050 + 1) + np.log2(stamina / 157 + 1) \n",
    "         + np.log2(strength / 108 + 1) + np.log2(agility / 104 + 1) \n",
    "         + np.log2((agility/20 + crit + 1)/9.2) + 5 * np.log2(hit/5 + 1) + 6) / 6) + 3\n",
    "    \n",
    "    elif stamina < 140:\n",
    "        scoreSet = 0.5\n",
    "    elif strength < 90:\n",
    "        scoreSet = 0.4\n",
    "    elif agility < 90:\n",
    "        scoreSet = 0.5\n",
    "    elif hit < 5:\n",
    "        scoreSet = 0.5\n",
    "    elif hit > 7:\n",
    "        scoreSet = 0.5\n",
    "    elif crit < 10:\n",
    "        scoreSet = 0.5\n",
    "    elif (crit > 9 and AC > 4000 and hit > 5 and strength > 100 and stamina > 140 and agility > 100):\n",
    "        scoreSet = ((np.log2(AC/4050 + 1) + np.log2(stamina / 157 + 1) \n",
    "         + np.log2(strength / 108 + 1) + np.log2(agility / 104 + 1) \n",
    "         + np.log2((agility/20 + crit + 1)/9.2) + 5 * np.log2(hit/5 + 1) + 6) / 6) + 10\n",
    "        \n",
    "    if AC < 3000:\n",
    "        scoreSet = 0\n",
    "\n",
    "    return scoreSet\n",
    "    '''\n",
    "\n",
    "'''\n",
    "\n",
    "    attackpower = (equipment.head.ap + equipment.neck.ap + equipment.shoulders.ap + equipment.back.ap\n",
    "                         + equipment.chest.ap + equipment.wrist.ap + equipment.hands.ap + equipment.waist.ap +\n",
    "                         equipment.legs.ap + equipment.feet.ap + equipment.ring1.ap + equipment.ring2.ap +\n",
    "                         equipment.trinket1.ap + equipment.trinket2.ap + equipment.ranged.ap)\n",
    "    print(\"+ap :\"  + str(attackpower))\n",
    "'''\n",
    "    \n",
    "def mutation(rnd, strout):\n",
    "    rand = rnd\n",
    "    listbis = strout.listGear()\n",
    "    if rand == 0:\n",
    "        listbis[0] = item(np.array(head.loc[random.randint(0,len(head)-1)]))\n",
    "    if rand == 1:\n",
    "        listbis[1] = item(np.array(neck.loc[random.randint(0,len(neck)-1)]))\n",
    "    if rand == 2:\n",
    "        listbis[2] = item(np.array(shoulder.loc[random.randint(0,len(shoulder)-1)]))\n",
    "    if rand == 3:\n",
    "        listbis[3] = item(np.array(back.loc[random.randint(0,len(back)-1)]))\n",
    "    if rand == 4:\n",
    "        listbis[4] = item(np.array(chest.loc[random.randint(0,len(chest)-1)]))\n",
    "    if rand == 5:\n",
    "        listbis[5] = item(np.array(wrist.loc[random.randint(0,len(wrist)-1)]))\n",
    "    if rand == 6:\n",
    "        listbis[6] = item(np.array(hands.loc[random.randint(0,len(hands)-1)]))\n",
    "    if rand == 7:\n",
    "        listbis[7] = item(np.array(waist.loc[random.randint(0,len(waist)-1)]))\n",
    "    if rand == 8:\n",
    "        listbis[8] = item(np.array(legs.loc[random.randint(0,len(legs)-1)]))\n",
    "    if rand == 9:\n",
    "        listbis[9] = item(np.array(feet.loc[random.randint(0,len(feet)-1)]))\n",
    "    if rand == 10:\n",
    "        listbis[10] = item(np.array(rings.loc[random.randint(0,len(rings)-1)]))\n",
    "    if rand == 11:\n",
    "        listbis[11] = item(np.array(rings.loc[random.randint(0,len(rings)-1)]))\n",
    "    if rand == 12:\n",
    "        listbis[12] = item(np.array(trinket.loc[random.randint(0,len(trinket)-1)]))\n",
    "    if rand == 13:\n",
    "        listbis[13] = item(np.array(trinket.loc[random.randint(0,len(trinket)-1)]))\n",
    "    if rand == 14:\n",
    "        listbis[14] = item(np.array(ranged.loc[random.randint(0,len(ranged)-1)]))\n",
    "    hululu = bis(listbis)\n",
    "    return hululu\n",
    "\n",
    "    \n",
    "\n",
    "def score(self):\n",
    "    self.scoreSet = (np.log (self.AC/4050 + 1) + np.log(self.stamina / 157 + 1) \n",
    "     + np.log(self.strength / 108 + 1) + np.log(self.agility / 104 + 1) \n",
    "     + np.log((self.agility/20 + self.crit + 1)/9.2) + np.log(hit/5 + 1) + 6) / 6\n",
    "    return self.scoreSet\n",
    "\n",
    "def chromosome(self):\n",
    "    #chromo = [self.head, self.neck, self.shoulders.......]\n",
    "    pass\n"
   ]
  },
  {
   "cell_type": "code",
   "execution_count": 5,
   "metadata": {},
   "outputs": [
    {
     "data": {
      "text/plain": [
       "1.0995356735509143"
      ]
     },
     "execution_count": 5,
     "metadata": {},
     "output_type": "execute_result"
    }
   ],
   "source": [
    "np.log2(8/7 + 1)"
   ]
  },
  {
   "cell_type": "code",
   "execution_count": 110,
   "metadata": {},
   "outputs": [
    {
     "data": {
      "text/plain": [
       "1.6634833213607194"
      ]
     },
     "execution_count": 110,
     "metadata": {},
     "output_type": "execute_result"
    }
   ],
   "source": [
    "((np.log (4050/4050 + 1) + np.log(157 / 157 + 1) \n",
    "         + np.log(108 / 108 + 1) + np.log(104 / 104 + 1) \n",
    "         + np.log((104/20 + 9.2 + 1)/9.2) + np.log(5/5 + 1) + 6) / 6)"
   ]
  },
  {
   "cell_type": "code",
   "execution_count": 7,
   "metadata": {},
   "outputs": [],
   "source": [
    "a = item(varStat)\n",
    "c = [a,a,a,a,a,a,a,a,a,a,a,a,a,a,a]\n",
    "b = bis(c)"
   ]
  },
  {
   "cell_type": "code",
   "execution_count": 8,
   "metadata": {},
   "outputs": [
    {
     "ename": "AttributeError",
     "evalue": "'bis' object has no attribute 'attributesSum'",
     "output_type": "error",
     "traceback": [
      "\u001b[1;31m---------------------------------------------------------------------------\u001b[0m",
      "\u001b[1;31mAttributeError\u001b[0m                            Traceback (most recent call last)",
      "\u001b[1;32m<ipython-input-8-33579a9f2f79>\u001b[0m in \u001b[0;36m<module>\u001b[1;34m\u001b[0m\n\u001b[1;32m----> 1\u001b[1;33m \u001b[0mb\u001b[0m\u001b[1;33m.\u001b[0m\u001b[0mattributesSum\u001b[0m\u001b[1;33m(\u001b[0m\u001b[1;33m)\u001b[0m\u001b[1;33m\u001b[0m\u001b[1;33m\u001b[0m\u001b[0m\n\u001b[0m\u001b[0;32m      2\u001b[0m \u001b[0mz\u001b[0m \u001b[1;33m=\u001b[0m \u001b[0mb\u001b[0m\u001b[1;33m.\u001b[0m\u001b[0mscore\u001b[0m\u001b[1;33m(\u001b[0m\u001b[1;33m)\u001b[0m\u001b[1;33m\u001b[0m\u001b[1;33m\u001b[0m\u001b[0m\n\u001b[0;32m      3\u001b[0m \u001b[0mprint\u001b[0m\u001b[1;33m(\u001b[0m\u001b[1;34m\"Score :\"\u001b[0m \u001b[1;33m+\u001b[0m \u001b[0mstr\u001b[0m\u001b[1;33m(\u001b[0m\u001b[0mround\u001b[0m\u001b[1;33m(\u001b[0m\u001b[0mz\u001b[0m\u001b[1;33m,\u001b[0m\u001b[1;36m4\u001b[0m\u001b[1;33m)\u001b[0m\u001b[1;33m)\u001b[0m\u001b[1;33m)\u001b[0m\u001b[1;33m\u001b[0m\u001b[1;33m\u001b[0m\u001b[0m\n",
      "\u001b[1;31mAttributeError\u001b[0m: 'bis' object has no attribute 'attributesSum'"
     ]
    }
   ],
   "source": [
    "b.attributesSum()\n",
    "z = b.score()\n",
    "print(\"Score :\" + str(round(z,4)))"
   ]
  },
  {
   "cell_type": "code",
   "execution_count": 9,
   "metadata": {},
   "outputs": [
    {
     "data": {
      "text/plain": [
       "1.5"
      ]
     },
     "execution_count": 9,
     "metadata": {},
     "output_type": "execute_result"
    }
   ],
   "source": [
    "round(1.5,1)"
   ]
  },
  {
   "cell_type": "code",
   "execution_count": 10,
   "metadata": {},
   "outputs": [
    {
     "ename": "AttributeError",
     "evalue": "'bis' object has no attribute 'score'",
     "output_type": "error",
     "traceback": [
      "\u001b[1;31m---------------------------------------------------------------------------\u001b[0m",
      "\u001b[1;31mAttributeError\u001b[0m                            Traceback (most recent call last)",
      "\u001b[1;32m<ipython-input-10-8e04133260b7>\u001b[0m in \u001b[0;36m<module>\u001b[1;34m\u001b[0m\n\u001b[1;32m----> 1\u001b[1;33m \u001b[0mb\u001b[0m\u001b[1;33m.\u001b[0m\u001b[0mscore\u001b[0m\u001b[1;33m(\u001b[0m\u001b[1;33m)\u001b[0m\u001b[1;33m\u001b[0m\u001b[1;33m\u001b[0m\u001b[0m\n\u001b[0m",
      "\u001b[1;31mAttributeError\u001b[0m: 'bis' object has no attribute 'score'"
     ]
    }
   ],
   "source": [
    "b.score()"
   ]
  },
  {
   "cell_type": "markdown",
   "metadata": {},
   "source": [
    "20 agi = 1% crit\n",
    "(20 agi = 1% dodge)\n",
    "\n",
    "-------------\n",
    "\n",
    "goal\n",
    "Armor = 4200\n",
    "Stamina = 157\n",
    "Str = 108\n",
    "Agi = 104\n",
    "\n",
    "crit = 14%\n",
    "\n",
    "hit = 5%\n",
    "\n"
   ]
  },
  {
   "cell_type": "code",
   "execution_count": 11,
   "metadata": {},
   "outputs": [
    {
     "name": "stdout",
     "output_type": "stream",
     "text": [
      "1.0060612740284791\n"
     ]
    }
   ],
   "source": [
    "sta = 157\n",
    "agi = 104\n",
    "strength = 108\n",
    "armor = 4200\n",
    "hit = 5\n",
    "crit = 4\n",
    "\n",
    "score = (np.log (armor/4050) + np.log(sta / 157) \n",
    "         + np.log(strength / 108) + np.log(agi / 104) \n",
    "         + np.log((agi/20 + crit)/9.2) + np.log(hit/5) + 6) / 6\n",
    "\n",
    "print(score)"
   ]
  },
  {
   "cell_type": "code",
   "execution_count": 98,
   "metadata": {},
   "outputs": [
    {
     "data": {
      "text/plain": [
       "5.2"
      ]
     },
     "execution_count": 98,
     "metadata": {},
     "output_type": "execute_result"
    }
   ],
   "source": [
    "104/20"
   ]
  },
  {
   "cell_type": "code",
   "execution_count": 32,
   "metadata": {},
   "outputs": [],
   "source": [
    "head = pd.read_csv('E:/Projets IT/Python/Wow Gear/head-Prebis.csv', encoding = 'utf-8')\n",
    "head = head.fillna(0)\n",
    "\n",
    "neck = pd.read_csv('E:/Projets IT/Python/Wow Gear/neck-Prebis.csv')\n",
    "neck = neck.fillna(0)\n",
    "\n",
    "shoulder = pd.read_csv('E:/Projets IT/Python/Wow Gear/shoulders-Prebis.csv')\n",
    "shoulder = shoulder.fillna(0)\n",
    "\n",
    "back = pd.read_csv('E:/Projets IT/Python/Wow Gear/back-Prebis.csv')\n",
    "back = back.fillna(0)\n",
    "\n",
    "chest = pd.read_csv('E:/Projets IT/Python/Wow Gear/chest-Prebis.csv')\n",
    "chest = chest.fillna(0)\n",
    "\n",
    "wrist = pd.read_csv('E:/Projets IT/Python/Wow Gear/wrist-Prebis.csv')\n",
    "wrist = wrist.fillna(0)\n",
    "\n",
    "hands = pd.read_csv('E:/Projets IT/Python/Wow Gear/hands-Prebis.csv')\n",
    "hands = hands.fillna(0)\n",
    "\n",
    "waist = pd.read_csv('E:/Projets IT/Python/Wow Gear/waist-Prebis.csv')\n",
    "waist = waist.fillna(0)\n",
    "\n",
    "legs = pd.read_csv('E:/Projets IT/Python/Wow Gear/legs-Prebis.csv')\n",
    "legs = legs.fillna(0)\n",
    "\n",
    "feet = pd.read_csv('E:/Projets IT/Python/Wow Gear/feet-Prebis.csv')\n",
    "feet = feet.fillna(0)\n",
    "\n",
    "rings = pd.read_csv('E:/Projets IT/Python/Wow Gear/rings-prebis.csv')\n",
    "rings = rings.fillna(0)\n",
    "\n",
    "trinket = pd.read_csv('E:/Projets IT/Python/Wow Gear/trinket-Prebis.csv')\n",
    "trinket = trinket.fillna(0)\n",
    "\n",
    "ranged = pd.read_csv('E:/Projets IT/Python/Wow Gear/ranged-Prebis.csv')\n",
    "ranged = ranged.fillna(0)\n"
   ]
  },
  {
   "cell_type": "code",
   "execution_count": 33,
   "metadata": {},
   "outputs": [
    {
     "data": {
      "text/html": [
       "<div>\n",
       "<style scoped>\n",
       "    .dataframe tbody tr th:only-of-type {\n",
       "        vertical-align: middle;\n",
       "    }\n",
       "\n",
       "    .dataframe tbody tr th {\n",
       "        vertical-align: top;\n",
       "    }\n",
       "\n",
       "    .dataframe thead th {\n",
       "        text-align: right;\n",
       "    }\n",
       "</style>\n",
       "<table border=\"1\" class=\"dataframe\">\n",
       "  <thead>\n",
       "    <tr style=\"text-align: right;\">\n",
       "      <th></th>\n",
       "      <th>Name</th>\n",
       "      <th>Crit</th>\n",
       "      <th>Hit</th>\n",
       "      <th>Str</th>\n",
       "      <th>Sta</th>\n",
       "      <th>Agi</th>\n",
       "      <th>AP</th>\n",
       "      <th>Dodge</th>\n",
       "      <th>Parry</th>\n",
       "      <th>Defense</th>\n",
       "      <th>AC</th>\n",
       "      <th>Skill</th>\n",
       "      <th>Type</th>\n",
       "    </tr>\n",
       "  </thead>\n",
       "  <tbody>\n",
       "    <tr>\n",
       "      <th>0</th>\n",
       "      <td>Casque des taillis</td>\n",
       "      <td>1.0</td>\n",
       "      <td>0.0</td>\n",
       "      <td>0.0</td>\n",
       "      <td>13.0</td>\n",
       "      <td>21.0</td>\n",
       "      <td>0.0</td>\n",
       "      <td>0.0</td>\n",
       "      <td>0.0</td>\n",
       "      <td>0.0</td>\n",
       "      <td>301</td>\n",
       "      <td>6.0</td>\n",
       "      <td>Dagger</td>\n",
       "    </tr>\n",
       "    <tr>\n",
       "      <th>1</th>\n",
       "      <td>Oeil de Rend</td>\n",
       "      <td>2.0</td>\n",
       "      <td>0.0</td>\n",
       "      <td>0.0</td>\n",
       "      <td>7.0</td>\n",
       "      <td>13.0</td>\n",
       "      <td>0.0</td>\n",
       "      <td>0.0</td>\n",
       "      <td>0.0</td>\n",
       "      <td>0.0</td>\n",
       "      <td>143</td>\n",
       "      <td>0.0</td>\n",
       "      <td>0</td>\n",
       "    </tr>\n",
       "    <tr>\n",
       "      <th>2</th>\n",
       "      <td>Heaume de tyrannie</td>\n",
       "      <td>1.0</td>\n",
       "      <td>0.0</td>\n",
       "      <td>0.0</td>\n",
       "      <td>20.0</td>\n",
       "      <td>0.0</td>\n",
       "      <td>40.0</td>\n",
       "      <td>0.0</td>\n",
       "      <td>0.0</td>\n",
       "      <td>0.0</td>\n",
       "      <td>301</td>\n",
       "      <td>0.0</td>\n",
       "      <td>0</td>\n",
       "    </tr>\n",
       "    <tr>\n",
       "      <th>3</th>\n",
       "      <td>Heaume du grand croise</td>\n",
       "      <td>0.0</td>\n",
       "      <td>0.0</td>\n",
       "      <td>16.0</td>\n",
       "      <td>16.0</td>\n",
       "      <td>0.0</td>\n",
       "      <td>0.0</td>\n",
       "      <td>0.0</td>\n",
       "      <td>0.0</td>\n",
       "      <td>0.0</td>\n",
       "      <td>584</td>\n",
       "      <td>0.0</td>\n",
       "      <td>0</td>\n",
       "    </tr>\n",
       "    <tr>\n",
       "      <th>4</th>\n",
       "      <td>Cagoule sombreruse</td>\n",
       "      <td>0.0</td>\n",
       "      <td>0.0</td>\n",
       "      <td>13.0</td>\n",
       "      <td>18.0</td>\n",
       "      <td>20.0</td>\n",
       "      <td>0.0</td>\n",
       "      <td>0.0</td>\n",
       "      <td>0.0</td>\n",
       "      <td>0.0</td>\n",
       "      <td>141</td>\n",
       "      <td>7.0</td>\n",
       "      <td>Axe</td>\n",
       "    </tr>\n",
       "    <tr>\n",
       "      <th>5</th>\n",
       "      <td>Casque de vaillance</td>\n",
       "      <td>0.0</td>\n",
       "      <td>0.0</td>\n",
       "      <td>15.0</td>\n",
       "      <td>23.0</td>\n",
       "      <td>9.0</td>\n",
       "      <td>0.0</td>\n",
       "      <td>0.0</td>\n",
       "      <td>0.0</td>\n",
       "      <td>0.0</td>\n",
       "      <td>526</td>\n",
       "      <td>0.0</td>\n",
       "      <td>0</td>\n",
       "    </tr>\n",
       "    <tr>\n",
       "      <th>6</th>\n",
       "      <td>Coiffe de bestiaire</td>\n",
       "      <td>0.0</td>\n",
       "      <td>0.0</td>\n",
       "      <td>0.0</td>\n",
       "      <td>20.0</td>\n",
       "      <td>20.0</td>\n",
       "      <td>0.0</td>\n",
       "      <td>0.0</td>\n",
       "      <td>0.0</td>\n",
       "      <td>0.0</td>\n",
       "      <td>297</td>\n",
       "      <td>0.0</td>\n",
       "      <td>0</td>\n",
       "    </tr>\n",
       "    <tr>\n",
       "      <th>7</th>\n",
       "      <td>Casque de sancteforge</td>\n",
       "      <td>0.0</td>\n",
       "      <td>0.0</td>\n",
       "      <td>13.0</td>\n",
       "      <td>20.0</td>\n",
       "      <td>6.0</td>\n",
       "      <td>0.0</td>\n",
       "      <td>0.0</td>\n",
       "      <td>0.0</td>\n",
       "      <td>0.0</td>\n",
       "      <td>526</td>\n",
       "      <td>0.0</td>\n",
       "      <td>0</td>\n",
       "    </tr>\n",
       "    <tr>\n",
       "      <th>8</th>\n",
       "      <td>Heaume de thorium enchante</td>\n",
       "      <td>0.0</td>\n",
       "      <td>0.0</td>\n",
       "      <td>12.0</td>\n",
       "      <td>25.0</td>\n",
       "      <td>0.0</td>\n",
       "      <td>0.0</td>\n",
       "      <td>0.0</td>\n",
       "      <td>0.0</td>\n",
       "      <td>0.0</td>\n",
       "      <td>526</td>\n",
       "      <td>0.0</td>\n",
       "      <td>0</td>\n",
       "    </tr>\n",
       "    <tr>\n",
       "      <th>9</th>\n",
       "      <td>Masque du condamne</td>\n",
       "      <td>1.0</td>\n",
       "      <td>2.0</td>\n",
       "      <td>0.0</td>\n",
       "      <td>12.0</td>\n",
       "      <td>0.0</td>\n",
       "      <td>0.0</td>\n",
       "      <td>0.0</td>\n",
       "      <td>0.0</td>\n",
       "      <td>0.0</td>\n",
       "      <td>132</td>\n",
       "      <td>0.0</td>\n",
       "      <td>0</td>\n",
       "    </tr>\n",
       "    <tr>\n",
       "      <th>10</th>\n",
       "      <td>Heaume de gladiateur sauvage</td>\n",
       "      <td>0.0</td>\n",
       "      <td>0.0</td>\n",
       "      <td>0.0</td>\n",
       "      <td>28.0</td>\n",
       "      <td>12.0</td>\n",
       "      <td>0.0</td>\n",
       "      <td>0.0</td>\n",
       "      <td>0.0</td>\n",
       "      <td>0.0</td>\n",
       "      <td>275</td>\n",
       "      <td>0.0</td>\n",
       "      <td>0</td>\n",
       "    </tr>\n",
       "    <tr>\n",
       "      <th>11</th>\n",
       "      <td>Heaume du crane du golem</td>\n",
       "      <td>0.0</td>\n",
       "      <td>0.0</td>\n",
       "      <td>18.0</td>\n",
       "      <td>18.0</td>\n",
       "      <td>0.0</td>\n",
       "      <td>0.0</td>\n",
       "      <td>0.0</td>\n",
       "      <td>0.0</td>\n",
       "      <td>7.0</td>\n",
       "      <td>477</td>\n",
       "      <td>0.0</td>\n",
       "      <td>0</td>\n",
       "    </tr>\n",
       "    <tr>\n",
       "      <th>12</th>\n",
       "      <td>Cagoule rapiecee en cuir</td>\n",
       "      <td>0.0</td>\n",
       "      <td>1.0</td>\n",
       "      <td>23.0</td>\n",
       "      <td>10.0</td>\n",
       "      <td>0.0</td>\n",
       "      <td>0.0</td>\n",
       "      <td>0.0</td>\n",
       "      <td>0.0</td>\n",
       "      <td>0.0</td>\n",
       "      <td>130</td>\n",
       "      <td>0.0</td>\n",
       "      <td>0</td>\n",
       "    </tr>\n",
       "    <tr>\n",
       "      <th>13</th>\n",
       "      <td>Visiere de fureur</td>\n",
       "      <td>1.0</td>\n",
       "      <td>1.0</td>\n",
       "      <td>18.0</td>\n",
       "      <td>0.0</td>\n",
       "      <td>0.0</td>\n",
       "      <td>0.0</td>\n",
       "      <td>0.0</td>\n",
       "      <td>0.0</td>\n",
       "      <td>0.0</td>\n",
       "      <td>445</td>\n",
       "      <td>0.0</td>\n",
       "      <td>0</td>\n",
       "    </tr>\n",
       "  </tbody>\n",
       "</table>\n",
       "</div>"
      ],
      "text/plain": [
       "                            Name  Crit  Hit   Str   Sta   Agi    AP  Dodge  \\\n",
       "0             Casque des taillis   1.0  0.0   0.0  13.0  21.0   0.0    0.0   \n",
       "1                   Oeil de Rend   2.0  0.0   0.0   7.0  13.0   0.0    0.0   \n",
       "2             Heaume de tyrannie   1.0  0.0   0.0  20.0   0.0  40.0    0.0   \n",
       "3         Heaume du grand croise   0.0  0.0  16.0  16.0   0.0   0.0    0.0   \n",
       "4             Cagoule sombreruse   0.0  0.0  13.0  18.0  20.0   0.0    0.0   \n",
       "5            Casque de vaillance   0.0  0.0  15.0  23.0   9.0   0.0    0.0   \n",
       "6            Coiffe de bestiaire   0.0  0.0   0.0  20.0  20.0   0.0    0.0   \n",
       "7          Casque de sancteforge   0.0  0.0  13.0  20.0   6.0   0.0    0.0   \n",
       "8     Heaume de thorium enchante   0.0  0.0  12.0  25.0   0.0   0.0    0.0   \n",
       "9             Masque du condamne   1.0  2.0   0.0  12.0   0.0   0.0    0.0   \n",
       "10  Heaume de gladiateur sauvage   0.0  0.0   0.0  28.0  12.0   0.0    0.0   \n",
       "11      Heaume du crane du golem   0.0  0.0  18.0  18.0   0.0   0.0    0.0   \n",
       "12      Cagoule rapiecee en cuir   0.0  1.0  23.0  10.0   0.0   0.0    0.0   \n",
       "13             Visiere de fureur   1.0  1.0  18.0   0.0   0.0   0.0    0.0   \n",
       "\n",
       "    Parry  Defense   AC  Skill    Type  \n",
       "0     0.0      0.0  301    6.0  Dagger  \n",
       "1     0.0      0.0  143    0.0       0  \n",
       "2     0.0      0.0  301    0.0       0  \n",
       "3     0.0      0.0  584    0.0       0  \n",
       "4     0.0      0.0  141    7.0     Axe  \n",
       "5     0.0      0.0  526    0.0       0  \n",
       "6     0.0      0.0  297    0.0       0  \n",
       "7     0.0      0.0  526    0.0       0  \n",
       "8     0.0      0.0  526    0.0       0  \n",
       "9     0.0      0.0  132    0.0       0  \n",
       "10    0.0      0.0  275    0.0       0  \n",
       "11    0.0      7.0  477    0.0       0  \n",
       "12    0.0      0.0  130    0.0       0  \n",
       "13    0.0      0.0  445    0.0       0  "
      ]
     },
     "execution_count": 33,
     "metadata": {},
     "output_type": "execute_result"
    }
   ],
   "source": [
    "head.fillna(0)"
   ]
  },
  {
   "cell_type": "code",
   "execution_count": 117,
   "metadata": {},
   "outputs": [
    {
     "data": {
      "text/plain": [
       "'Hand of Justice'"
      ]
     },
     "execution_count": 117,
     "metadata": {},
     "output_type": "execute_result"
    }
   ],
   "source": [
    "gears = [item(np.array(head.loc[random.randint(0,len(head)-1)])), item(np.array(neck.loc[random.randint(0,len(neck)-1)])),\n",
    "        item(np.array(shoulder.loc[random.randint(0,len(shoulder)-1)])), item(np.array(back.loc[random.randint(0,len(back)-1)])),\n",
    "        item(np.array(chest.loc[random.randint(0,len(chest)-1)])), item(np.array(wrist.loc[random.randint(0,len(wrist)-1)])),\n",
    "        item(np.array(hands.loc[random.randint(0,len(hands)-1)])), item(np.array(waist.loc[random.randint(0,len(waist)-1)])),\n",
    "        item(np.array(legs.loc[random.randint(0,len(legs)-1)])), item(np.array(feet.loc[random.randint(0,len(feet)-1)])),\n",
    "        item(np.array(rings.loc[random.randint(0,len(rings)-1)])), item(np.array(rings.loc[random.randint(0,len(rings)-1)])),\n",
    "        item(np.array(trinket.loc[random.randint(0,len(trinket)-1)])), item(np.array(trinket.loc[random.randint(0,len(trinket)-1)])),\n",
    "        item(np.array(ranged.loc[random.randint(0,len(ranged)-1)]))]\n",
    "gears[12].name"
   ]
  },
  {
   "cell_type": "code",
   "execution_count": 118,
   "metadata": {},
   "outputs": [],
   "source": [
    "uu = bis(gears)"
   ]
  },
  {
   "cell_type": "code",
   "execution_count": 119,
   "metadata": {},
   "outputs": [
    {
     "data": {
      "text/plain": [
       "130"
      ]
     },
     "execution_count": 119,
     "metadata": {},
     "output_type": "execute_result"
    }
   ],
   "source": [
    "uu.head.armor"
   ]
  },
  {
   "cell_type": "code",
   "execution_count": 121,
   "metadata": {},
   "outputs": [
    {
     "name": "stdout",
     "output_type": "stream",
     "text": [
      "+stamina :152.0\n",
      "+armor :2792.0\n",
      "+str :64.0\n",
      "+agi :82.0\n",
      "+crit :9.1\n",
      "+hit :2.0\n",
      "+dodge :0.0\n",
      "SCORE : 1.7661183925962225\n",
      "a: 1.77\n"
     ]
    }
   ],
   "source": [
    "a = scoreFunc(uu)\n",
    "print('a: ' + str(round(a,2)))"
   ]
  },
  {
   "cell_type": "code",
   "execution_count": 122,
   "metadata": {},
   "outputs": [],
   "source": [
    "listEpmt = uu.listGear()"
   ]
  },
  {
   "cell_type": "code",
   "execution_count": 123,
   "metadata": {},
   "outputs": [
    {
     "data": {
      "text/plain": [
       "[strength : 23.0\n",
       " Name : Cagoule rapiecee en cuir, strength : 0.0\n",
       " Name : Stormrage's Talisman of Seething, strength : 0.0\n",
       " Name : Garde-epaules de la milice de stratholme]"
      ]
     },
     "execution_count": 123,
     "metadata": {},
     "output_type": "execute_result"
    }
   ],
   "source": [
    "listEpmt[0:3]"
   ]
  },
  {
   "cell_type": "code",
   "execution_count": 5,
   "metadata": {},
   "outputs": [
    {
     "ename": "NameError",
     "evalue": "name 'item' is not defined",
     "output_type": "error",
     "traceback": [
      "\u001b[1;31m---------------------------------------------------------------------------\u001b[0m",
      "\u001b[1;31mNameError\u001b[0m                                 Traceback (most recent call last)",
      "\u001b[1;32m<ipython-input-5-f9da8a04871c>\u001b[0m in \u001b[0;36m<module>\u001b[1;34m\u001b[0m\n\u001b[0;32m      2\u001b[0m \u001b[0mtmpScore\u001b[0m \u001b[1;33m=\u001b[0m \u001b[1;36m0\u001b[0m\u001b[1;33m\u001b[0m\u001b[1;33m\u001b[0m\u001b[0m\n\u001b[0;32m      3\u001b[0m \u001b[1;32mfor\u001b[0m \u001b[0mi\u001b[0m \u001b[1;32min\u001b[0m \u001b[0mrange\u001b[0m \u001b[1;33m(\u001b[0m\u001b[1;36m100\u001b[0m\u001b[1;33m)\u001b[0m\u001b[1;33m:\u001b[0m\u001b[1;33m\u001b[0m\u001b[1;33m\u001b[0m\u001b[0m\n\u001b[1;32m----> 4\u001b[1;33m     gears = [item(np.array(head.loc[random.randint(0,len(head)-1)])), item(np.array(neck.loc[random.randint(0,len(neck)-1)])),\n\u001b[0m\u001b[0;32m      5\u001b[0m         \u001b[0mitem\u001b[0m\u001b[1;33m(\u001b[0m\u001b[0mnp\u001b[0m\u001b[1;33m.\u001b[0m\u001b[0marray\u001b[0m\u001b[1;33m(\u001b[0m\u001b[0mshoulder\u001b[0m\u001b[1;33m.\u001b[0m\u001b[0mloc\u001b[0m\u001b[1;33m[\u001b[0m\u001b[0mrandom\u001b[0m\u001b[1;33m.\u001b[0m\u001b[0mrandint\u001b[0m\u001b[1;33m(\u001b[0m\u001b[1;36m0\u001b[0m\u001b[1;33m,\u001b[0m\u001b[0mlen\u001b[0m\u001b[1;33m(\u001b[0m\u001b[0mshoulder\u001b[0m\u001b[1;33m)\u001b[0m\u001b[1;33m-\u001b[0m\u001b[1;36m1\u001b[0m\u001b[1;33m)\u001b[0m\u001b[1;33m]\u001b[0m\u001b[1;33m)\u001b[0m\u001b[1;33m)\u001b[0m\u001b[1;33m,\u001b[0m \u001b[0mitem\u001b[0m\u001b[1;33m(\u001b[0m\u001b[0mnp\u001b[0m\u001b[1;33m.\u001b[0m\u001b[0marray\u001b[0m\u001b[1;33m(\u001b[0m\u001b[0mback\u001b[0m\u001b[1;33m.\u001b[0m\u001b[0mloc\u001b[0m\u001b[1;33m[\u001b[0m\u001b[0mrandom\u001b[0m\u001b[1;33m.\u001b[0m\u001b[0mrandint\u001b[0m\u001b[1;33m(\u001b[0m\u001b[1;36m0\u001b[0m\u001b[1;33m,\u001b[0m\u001b[0mlen\u001b[0m\u001b[1;33m(\u001b[0m\u001b[0mback\u001b[0m\u001b[1;33m)\u001b[0m\u001b[1;33m-\u001b[0m\u001b[1;36m1\u001b[0m\u001b[1;33m)\u001b[0m\u001b[1;33m]\u001b[0m\u001b[1;33m)\u001b[0m\u001b[1;33m)\u001b[0m\u001b[1;33m,\u001b[0m\u001b[1;33m\u001b[0m\u001b[1;33m\u001b[0m\u001b[0m\n\u001b[0;32m      6\u001b[0m         \u001b[0mitem\u001b[0m\u001b[1;33m(\u001b[0m\u001b[0mnp\u001b[0m\u001b[1;33m.\u001b[0m\u001b[0marray\u001b[0m\u001b[1;33m(\u001b[0m\u001b[0mchest\u001b[0m\u001b[1;33m.\u001b[0m\u001b[0mloc\u001b[0m\u001b[1;33m[\u001b[0m\u001b[0mrandom\u001b[0m\u001b[1;33m.\u001b[0m\u001b[0mrandint\u001b[0m\u001b[1;33m(\u001b[0m\u001b[1;36m0\u001b[0m\u001b[1;33m,\u001b[0m\u001b[0mlen\u001b[0m\u001b[1;33m(\u001b[0m\u001b[0mchest\u001b[0m\u001b[1;33m)\u001b[0m\u001b[1;33m-\u001b[0m\u001b[1;36m1\u001b[0m\u001b[1;33m)\u001b[0m\u001b[1;33m]\u001b[0m\u001b[1;33m)\u001b[0m\u001b[1;33m)\u001b[0m\u001b[1;33m,\u001b[0m \u001b[0mitem\u001b[0m\u001b[1;33m(\u001b[0m\u001b[0mnp\u001b[0m\u001b[1;33m.\u001b[0m\u001b[0marray\u001b[0m\u001b[1;33m(\u001b[0m\u001b[0mwrist\u001b[0m\u001b[1;33m.\u001b[0m\u001b[0mloc\u001b[0m\u001b[1;33m[\u001b[0m\u001b[0mrandom\u001b[0m\u001b[1;33m.\u001b[0m\u001b[0mrandint\u001b[0m\u001b[1;33m(\u001b[0m\u001b[1;36m0\u001b[0m\u001b[1;33m,\u001b[0m\u001b[0mlen\u001b[0m\u001b[1;33m(\u001b[0m\u001b[0mwrist\u001b[0m\u001b[1;33m)\u001b[0m\u001b[1;33m-\u001b[0m\u001b[1;36m1\u001b[0m\u001b[1;33m)\u001b[0m\u001b[1;33m]\u001b[0m\u001b[1;33m)\u001b[0m\u001b[1;33m)\u001b[0m\u001b[1;33m,\u001b[0m\u001b[1;33m\u001b[0m\u001b[1;33m\u001b[0m\u001b[0m\n",
      "\u001b[1;31mNameError\u001b[0m: name 'item' is not defined"
     ]
    }
   ],
   "source": [
    "bestscore = 0\n",
    "tmpScore = 0\n",
    "for i in range (100):\n",
    "    gears = [item(np.array(head.loc[random.randint(0,len(head)-1)])), item(np.array(neck.loc[random.randint(0,len(neck)-1)])),\n",
    "        item(np.array(shoulder.loc[random.randint(0,len(shoulder)-1)])), item(np.array(back.loc[random.randint(0,len(back)-1)])),\n",
    "        item(np.array(chest.loc[random.randint(0,len(chest)-1)])), item(np.array(wrist.loc[random.randint(0,len(wrist)-1)])),\n",
    "        item(np.array(hands.loc[random.randint(0,len(hands)-1)])), item(np.array(waist.loc[random.randint(0,len(waist)-1)])),\n",
    "        item(np.array(legs.loc[random.randint(0,len(legs)-1)])), item(np.array(feet.loc[random.randint(0,len(feet)-1)])),\n",
    "        item(np.array(rings.loc[random.randint(0,len(rings)-1)])), item(np.array(rings.loc[random.randint(0,len(rings)-1)])),\n",
    "        item(np.array(trinket.loc[random.randint(0,len(trinket)-1)])), item(np.array(trinket.loc[random.randint(0,len(trinket)-1)])),\n",
    "        item(np.array(ranged.loc[random.randint(0,len(ranged)-1)]))]\n",
    "    uu = bis(gears)\n",
    "    tmpscore = scoreFunc(uu)\n",
    "    if tmpscore > bestscore:\n",
    "        bestScore = tmpScore\n",
    "        bestgears = gears"
   ]
  },
  {
   "cell_type": "code",
   "execution_count": 50,
   "metadata": {},
   "outputs": [
    {
     "data": {
      "text/plain": [
       "[strength : 18.0\n",
       " Name : Visiere de fureur, strength : 0.0\n",
       " Name : Sadist's Collar, strength : 12.0\n",
       " Name : spallieress de tueur de wyrm, strength : 0.0\n",
       " Name : cape du fantome noir, strength : 13.0\n",
       " Name : Armure hydralique, strength : 0.0\n",
       " Name : Protege-bras de vigueur, strength : 10.0\n",
       " Name : Garde-mains gordoks, strength : 9.0\n",
       " Name : ceinturon d'uther, strength : 28.0\n",
       " Name : jambieres de force volcanique, strength : 8.0\n",
       " Name : bottes de vaillance, strength : 12.0\n",
       " Name : Circle of Applied Force, strength : 0.0\n",
       " Name : Might of Cenarius, strength : 0.0\n",
       " Name : Hand of Justice, strength : 0.0\n",
       " Name : Earthstrike, strength : 0.0\n",
       " Name : Larvae of the Great Worm]"
      ]
     },
     "execution_count": 50,
     "metadata": {},
     "output_type": "execute_result"
    }
   ],
   "source": [
    "bestgears"
   ]
  },
  {
   "cell_type": "code",
   "execution_count": null,
   "metadata": {},
   "outputs": [],
   "source": [
    "scoreFunc(bestgears)"
   ]
  },
  {
   "cell_type": "code",
   "execution_count": null,
   "metadata": {},
   "outputs": [],
   "source": [
    "bestscore"
   ]
  },
  {
   "cell_type": "code",
   "execution_count": 125,
   "metadata": {},
   "outputs": [],
   "source": [
    "tt = bis(bestgears)"
   ]
  },
  {
   "cell_type": "code",
   "execution_count": 126,
   "metadata": {},
   "outputs": [
    {
     "name": "stdout",
     "output_type": "stream",
     "text": [
      "+stamina :143.0\n",
      "+armor :2580.0\n",
      "+str :147.0\n",
      "+agi :118.0\n",
      "+crit :6.9\n",
      "+hit :2.0\n",
      "+dodge :0.0\n",
      "SCORE : 1.8439781206046393\n"
     ]
    },
    {
     "data": {
      "text/plain": [
       "1.8439781206046393"
      ]
     },
     "execution_count": 126,
     "metadata": {},
     "output_type": "execute_result"
    }
   ],
   "source": [
    "ff = scoreFunc(tt)\n",
    "ff"
   ]
  },
  {
   "cell_type": "code",
   "execution_count": 53,
   "metadata": {},
   "outputs": [
    {
     "data": {
      "text/plain": [
       "array(['Visiere de fureur', 1.0, 1.0, 18.0, 0.0, 0.0, 0.0, 0.0, 0.0, 0.0,\n",
       "       445, 0.0, 0], dtype=object)"
      ]
     },
     "execution_count": 53,
     "metadata": {},
     "output_type": "execute_result"
    }
   ],
   "source": [
    "np.array(head.loc[random.randint(0,len(head))])"
   ]
  },
  {
   "cell_type": "code",
   "execution_count": 297,
   "metadata": {},
   "outputs": [
    {
     "data": {
      "text/plain": [
       "0"
      ]
     },
     "execution_count": 297,
     "metadata": {},
     "output_type": "execute_result"
    }
   ],
   "source": [
    "random.randint(0, len(head)-1)"
   ]
  },
  {
   "cell_type": "markdown",
   "metadata": {},
   "source": [
    "Name\tCrit\tHit\tStr\tSta\tAgi\tAP\tDodge\tParry\tDefense\tAC\tSkill\tType\n"
   ]
  },
  {
   "cell_type": "code",
   "execution_count": 73,
   "metadata": {},
   "outputs": [],
   "source": [
    "population = np.array([])\n",
    "for i in range(0, 1000): #100 chromosomes are randomly created first\n",
    "    gears = [item(np.array(head.loc[random.randint(0,len(head)-1)])), item(np.array(neck.loc[random.randint(0,len(neck)-1)])),\n",
    "        item(np.array(shoulder.loc[random.randint(0,len(shoulder)-1)])), item(np.array(back.loc[random.randint(0,len(back)-1)])),\n",
    "        item(np.array(chest.loc[random.randint(0,len(chest)-1)])), item(np.array(wrist.loc[random.randint(0,len(wrist)-1)])),\n",
    "        item(np.array(hands.loc[random.randint(0,len(hands)-1)])), item(np.array(waist.loc[random.randint(0,len(waist)-1)])),\n",
    "        item(np.array(legs.loc[random.randint(0,len(legs)-1)])), item(np.array(feet.loc[random.randint(0,len(feet)-1)])),\n",
    "        item(np.array(rings.loc[random.randint(0,len(rings)-1)])), item(np.array(rings.loc[random.randint(0,len(rings)-1)])),\n",
    "        item(np.array(trinket.loc[random.randint(0,len(trinket)-1)])), item(np.array(trinket.loc[random.randint(0,len(trinket)-1)])),\n",
    "        item(np.array(ranged.loc[random.randint(0,len(ranged)-1)]))]\n",
    "    tmpC = bis(gears)\n",
    "    population = np.append(population, tmpC)"
   ]
  },
  {
   "cell_type": "code",
   "execution_count": 74,
   "metadata": {},
   "outputs": [
    {
     "name": "stdout",
     "output_type": "stream",
     "text": [
      "tralala\n",
      "set :\n",
      "['Heaume de tyrannie', \"Stormrage's Talisman of Seething\", \"spallieres d'acier ebene\", 'cape du bastion', 'Armure hydralique', \"Protege-bras d'acier glace\", 'gantelet des ossements', 'echarpe serpentine', 'jambieres de maitre forgeron', 'bottes du chasseur de guerre', 'Band of Reanimation', 'Band of Unnatural Forces', 'Jom Gabbar', 'Diamond Flask', 'Silithid Husked Launcher']\n",
      "+stamina :170.0\n",
      "+armor :3188.0\n",
      "+str :158.0\n",
      "+agi :80.0\n",
      "+crit :8.0\n",
      "+hit :1.0\n",
      "+dodge :0.0\n",
      "SCORE : 1.7167745271272572\n"
     ]
    },
    {
     "data": {
      "text/plain": [
       "1.7167745271272572"
      ]
     },
     "execution_count": 74,
     "metadata": {},
     "output_type": "execute_result"
    }
   ],
   "source": [
    "scoreFunc(population[50])"
   ]
  },
  {
   "cell_type": "code",
   "execution_count": 56,
   "metadata": {},
   "outputs": [
    {
     "data": {
      "text/plain": [
       "17"
      ]
     },
     "execution_count": 56,
     "metadata": {},
     "output_type": "execute_result"
    }
   ],
   "source": [
    "len(tt.head.name)"
   ]
  },
  {
   "cell_type": "code",
   "execution_count": 7,
   "metadata": {},
   "outputs": [],
   "source": [
    "def crossoverSinglePoint(chromo1, chromo2):\n",
    "    #lenChromo = int(len(chromo1.nodes) / 2)\n",
    "    lenChromo1 = 7\n",
    "    lenChromo2 = 8\n",
    "    gear1 = chromo1.listGear()\n",
    "    gear2 = chromo2.listGear()\n",
    "    childrenChr = np.append(gear1[0:lenChromo1], gear2[lenChromo1:len(gear1)])\n",
    "    return childrenChr"
   ]
  },
  {
   "cell_type": "code",
   "execution_count": 98,
   "metadata": {},
   "outputs": [],
   "source": [
    "g1 = [item(np.array(head.loc[random.randint(0,len(head)-1)])), item(np.array(neck.loc[random.randint(0,len(neck)-1)])),\n",
    "        item(np.array(shoulder.loc[random.randint(0,len(shoulder)-1)])), item(np.array(back.loc[random.randint(0,len(back)-1)])),\n",
    "        item(np.array(chest.loc[random.randint(0,len(chest)-1)])), item(np.array(wrist.loc[random.randint(0,len(wrist)-1)])),\n",
    "        item(np.array(hands.loc[random.randint(0,len(hands)-1)])), item(np.array(waist.loc[random.randint(0,len(waist)-1)])),\n",
    "        item(np.array(legs.loc[random.randint(0,len(legs)-1)])), item(np.array(feet.loc[random.randint(0,len(feet)-1)])),\n",
    "        item(np.array(rings.loc[random.randint(0,len(rings)-1)])), item(np.array(rings.loc[random.randint(0,len(rings)-1)])),\n",
    "        item(np.array(trinket.loc[random.randint(0,len(trinket)-1)])), item(np.array(trinket.loc[random.randint(0,len(trinket)-1)])),\n",
    "        item(np.array(ranged.loc[random.randint(0,len(ranged)-1)]))]\n",
    "g2 = [item(np.array(head.loc[random.randint(0,len(head)-1)])), item(np.array(neck.loc[random.randint(0,len(neck)-1)])),\n",
    "        item(np.array(shoulder.loc[random.randint(0,len(shoulder)-1)])), item(np.array(back.loc[random.randint(0,len(back)-1)])),\n",
    "        item(np.array(chest.loc[random.randint(0,len(chest)-1)])), item(np.array(wrist.loc[random.randint(0,len(wrist)-1)])),\n",
    "        item(np.array(hands.loc[random.randint(0,len(hands)-1)])), item(np.array(waist.loc[random.randint(0,len(waist)-1)])),\n",
    "        item(np.array(legs.loc[random.randint(0,len(legs)-1)])), item(np.array(feet.loc[random.randint(0,len(feet)-1)])),\n",
    "        item(np.array(rings.loc[random.randint(0,len(rings)-1)])), item(np.array(rings.loc[random.randint(0,len(rings)-1)])),\n",
    "        item(np.array(trinket.loc[random.randint(0,len(trinket)-1)])), item(np.array(trinket.loc[random.randint(0,len(trinket)-1)])),\n",
    "        item(np.array(ranged.loc[random.randint(0,len(ranged)-1)]))]"
   ]
  },
  {
   "cell_type": "code",
   "execution_count": 99,
   "metadata": {},
   "outputs": [
    {
     "data": {
      "text/plain": [
       "array([strength : 0.0\n",
       "Name : Casque des taillis,\n",
       "       strength : 0.0\n",
       "Name : Eskhandar's Collar,\n",
       "       strength : 0.0\n",
       "Name : epaulieres langue-de-wyrm,\n",
       "       strength : 0.0\n",
       "Name : cape du baron noir,\n",
       "       strength : 0.0\n",
       "Name : Etreinte du guerrier,\n",
       "       strength : 12.0\n",
       "Name : Protege-bras d'acier glace,\n",
       "       strength : 17.0\n",
       "Name : gantelets de vaillance,\n",
       "       strength : 15.0\n",
       "Name : corset d'omokk,\n",
       "       strength : 0.0\n",
       "Name : jambieres de maitre-lames,\n",
       "       strength : 14.0\n",
       "Name : bottes du chasseur de guerre,\n",
       "       strength : 11.0\n",
       "Name : Signet of Unyielding Strength,\n",
       "       strength : 0.0\n",
       "Name : Painweaver Band,\n",
       "       strength : 0.0\n",
       "Name : Seal of the Dawn,\n",
       "       strength : 0.0\n",
       "Name : Drake Fang Talisman,\n",
       "       strength : 3.0\n",
       "Name : Skull Splitting Crossbow], dtype=object)"
      ]
     },
     "execution_count": 99,
     "metadata": {},
     "output_type": "execute_result"
    }
   ],
   "source": [
    "ge1 = bis(g1)\n",
    "ge2 = bis(g2)\n",
    "\n",
    "crossoverSinglePoint(ge1, ge2)"
   ]
  },
  {
   "cell_type": "code",
   "execution_count": 100,
   "metadata": {},
   "outputs": [
    {
     "data": {
      "text/plain": [
       "[strength : 0.0\n",
       " Name : Casque des taillis, strength : 0.0\n",
       " Name : Eskhandar's Collar, strength : 0.0\n",
       " Name : epaulieres langue-de-wyrm, strength : 0.0\n",
       " Name : cape du baron noir, strength : 0.0\n",
       " Name : Etreinte du guerrier, strength : 12.0\n",
       " Name : Protege-bras d'acier glace, strength : 17.0\n",
       " Name : gantelets de vaillance, strength : 15.0\n",
       " Name : corset d'omokk, strength : 20.0\n",
       " Name : jambieres de sancteforge, strength : 17.0\n",
       " Name : bottes en metal sales, strength : 0.0\n",
       " Name : Ring of Fury, strength : 0.0\n",
       " Name : Tarnished Elven Ring, strength : 0.0\n",
       " Name : Seal of the Dawn, strength : 0.0\n",
       " Name : Counterattack Lodestone, strength : 0.0\n",
       " Name : Fahrad's Reloading Repeater]"
      ]
     },
     "execution_count": 100,
     "metadata": {},
     "output_type": "execute_result"
    }
   ],
   "source": [
    "ge1.listGear()"
   ]
  },
  {
   "cell_type": "code",
   "execution_count": 6,
   "metadata": {},
   "outputs": [
    {
     "ename": "NameError",
     "evalue": "name 'np' is not defined",
     "output_type": "error",
     "traceback": [
      "\u001b[1;31m---------------------------------------------------------------------------\u001b[0m",
      "\u001b[1;31mNameError\u001b[0m                                 Traceback (most recent call last)",
      "\u001b[1;32m<ipython-input-6-07d21d0e75a0>\u001b[0m in \u001b[0;36m<module>\u001b[1;34m\u001b[0m\n\u001b[0;32m      1\u001b[0m \u001b[1;32mimport\u001b[0m \u001b[0mheapq\u001b[0m\u001b[1;33m\u001b[0m\u001b[1;33m\u001b[0m\u001b[0m\n\u001b[0;32m      2\u001b[0m \u001b[1;33m\u001b[0m\u001b[0m\n\u001b[1;32m----> 3\u001b[1;33m \u001b[0mpopulation\u001b[0m \u001b[1;33m=\u001b[0m \u001b[0mnp\u001b[0m\u001b[1;33m.\u001b[0m\u001b[0marray\u001b[0m\u001b[1;33m(\u001b[0m\u001b[1;33m[\u001b[0m\u001b[1;33m]\u001b[0m\u001b[1;33m)\u001b[0m\u001b[1;33m\u001b[0m\u001b[1;33m\u001b[0m\u001b[0m\n\u001b[0m\u001b[0;32m      4\u001b[0m \u001b[1;32mfor\u001b[0m \u001b[0mi\u001b[0m \u001b[1;32min\u001b[0m \u001b[0mrange\u001b[0m\u001b[1;33m(\u001b[0m\u001b[1;36m0\u001b[0m\u001b[1;33m,\u001b[0m \u001b[1;36m1000\u001b[0m\u001b[1;33m)\u001b[0m\u001b[1;33m:\u001b[0m \u001b[1;31m#100 chromosomes are randomly created first\u001b[0m\u001b[1;33m\u001b[0m\u001b[1;33m\u001b[0m\u001b[0m\n\u001b[0;32m      5\u001b[0m     \u001b[0mprint\u001b[0m\u001b[1;33m(\u001b[0m\u001b[1;34m'iter'\u001b[0m\u001b[1;33m)\u001b[0m\u001b[1;33m\u001b[0m\u001b[1;33m\u001b[0m\u001b[0m\n",
      "\u001b[1;31mNameError\u001b[0m: name 'np' is not defined"
     ]
    }
   ],
   "source": [
    "import heapq\n",
    "\n",
    "population = np.array([])\n",
    "for i in range(0, 1000): #100 chromosomes are randomly created first\n",
    "    print('iter')\n",
    "    gears = [item(np.array(head.loc[random.randint(0,len(head)-1)])), item(np.array(neck.loc[random.randint(0,len(neck)-1)])),\n",
    "        item(np.array(shoulder.loc[random.randint(0,len(shoulder)-1)])), item(np.array(back.loc[random.randint(0,len(back)-1)])),\n",
    "        item(np.array(chest.loc[random.randint(0,len(chest)-1)])), item(np.array(wrist.loc[random.randint(0,len(wrist)-1)])),\n",
    "        item(np.array(hands.loc[random.randint(0,len(hands)-1)])), item(np.array(waist.loc[random.randint(0,len(waist)-1)])),\n",
    "        item(np.array(legs.loc[random.randint(0,len(legs)-1)])), item(np.array(feet.loc[random.randint(0,len(feet)-1)])),\n",
    "        item(np.array(rings.loc[random.randint(0,len(rings)-1)])), item(np.array(rings.loc[random.randint(0,len(rings)-1)])),\n",
    "        item(np.array(trinket.loc[random.randint(0,len(trinket)-1)])), item(np.array(trinket.loc[random.randint(0,len(trinket)-1)])),\n",
    "        item(np.array(ranged.loc[random.randint(0,len(ranged)-1)]))]\n",
    "    tmpC = bis(gears)\n",
    "    population = np.append(population, tmpC)\n",
    "\n",
    "fitMax = 0\n",
    "X_opti = np.array([]) #initialization of X axis for the graph\n",
    "Y_opti = np.array([]) #initialization of Y axis for the graph\n",
    "for z in range(0,1000):\n",
    "    print('ITERATION {}'.format(z))\n",
    "    fitList = np.array([])\n",
    "    \n",
    "    #fitList = array of the score of the population\n",
    "    for i in range(0,len(population)):\n",
    "        fitList = np.append(fitList, scoreFunc(population[i]))\n",
    "        if fitList[i] > fitMax:\n",
    "            fitMax = fitList[i]\n",
    "            bestSolution = population[i] #selection of the best candidate\n",
    "    if fitMax > 20:\n",
    "            break\n",
    "    #select the 10 best chromosomes according to their scores, \n",
    "    #the array is ordered from higher to lower score, give 18 children\n",
    "    IndexfitBest = heapq.nlargest(100, range(len(fitList)), fitList.take)\n",
    "    population_best = np.take(population, IndexfitBest)\n",
    "    \n",
    "    #initialization of the new population with 20 best scored chromosomes\n",
    "    child = np.array([population_best[0:10]]) #20 best chromosomes kept\n",
    "\n",
    "    #Creation of the children :\n",
    "    for u in range(9, len(population_best)):\n",
    "        crossChr1 = bis(crossoverSinglePoint(population_best[u-1], population_best[u]))\n",
    "        crossChr2 = bis(crossoverSinglePoint(population_best[u], population_best[u-1]))\n",
    "        child = np.append(child, crossChr1)\n",
    "        child = np.append(child, crossChr2)\n",
    "    population = child\n",
    "    print(np.max(fitList)) #Print the best score of the best candidate\n",
    "    X_opti = np.append(X_opti, z) #keep track of iterations\n",
    "    Y_opti = np.append(Y_opti, np.max(fitList)) #keep track of the best score obtained\n",
    "\n",
    "\n",
    "    #Mutation\n",
    "    for mutIter in range(0, len(population)-1):\n",
    "        rand = random.randint(0,14)\n",
    "        mut = mutation(rand,population[mutIter])        # a mutation has 10% chance to occur\n",
    "        population[mutIter] = mut\n",
    "        \n",
    "plt.figure(figsize=(6,4))\n",
    "plt.plot(X_opti, Y_opti) #Y axis = maximum name visited\n",
    "plt.ylabel('Gear Score')\n",
    "plt.xlabel('Number of Iterations')\n",
    "plt.xlim(0,1000)\n",
    "plt.title('Best Gear Score / Number of iteration')\n",
    "plt.show()"
   ]
  },
  {
   "cell_type": "code",
   "execution_count": 197,
   "metadata": {},
   "outputs": [
    {
     "data": {
      "text/plain": [
       "100"
      ]
     },
     "execution_count": 197,
     "metadata": {},
     "output_type": "execute_result"
    }
   ],
   "source": [
    "len(population_best)"
   ]
  },
  {
   "cell_type": "code",
   "execution_count": 9,
   "metadata": {},
   "outputs": [
    {
     "data": {
      "text/plain": [
       "strength : 18.0\n",
       "Name : Visiere de fureur"
      ]
     },
     "execution_count": 9,
     "metadata": {},
     "output_type": "execute_result"
    }
   ],
   "source": [
    "population[0].head"
   ]
  },
  {
   "cell_type": "code",
   "execution_count": 7,
   "metadata": {},
   "outputs": [
    {
     "ename": "NameError",
     "evalue": "name 'population_best' is not defined",
     "output_type": "error",
     "traceback": [
      "\u001b[1;31m---------------------------------------------------------------------------\u001b[0m",
      "\u001b[1;31mNameError\u001b[0m                                 Traceback (most recent call last)",
      "\u001b[1;32m<ipython-input-7-ae76a8984f39>\u001b[0m in \u001b[0;36m<module>\u001b[1;34m\u001b[0m\n\u001b[1;32m----> 1\u001b[1;33m \u001b[1;32mfor\u001b[0m \u001b[0mi\u001b[0m \u001b[1;32min\u001b[0m \u001b[0mrange\u001b[0m\u001b[1;33m(\u001b[0m\u001b[1;36m0\u001b[0m\u001b[1;33m,\u001b[0m\u001b[0mlen\u001b[0m\u001b[1;33m(\u001b[0m\u001b[0mpopulation_best\u001b[0m\u001b[1;33m)\u001b[0m\u001b[1;33m)\u001b[0m\u001b[1;33m:\u001b[0m\u001b[1;33m\u001b[0m\u001b[1;33m\u001b[0m\u001b[0m\n\u001b[0m\u001b[0;32m      2\u001b[0m     \u001b[0mscoreFunc\u001b[0m\u001b[1;33m(\u001b[0m\u001b[0mpopulation_best\u001b[0m\u001b[1;33m[\u001b[0m\u001b[0mi\u001b[0m\u001b[1;33m]\u001b[0m\u001b[1;33m)\u001b[0m\u001b[1;33m\u001b[0m\u001b[1;33m\u001b[0m\u001b[0m\n",
      "\u001b[1;31mNameError\u001b[0m: name 'population_best' is not defined"
     ]
    }
   ],
   "source": [
    "for i in range(0,len(population_best)):\n",
    "    scoreFunc(population_best[i])"
   ]
  },
  {
   "cell_type": "code",
   "execution_count": 1,
   "metadata": {},
   "outputs": [
    {
     "ename": "NameError",
     "evalue": "name 'random' is not defined",
     "output_type": "error",
     "traceback": [
      "\u001b[1;31m---------------------------------------------------------------------------\u001b[0m",
      "\u001b[1;31mNameError\u001b[0m                                 Traceback (most recent call last)",
      "\u001b[1;32m<ipython-input-1-b4c7f24aed89>\u001b[0m in \u001b[0;36m<module>\u001b[1;34m\u001b[0m\n\u001b[1;32m----> 1\u001b[1;33m \u001b[0mrandom\u001b[0m\u001b[1;33m.\u001b[0m\u001b[0mrandom\u001b[0m\u001b[1;33m(\u001b[0m\u001b[1;36m15\u001b[0m\u001b[1;33m)\u001b[0m\u001b[1;33m\u001b[0m\u001b[1;33m\u001b[0m\u001b[0m\n\u001b[0m",
      "\u001b[1;31mNameError\u001b[0m: name 'random' is not defined"
     ]
    }
   ],
   "source": [
    "random.random(15)"
   ]
  },
  {
   "cell_type": "code",
   "execution_count": 67,
   "metadata": {},
   "outputs": [
    {
     "ename": "IndexError",
     "evalue": "index 10 is out of bounds for axis 0 with size 10",
     "output_type": "error",
     "traceback": [
      "\u001b[1;31m---------------------------------------------------------------------------\u001b[0m",
      "\u001b[1;31mIndexError\u001b[0m                                Traceback (most recent call last)",
      "\u001b[1;32m<ipython-input-67-059640b5259a>\u001b[0m in \u001b[0;36m<module>\u001b[1;34m\u001b[0m\n\u001b[1;32m----> 1\u001b[1;33m \u001b[0mscoreFunc\u001b[0m\u001b[1;33m(\u001b[0m\u001b[0mbis\u001b[0m\u001b[1;33m(\u001b[0m\u001b[0mpopulation\u001b[0m\u001b[1;33m[\u001b[0m\u001b[1;36m0\u001b[0m\u001b[1;33m]\u001b[0m\u001b[1;33m)\u001b[0m\u001b[1;33m)\u001b[0m\u001b[1;33m\u001b[0m\u001b[1;33m\u001b[0m\u001b[0m\n\u001b[0m",
      "\u001b[1;32m<ipython-input-41-beea37ae78e1>\u001b[0m in \u001b[0;36m__init__\u001b[1;34m(self, itemTable)\u001b[0m\n\u001b[0;32m     13\u001b[0m         \u001b[0mself\u001b[0m\u001b[1;33m.\u001b[0m\u001b[0mlegs\u001b[0m \u001b[1;33m=\u001b[0m \u001b[0mitemTable\u001b[0m\u001b[1;33m[\u001b[0m\u001b[1;36m8\u001b[0m\u001b[1;33m]\u001b[0m\u001b[1;33m\u001b[0m\u001b[1;33m\u001b[0m\u001b[0m\n\u001b[0;32m     14\u001b[0m         \u001b[0mself\u001b[0m\u001b[1;33m.\u001b[0m\u001b[0mfeet\u001b[0m \u001b[1;33m=\u001b[0m \u001b[0mitemTable\u001b[0m\u001b[1;33m[\u001b[0m\u001b[1;36m9\u001b[0m\u001b[1;33m]\u001b[0m\u001b[1;33m\u001b[0m\u001b[1;33m\u001b[0m\u001b[0m\n\u001b[1;32m---> 15\u001b[1;33m         \u001b[0mself\u001b[0m\u001b[1;33m.\u001b[0m\u001b[0mring1\u001b[0m \u001b[1;33m=\u001b[0m \u001b[0mitemTable\u001b[0m\u001b[1;33m[\u001b[0m\u001b[1;36m10\u001b[0m\u001b[1;33m]\u001b[0m\u001b[1;33m\u001b[0m\u001b[1;33m\u001b[0m\u001b[0m\n\u001b[0m\u001b[0;32m     16\u001b[0m         \u001b[0mself\u001b[0m\u001b[1;33m.\u001b[0m\u001b[0mring2\u001b[0m \u001b[1;33m=\u001b[0m \u001b[0mitemTable\u001b[0m\u001b[1;33m[\u001b[0m\u001b[1;36m11\u001b[0m\u001b[1;33m]\u001b[0m\u001b[1;33m\u001b[0m\u001b[1;33m\u001b[0m\u001b[0m\n\u001b[0;32m     17\u001b[0m         \u001b[0mself\u001b[0m\u001b[1;33m.\u001b[0m\u001b[0mtrinket1\u001b[0m \u001b[1;33m=\u001b[0m \u001b[0mitemTable\u001b[0m\u001b[1;33m[\u001b[0m\u001b[1;36m12\u001b[0m\u001b[1;33m]\u001b[0m\u001b[1;33m\u001b[0m\u001b[1;33m\u001b[0m\u001b[0m\n",
      "\u001b[1;31mIndexError\u001b[0m: index 10 is out of bounds for axis 0 with size 10"
     ]
    }
   ],
   "source": [
    "scoreFunc(bis(population[0]))"
   ]
  },
  {
   "cell_type": "code",
   "execution_count": 144,
   "metadata": {},
   "outputs": [
    {
     "name": "stdout",
     "output_type": "stream",
     "text": [
      "2\n",
      "1\n",
      "3\n",
      "1\n",
      "2\n",
      "0\n",
      "3\n",
      "1\n",
      "0\n",
      "2\n",
      "0\n",
      "2\n",
      "3\n",
      "0\n",
      "1\n",
      "1\n",
      "2\n",
      "3\n",
      "3\n",
      "3\n",
      "3\n",
      "3\n",
      "0\n",
      "0\n",
      "2\n"
     ]
    }
   ],
   "source": [
    "for i in range(0,25):\n",
    "    print(random.randint(0,3))"
   ]
  },
  {
   "cell_type": "code",
   "execution_count": 40,
   "metadata": {},
   "outputs": [
    {
     "data": {
      "image/png": "[encoded data removed]",
      "text/plain": [
       "<Figure size 432x288 with 1 Axes>"
      ]
     },
     "metadata": {
      "needs_background": "light"
     },
     "output_type": "display_data"
    }
   ],
   "source": [
    "import matplotlib.pyplot as plt\n",
    "\n",
    "plt.figure(figsize=(6,4))\n",
    "plt.plot(X_opti, Y_opti) #Y axis = maximum name visited\n",
    "plt.ylabel('Gear Score')\n",
    "plt.xlabel('Number of Iterations')\n",
    "plt.xlim(0,1000)\n",
    "plt.title('Best Gear Score / Number of iteration')\n",
    "plt.show()"
   ]
  },
  {
   "cell_type": "code",
   "execution_count": 229,
   "metadata": {},
   "outputs": [
    {
     "data": {
      "text/plain": [
       "7.4546519572351855"
      ]
     },
     "execution_count": 229,
     "metadata": {},
     "output_type": "execute_result"
    }
   ],
   "source": [
    "np.max(fitList)"
   ]
  },
  {
   "cell_type": "code",
   "execution_count": 13,
   "metadata": {},
   "outputs": [],
   "source": [
    "IndexfitBest = heapq.nlargest(10, range(len(fitList)), fitList.take)\n",
    "population_best = np.take(population, IndexfitBest)"
   ]
  },
  {
   "cell_type": "code",
   "execution_count": 8,
   "metadata": {},
   "outputs": [
    {
     "ename": "NameError",
     "evalue": "name 'scoreFunc' is not defined",
     "output_type": "error",
     "traceback": [
      "\u001b[1;31m---------------------------------------------------------------------------\u001b[0m",
      "\u001b[1;31mNameError\u001b[0m                                 Traceback (most recent call last)",
      "\u001b[1;32m<ipython-input-8-0ef015deeb0b>\u001b[0m in \u001b[0;36m<module>\u001b[1;34m\u001b[0m\n\u001b[0;32m      1\u001b[0m \u001b[1;32mfor\u001b[0m \u001b[0mi\u001b[0m \u001b[1;32min\u001b[0m \u001b[0mrange\u001b[0m\u001b[1;33m(\u001b[0m\u001b[1;36m0\u001b[0m\u001b[1;33m,\u001b[0m\u001b[1;36m10\u001b[0m\u001b[1;33m)\u001b[0m\u001b[1;33m:\u001b[0m\u001b[1;33m\u001b[0m\u001b[1;33m\u001b[0m\u001b[0m\n\u001b[1;32m----> 2\u001b[1;33m     \u001b[0mscoreFunc\u001b[0m\u001b[1;33m(\u001b[0m\u001b[0mpopulation_best\u001b[0m\u001b[1;33m[\u001b[0m\u001b[0mi\u001b[0m\u001b[1;33m]\u001b[0m\u001b[1;33m)\u001b[0m\u001b[1;33m\u001b[0m\u001b[1;33m\u001b[0m\u001b[0m\n\u001b[0m",
      "\u001b[1;31mNameError\u001b[0m: name 'scoreFunc' is not defined"
     ]
    }
   ],
   "source": [
    "for i in range(0,10):\n",
    "    scoreFunc(population_best[i])\n"
   ]
  },
  {
   "cell_type": "code",
   "execution_count": null,
   "metadata": {},
   "outputs": [],
   "source": []
  }
 ],
 "metadata": {
  "kernelspec": {
   "display_name": "Python 3",
   "language": "python",
   "name": "python3"
  },
  "language_info": {
   "codemirror_mode": {
    "name": "ipython",
    "version": 3
   },
   "file_extension": ".py",
   "mimetype": "text/x-python",
   "name": "python",
   "nbconvert_exporter": "python",
   "pygments_lexer": "ipython3",
   "version": "3.7.1"
  }
 },
 "nbformat": 4,
 "nbformat_minor": 2
}
