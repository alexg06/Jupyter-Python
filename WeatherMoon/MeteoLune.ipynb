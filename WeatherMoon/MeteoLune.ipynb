{
 "cells": [
  {
   "cell_type": "code",
   "execution_count": 65,
   "metadata": {},
   "outputs": [],
   "source": [
    "import pandas as pd\n",
    "import numpy as np\n",
    "import matplotlib.pyplot as plt\n",
    "from io import StringIO"
   ]
  },
  {
   "cell_type": "code",
   "execution_count": 66,
   "metadata": {},
   "outputs": [],
   "source": [
    "df_weather = pd.read_csv(\"export-nice.csv\", sep=\",\",  error_bad_lines=False, skiprows = 3)\n",
    "df_moon = pd.read_csv(\"moon-phases-2009-2018-Europe_Monaco.csv\", sep=\",\",  error_bad_lines=False)\n",
    "df_weather['DATE'] = pd.to_datetime(df_weather['DATE'])\n",
    "df_moon['date'] = pd.to_datetime(df_moon['date'])"
   ]
  },
  {
   "cell_type": "code",
   "execution_count": 67,
   "metadata": {},
   "outputs": [
    {
     "data": {
      "text/html": [
       "<div>\n",
       "<style scoped>\n",
       "    .dataframe tbody tr th:only-of-type {\n",
       "        vertical-align: middle;\n",
       "    }\n",
       "\n",
       "    .dataframe tbody tr th {\n",
       "        vertical-align: top;\n",
       "    }\n",
       "\n",
       "    .dataframe thead th {\n",
       "        text-align: right;\n",
       "    }\n",
       "</style>\n",
       "<table border=\"1\" class=\"dataframe\">\n",
       "  <thead>\n",
       "    <tr style=\"text-align: right;\">\n",
       "      <th></th>\n",
       "      <th>DATE</th>\n",
       "      <th>MAX_TEMPERATURE_C</th>\n",
       "      <th>MIN_TEMPERATURE_C</th>\n",
       "      <th>WINDSPEED_MAX_KMH</th>\n",
       "      <th>TEMPERATURE_MORNING_C</th>\n",
       "      <th>TEMPERATURE_NOON_C</th>\n",
       "      <th>TEMPERATURE_EVENING_C</th>\n",
       "      <th>PRECIP_TOTAL_DAY_MM</th>\n",
       "      <th>HUMIDITY_MAX_PERCENT</th>\n",
       "      <th>VISIBILITY_AVG_KM</th>\n",
       "      <th>PRESSURE_MAX_MB</th>\n",
       "      <th>CLOUDCOVER_AVG_PERCENT</th>\n",
       "      <th>HEATINDEX_MAX_C</th>\n",
       "      <th>DEWPOINT_MAX_C</th>\n",
       "      <th>WINDTEMP_MAX_C</th>\n",
       "      <th>WEATHER_CODE_MORNING</th>\n",
       "      <th>WEATHER_CODE_NOON</th>\n",
       "      <th>WEATHER_CODE_EVENING</th>\n",
       "      <th>OPINION</th>\n",
       "    </tr>\n",
       "  </thead>\n",
       "  <tbody>\n",
       "    <tr>\n",
       "      <th>0</th>\n",
       "      <td>2009-01-01</td>\n",
       "      <td>10</td>\n",
       "      <td>6</td>\n",
       "      <td>21</td>\n",
       "      <td>5</td>\n",
       "      <td>9</td>\n",
       "      <td>7</td>\n",
       "      <td>2.5</td>\n",
       "      <td>84</td>\n",
       "      <td>9.875</td>\n",
       "      <td>1024</td>\n",
       "      <td>23.75</td>\n",
       "      <td>10</td>\n",
       "      <td>6</td>\n",
       "      <td>4</td>\n",
       "      <td>113</td>\n",
       "      <td>113</td>\n",
       "      <td>113</td>\n",
       "      <td>météo défavorable</td>\n",
       "    </tr>\n",
       "    <tr>\n",
       "      <th>1</th>\n",
       "      <td>2009-01-02</td>\n",
       "      <td>11</td>\n",
       "      <td>4</td>\n",
       "      <td>14</td>\n",
       "      <td>2</td>\n",
       "      <td>10</td>\n",
       "      <td>4</td>\n",
       "      <td>0.0</td>\n",
       "      <td>72</td>\n",
       "      <td>10.000</td>\n",
       "      <td>1022</td>\n",
       "      <td>11.50</td>\n",
       "      <td>11</td>\n",
       "      <td>7</td>\n",
       "      <td>1</td>\n",
       "      <td>113</td>\n",
       "      <td>113</td>\n",
       "      <td>113</td>\n",
       "      <td>météo très défavorable</td>\n",
       "    </tr>\n",
       "    <tr>\n",
       "      <th>2</th>\n",
       "      <td>2009-01-03</td>\n",
       "      <td>7</td>\n",
       "      <td>5</td>\n",
       "      <td>23</td>\n",
       "      <td>2</td>\n",
       "      <td>7</td>\n",
       "      <td>5</td>\n",
       "      <td>0.0</td>\n",
       "      <td>73</td>\n",
       "      <td>10.000</td>\n",
       "      <td>1019</td>\n",
       "      <td>5.75</td>\n",
       "      <td>7</td>\n",
       "      <td>2</td>\n",
       "      <td>0</td>\n",
       "      <td>113</td>\n",
       "      <td>113</td>\n",
       "      <td>113</td>\n",
       "      <td>météo très défavorable</td>\n",
       "    </tr>\n",
       "  </tbody>\n",
       "</table>\n",
       "</div>"
      ],
      "text/plain": [
       "        DATE  MAX_TEMPERATURE_C  MIN_TEMPERATURE_C  WINDSPEED_MAX_KMH  \\\n",
       "0 2009-01-01                 10                  6                 21   \n",
       "1 2009-01-02                 11                  4                 14   \n",
       "2 2009-01-03                  7                  5                 23   \n",
       "\n",
       "   TEMPERATURE_MORNING_C  TEMPERATURE_NOON_C  TEMPERATURE_EVENING_C  \\\n",
       "0                      5                   9                      7   \n",
       "1                      2                  10                      4   \n",
       "2                      2                   7                      5   \n",
       "\n",
       "   PRECIP_TOTAL_DAY_MM  HUMIDITY_MAX_PERCENT  VISIBILITY_AVG_KM  \\\n",
       "0                  2.5                    84              9.875   \n",
       "1                  0.0                    72             10.000   \n",
       "2                  0.0                    73             10.000   \n",
       "\n",
       "   PRESSURE_MAX_MB  CLOUDCOVER_AVG_PERCENT  HEATINDEX_MAX_C  DEWPOINT_MAX_C  \\\n",
       "0             1024                   23.75               10               6   \n",
       "1             1022                   11.50               11               7   \n",
       "2             1019                    5.75                7               2   \n",
       "\n",
       "   WINDTEMP_MAX_C  WEATHER_CODE_MORNING  WEATHER_CODE_NOON  \\\n",
       "0               4                   113                113   \n",
       "1               1                   113                113   \n",
       "2               0                   113                113   \n",
       "\n",
       "   WEATHER_CODE_EVENING                 OPINION  \n",
       "0                   113       météo défavorable  \n",
       "1                   113  météo très défavorable  \n",
       "2                   113  météo très défavorable  "
      ]
     },
     "execution_count": 67,
     "metadata": {},
     "output_type": "execute_result"
    }
   ],
   "source": [
    "df_weather.head(3)"
   ]
  },
  {
   "cell_type": "code",
   "execution_count": 68,
   "metadata": {},
   "outputs": [
    {
     "data": {
      "text/html": [
       "<div>\n",
       "<style scoped>\n",
       "    .dataframe tbody tr th:only-of-type {\n",
       "        vertical-align: middle;\n",
       "    }\n",
       "\n",
       "    .dataframe tbody tr th {\n",
       "        vertical-align: top;\n",
       "    }\n",
       "\n",
       "    .dataframe thead th {\n",
       "        text-align: right;\n",
       "    }\n",
       "</style>\n",
       "<table border=\"1\" class=\"dataframe\">\n",
       "  <thead>\n",
       "    <tr style=\"text-align: right;\">\n",
       "      <th></th>\n",
       "      <th>date</th>\n",
       "      <th>time</th>\n",
       "      <th>phase</th>\n",
       "      <th>phaseid</th>\n",
       "      <th>datetime</th>\n",
       "      <th>timestamp</th>\n",
       "      <th>friendlydate</th>\n",
       "    </tr>\n",
       "  </thead>\n",
       "  <tbody>\n",
       "    <tr>\n",
       "      <th>0</th>\n",
       "      <td>2009-01-04</td>\n",
       "      <td>12:56 PM</td>\n",
       "      <td>First Quarter</td>\n",
       "      <td>2</td>\n",
       "      <td>2009-01-04 12:56:00</td>\n",
       "      <td>1231070160</td>\n",
       "      <td>January 4, 2009</td>\n",
       "    </tr>\n",
       "    <tr>\n",
       "      <th>1</th>\n",
       "      <td>2009-01-11</td>\n",
       "      <td>04:27 AM</td>\n",
       "      <td>Full Moon</td>\n",
       "      <td>3</td>\n",
       "      <td>2009-01-11 04:27:00</td>\n",
       "      <td>1231644420</td>\n",
       "      <td>January 11, 2009</td>\n",
       "    </tr>\n",
       "    <tr>\n",
       "      <th>2</th>\n",
       "      <td>2009-01-18</td>\n",
       "      <td>03:46 AM</td>\n",
       "      <td>Last Quarter</td>\n",
       "      <td>4</td>\n",
       "      <td>2009-01-18 03:46:00</td>\n",
       "      <td>1232246760</td>\n",
       "      <td>January 18, 2009</td>\n",
       "    </tr>\n",
       "  </tbody>\n",
       "</table>\n",
       "</div>"
      ],
      "text/plain": [
       "        date      time          phase  phaseid             datetime  \\\n",
       "0 2009-01-04  12:56 PM  First Quarter        2  2009-01-04 12:56:00   \n",
       "1 2009-01-11  04:27 AM      Full Moon        3  2009-01-11 04:27:00   \n",
       "2 2009-01-18  03:46 AM   Last Quarter        4  2009-01-18 03:46:00   \n",
       "\n",
       "    timestamp      friendlydate  \n",
       "0  1231070160   January 4, 2009  \n",
       "1  1231644420  January 11, 2009  \n",
       "2  1232246760  January 18, 2009  "
      ]
     },
     "execution_count": 68,
     "metadata": {},
     "output_type": "execute_result"
    }
   ],
   "source": [
    "df_moon.head(3)"
   ]
  },
  {
   "cell_type": "code",
   "execution_count": 69,
   "metadata": {},
   "outputs": [
    {
     "data": {
      "text/plain": [
       "date            datetime64[ns]\n",
       "time                    object\n",
       "phase                   object\n",
       "phaseid                  int64\n",
       "datetime                object\n",
       "timestamp                int64\n",
       "friendlydate            object\n",
       "dtype: object"
      ]
     },
     "execution_count": 69,
     "metadata": {},
     "output_type": "execute_result"
    }
   ],
   "source": [
    "df_moon.dtypes"
   ]
  },
  {
   "cell_type": "code",
   "execution_count": 70,
   "metadata": {},
   "outputs": [
    {
     "data": {
      "text/plain": [
       "DATE                      datetime64[ns]\n",
       "MAX_TEMPERATURE_C                  int64\n",
       "MIN_TEMPERATURE_C                  int64\n",
       "WINDSPEED_MAX_KMH                  int64\n",
       "TEMPERATURE_MORNING_C              int64\n",
       "TEMPERATURE_NOON_C                 int64\n",
       "TEMPERATURE_EVENING_C              int64\n",
       "PRECIP_TOTAL_DAY_MM              float64\n",
       "HUMIDITY_MAX_PERCENT               int64\n",
       "VISIBILITY_AVG_KM                float64\n",
       "PRESSURE_MAX_MB                    int64\n",
       "CLOUDCOVER_AVG_PERCENT           float64\n",
       "HEATINDEX_MAX_C                    int64\n",
       "DEWPOINT_MAX_C                     int64\n",
       "WINDTEMP_MAX_C                     int64\n",
       "WEATHER_CODE_MORNING               int64\n",
       "WEATHER_CODE_NOON                  int64\n",
       "WEATHER_CODE_EVENING               int64\n",
       "OPINION                           object\n",
       "dtype: object"
      ]
     },
     "execution_count": 70,
     "metadata": {},
     "output_type": "execute_result"
    }
   ],
   "source": [
    "df_weather.dtypes"
   ]
  },
  {
   "cell_type": "code",
   "execution_count": 71,
   "metadata": {},
   "outputs": [],
   "source": [
    "df = pd.DataFrame(df_moon['date'])\n",
    "df['phaseid'] = df_moon['phaseid']\n",
    "df['phase'] = df_moon['phase']"
   ]
  },
  {
   "cell_type": "code",
   "execution_count": 72,
   "metadata": {},
   "outputs": [],
   "source": [
    "df['Precipitation'] = 0"
   ]
  },
  {
   "cell_type": "code",
   "execution_count": 73,
   "metadata": {},
   "outputs": [
    {
     "data": {
      "text/html": [
       "<div>\n",
       "<style scoped>\n",
       "    .dataframe tbody tr th:only-of-type {\n",
       "        vertical-align: middle;\n",
       "    }\n",
       "\n",
       "    .dataframe tbody tr th {\n",
       "        vertical-align: top;\n",
       "    }\n",
       "\n",
       "    .dataframe thead th {\n",
       "        text-align: right;\n",
       "    }\n",
       "</style>\n",
       "<table border=\"1\" class=\"dataframe\">\n",
       "  <thead>\n",
       "    <tr style=\"text-align: right;\">\n",
       "      <th></th>\n",
       "      <th>date</th>\n",
       "      <th>phaseid</th>\n",
       "      <th>phase</th>\n",
       "      <th>Precipitation</th>\n",
       "    </tr>\n",
       "  </thead>\n",
       "  <tbody>\n",
       "    <tr>\n",
       "      <th>0</th>\n",
       "      <td>2009-01-04</td>\n",
       "      <td>2</td>\n",
       "      <td>First Quarter</td>\n",
       "      <td>0</td>\n",
       "    </tr>\n",
       "    <tr>\n",
       "      <th>1</th>\n",
       "      <td>2009-01-11</td>\n",
       "      <td>3</td>\n",
       "      <td>Full Moon</td>\n",
       "      <td>0</td>\n",
       "    </tr>\n",
       "    <tr>\n",
       "      <th>2</th>\n",
       "      <td>2009-01-18</td>\n",
       "      <td>4</td>\n",
       "      <td>Last Quarter</td>\n",
       "      <td>0</td>\n",
       "    </tr>\n",
       "  </tbody>\n",
       "</table>\n",
       "</div>"
      ],
      "text/plain": [
       "        date  phaseid          phase  Precipitation\n",
       "0 2009-01-04        2  First Quarter              0\n",
       "1 2009-01-11        3      Full Moon              0\n",
       "2 2009-01-18        4   Last Quarter              0"
      ]
     },
     "execution_count": 73,
     "metadata": {},
     "output_type": "execute_result"
    }
   ],
   "source": [
    "df.head(3)"
   ]
  },
  {
   "cell_type": "code",
   "execution_count": 74,
   "metadata": {},
   "outputs": [
    {
     "data": {
      "text/html": [
       "<div>\n",
       "<style scoped>\n",
       "    .dataframe tbody tr th:only-of-type {\n",
       "        vertical-align: middle;\n",
       "    }\n",
       "\n",
       "    .dataframe tbody tr th {\n",
       "        vertical-align: top;\n",
       "    }\n",
       "\n",
       "    .dataframe thead th {\n",
       "        text-align: right;\n",
       "    }\n",
       "</style>\n",
       "<table border=\"1\" class=\"dataframe\">\n",
       "  <thead>\n",
       "    <tr style=\"text-align: right;\">\n",
       "      <th></th>\n",
       "      <th>OPINION</th>\n",
       "    </tr>\n",
       "  </thead>\n",
       "  <tbody>\n",
       "    <tr>\n",
       "      <th>0</th>\n",
       "      <td>météo défavorable</td>\n",
       "    </tr>\n",
       "  </tbody>\n",
       "</table>\n",
       "</div>"
      ],
      "text/plain": [
       "             OPINION\n",
       "0  météo défavorable"
      ]
     },
     "execution_count": 74,
     "metadata": {},
     "output_type": "execute_result"
    }
   ],
   "source": [
    "df_weather.loc[df_weather['DATE'] == \"2009-01-01\", ['OPINION']]"
   ]
  },
  {
   "cell_type": "code",
   "execution_count": 75,
   "metadata": {},
   "outputs": [
    {
     "data": {
      "text/plain": [
       "495"
      ]
     },
     "execution_count": 75,
     "metadata": {},
     "output_type": "execute_result"
    }
   ],
   "source": [
    "opinion = np.array([])\n",
    "precipitation = np.array([])\n",
    "coverage = np.array([])\n",
    "for i in df['date']:\n",
    "    opinion = np.append(opinion, df_weather.loc[df_weather['DATE'] == i, ['OPINION']])\n",
    "    precipitation = np.append(precipitation, df_weather.loc[df_weather['DATE'] == i, ['PRECIP_TOTAL_DAY_MM']])\n",
    "    coverage = np.append(coverage, df_weather.loc[df_weather['DATE'] == i, ['CLOUDCOVER_AVG_PERCENT']])\n",
    "len(opinion)"
   ]
  },
  {
   "cell_type": "code",
   "execution_count": 76,
   "metadata": {},
   "outputs": [],
   "source": [
    "df['OPINION'] = opinion\n",
    "df['Precipitation'] = precipitation\n",
    "df['Coverage'] = coverage"
   ]
  },
  {
   "cell_type": "code",
   "execution_count": 77,
   "metadata": {
    "scrolled": true
   },
   "outputs": [
    {
     "data": {
      "text/html": [
       "<div>\n",
       "<style scoped>\n",
       "    .dataframe tbody tr th:only-of-type {\n",
       "        vertical-align: middle;\n",
       "    }\n",
       "\n",
       "    .dataframe tbody tr th {\n",
       "        vertical-align: top;\n",
       "    }\n",
       "\n",
       "    .dataframe thead th {\n",
       "        text-align: right;\n",
       "    }\n",
       "</style>\n",
       "<table border=\"1\" class=\"dataframe\">\n",
       "  <thead>\n",
       "    <tr style=\"text-align: right;\">\n",
       "      <th></th>\n",
       "      <th>date</th>\n",
       "      <th>phaseid</th>\n",
       "      <th>phase</th>\n",
       "      <th>Precipitation</th>\n",
       "      <th>OPINION</th>\n",
       "      <th>Coverage</th>\n",
       "    </tr>\n",
       "  </thead>\n",
       "  <tbody>\n",
       "    <tr>\n",
       "      <th>0</th>\n",
       "      <td>2009-01-04</td>\n",
       "      <td>2</td>\n",
       "      <td>First Quarter</td>\n",
       "      <td>0.0</td>\n",
       "      <td>météo très défavorable</td>\n",
       "      <td>3.000</td>\n",
       "    </tr>\n",
       "    <tr>\n",
       "      <th>1</th>\n",
       "      <td>2009-01-11</td>\n",
       "      <td>3</td>\n",
       "      <td>Full Moon</td>\n",
       "      <td>0.0</td>\n",
       "      <td>météo défavorable</td>\n",
       "      <td>7.750</td>\n",
       "    </tr>\n",
       "    <tr>\n",
       "      <th>2</th>\n",
       "      <td>2009-01-18</td>\n",
       "      <td>4</td>\n",
       "      <td>Last Quarter</td>\n",
       "      <td>0.2</td>\n",
       "      <td>météo correcte</td>\n",
       "      <td>22.500</td>\n",
       "    </tr>\n",
       "    <tr>\n",
       "      <th>3</th>\n",
       "      <td>2009-01-26</td>\n",
       "      <td>1</td>\n",
       "      <td>New Moon</td>\n",
       "      <td>32.7</td>\n",
       "      <td>météo très défavorable</td>\n",
       "      <td>64.125</td>\n",
       "    </tr>\n",
       "    <tr>\n",
       "      <th>4</th>\n",
       "      <td>2009-02-03</td>\n",
       "      <td>2</td>\n",
       "      <td>First Quarter</td>\n",
       "      <td>2.2</td>\n",
       "      <td>météo défavorable</td>\n",
       "      <td>44.250</td>\n",
       "    </tr>\n",
       "  </tbody>\n",
       "</table>\n",
       "</div>"
      ],
      "text/plain": [
       "        date  phaseid          phase  Precipitation                 OPINION  \\\n",
       "0 2009-01-04        2  First Quarter            0.0  météo très défavorable   \n",
       "1 2009-01-11        3      Full Moon            0.0       météo défavorable   \n",
       "2 2009-01-18        4   Last Quarter            0.2          météo correcte   \n",
       "3 2009-01-26        1       New Moon           32.7  météo très défavorable   \n",
       "4 2009-02-03        2  First Quarter            2.2       météo défavorable   \n",
       "\n",
       "   Coverage  \n",
       "0     3.000  \n",
       "1     7.750  \n",
       "2    22.500  \n",
       "3    64.125  \n",
       "4    44.250  "
      ]
     },
     "execution_count": 77,
     "metadata": {},
     "output_type": "execute_result"
    }
   ],
   "source": [
    "df.head()"
   ]
  },
  {
   "cell_type": "code",
   "execution_count": 78,
   "metadata": {},
   "outputs": [
    {
     "data": {
      "image/png": "[encoded data removed]",
      "text/plain": [
       "<Figure size 432x288 with 1 Axes>"
      ]
     },
     "metadata": {
      "needs_background": "light"
     },
     "output_type": "display_data"
    }
   ],
   "source": [
    "plt.plot(df['date'], df['Precipitation'])\n",
    "plt.plot(df['date'], df['Coverage'])\n",
    "plt.title('Precipitation in mm & coverage')\n",
    "plt.xlabel('Date')\n",
    "plt.ylabel('mm')\n",
    "plt.show()"
   ]
  },
  {
   "cell_type": "code",
   "execution_count": 79,
   "metadata": {},
   "outputs": [
    {
     "data": {
      "text/plain": [
       "2.656161616161616"
      ]
     },
     "execution_count": 79,
     "metadata": {},
     "output_type": "execute_result"
    }
   ],
   "source": [
    "np.average(df['Precipitation'])"
   ]
  },
  {
   "cell_type": "code",
   "execution_count": 80,
   "metadata": {},
   "outputs": [
    {
     "name": "stderr",
     "output_type": "stream",
     "text": [
      "C:\\Users\\Carcouss\\Anaconda3\\lib\\site-packages\\numpy\\lib\\function_base.py:356: RuntimeWarning: Mean of empty slice.\n",
      "  avg = a.mean(axis)\n",
      "C:\\Users\\Carcouss\\Anaconda3\\lib\\site-packages\\numpy\\core\\_methods.py:85: RuntimeWarning: invalid value encountered in double_scalars\n",
      "  ret = ret.dtype.type(ret / rcount)\n"
     ]
    },
    {
     "data": {
      "text/plain": [
       "nan"
      ]
     },
     "execution_count": 80,
     "metadata": {},
     "output_type": "execute_result"
    }
   ],
   "source": [
    "np.average(df.loc[df['phaseid'] == i, ['Precipitation']])"
   ]
  },
  {
   "cell_type": "code",
   "execution_count": 81,
   "metadata": {},
   "outputs": [
    {
     "data": {
      "text/plain": [
       "Precipitation   NaN\n",
       "dtype: float64"
      ]
     },
     "execution_count": 81,
     "metadata": {},
     "output_type": "execute_result"
    }
   ],
   "source": [
    "np.std(df.loc[df['phaseid'] == i, ['Precipitation']])"
   ]
  },
  {
   "cell_type": "code",
   "execution_count": 82,
   "metadata": {},
   "outputs": [
    {
     "name": "stdout",
     "output_type": "stream",
     "text": [
      "Phase 1 average = 1.9853658536585368 mm, standard deviation = 4.897347596815778\n",
      "Coverage = 19.395664227642275 %\n",
      "Phase 2 average = 3.0564516129032264 mm, standard deviation = 8.886917186874669\n",
      "Coverage = 20.101814516129032 %\n",
      "Phase 3 average = 2.7201612903225807 mm, standard deviation = 8.280427562580734\n",
      "Coverage = 21.405241935483872 %\n",
      "Phase 4 average = 2.857258064516129 mm, standard deviation = 8.05892786220608\n",
      "Coverage = 22.090725806451612 %\n"
     ]
    }
   ],
   "source": [
    "for i in range(1,5):\n",
    "    a = np.array(df.loc[df['phaseid'] == i, ['Precipitation']])\n",
    "    b = np.array(df.loc[df['phaseid'] == i, ['Coverage']])\n",
    "    print(\"Phase {} average = {} mm, standard deviation = {}\".format(i, \n",
    "                        np.average(a), np.std(a)))\n",
    "    print(\"Coverage = {} %\".format( \n",
    "                        np.average(b)))\n"
   ]
  },
  {
   "cell_type": "code",
   "execution_count": 83,
   "metadata": {},
   "outputs": [
    {
     "data": {
      "text/plain": [
       "7.704048352936619"
      ]
     },
     "execution_count": 83,
     "metadata": {},
     "output_type": "execute_result"
    }
   ],
   "source": [
    "np.std(df['Precipitation'])"
   ]
  },
  {
   "cell_type": "code",
   "execution_count": 84,
   "metadata": {},
   "outputs": [
    {
     "data": {
      "text/plain": [
       "<matplotlib.axes._subplots.AxesSubplot at 0x71f3e80>"
      ]
     },
     "execution_count": 84,
     "metadata": {},
     "output_type": "execute_result"
    },
    {
     "data": {
      "image/png": "[encoded data removed]",
      "text/plain": [
       "<Figure size 864x576 with 1 Axes>"
      ]
     },
     "metadata": {
      "needs_background": "light"
     },
     "output_type": "display_data"
    }
   ],
   "source": [
    "import seaborn as sns\n",
    "\n",
    "fig = plt.gcf()\n",
    "fig.set_size_inches( 12, 8)\n",
    "sns.countplot(df['OPINION'], color='tan')"
   ]
  },
  {
   "cell_type": "code",
   "execution_count": 85,
   "metadata": {},
   "outputs": [
    {
     "data": {
      "text/html": [
       "<div>\n",
       "<style scoped>\n",
       "    .dataframe tbody tr th:only-of-type {\n",
       "        vertical-align: middle;\n",
       "    }\n",
       "\n",
       "    .dataframe tbody tr th {\n",
       "        vertical-align: top;\n",
       "    }\n",
       "\n",
       "    .dataframe thead th {\n",
       "        text-align: right;\n",
       "    }\n",
       "</style>\n",
       "<table border=\"1\" class=\"dataframe\">\n",
       "  <thead>\n",
       "    <tr style=\"text-align: right;\">\n",
       "      <th></th>\n",
       "      <th>date</th>\n",
       "      <th>phaseid</th>\n",
       "      <th>phase</th>\n",
       "      <th>Precipitation</th>\n",
       "      <th>OPINION</th>\n",
       "      <th>Coverage</th>\n",
       "    </tr>\n",
       "  </thead>\n",
       "  <tbody>\n",
       "    <tr>\n",
       "      <th>10</th>\n",
       "      <td>2009-03-18</td>\n",
       "      <td>4</td>\n",
       "      <td>Last Quarter</td>\n",
       "      <td>0.1</td>\n",
       "      <td>météo favorable</td>\n",
       "      <td>11.625</td>\n",
       "    </tr>\n",
       "    <tr>\n",
       "      <th>16</th>\n",
       "      <td>2009-05-01</td>\n",
       "      <td>2</td>\n",
       "      <td>First Quarter</td>\n",
       "      <td>1.3</td>\n",
       "      <td>météo favorable</td>\n",
       "      <td>12.250</td>\n",
       "    </tr>\n",
       "    <tr>\n",
       "      <th>17</th>\n",
       "      <td>2009-05-09</td>\n",
       "      <td>3</td>\n",
       "      <td>Full Moon</td>\n",
       "      <td>0.1</td>\n",
       "      <td>météo favorable</td>\n",
       "      <td>9.500</td>\n",
       "    </tr>\n",
       "    <tr>\n",
       "      <th>18</th>\n",
       "      <td>2009-05-17</td>\n",
       "      <td>4</td>\n",
       "      <td>Last Quarter</td>\n",
       "      <td>0.6</td>\n",
       "      <td>météo favorable</td>\n",
       "      <td>5.000</td>\n",
       "    </tr>\n",
       "    <tr>\n",
       "      <th>21</th>\n",
       "      <td>2009-06-07</td>\n",
       "      <td>3</td>\n",
       "      <td>Full Moon</td>\n",
       "      <td>0.3</td>\n",
       "      <td>météo favorable</td>\n",
       "      <td>7.625</td>\n",
       "    </tr>\n",
       "  </tbody>\n",
       "</table>\n",
       "</div>"
      ],
      "text/plain": [
       "         date  phaseid          phase  Precipitation          OPINION  \\\n",
       "10 2009-03-18        4   Last Quarter            0.1  météo favorable   \n",
       "16 2009-05-01        2  First Quarter            1.3  météo favorable   \n",
       "17 2009-05-09        3      Full Moon            0.1  météo favorable   \n",
       "18 2009-05-17        4   Last Quarter            0.6  météo favorable   \n",
       "21 2009-06-07        3      Full Moon            0.3  météo favorable   \n",
       "\n",
       "    Coverage  \n",
       "10    11.625  \n",
       "16    12.250  \n",
       "17     9.500  \n",
       "18     5.000  \n",
       "21     7.625  "
      ]
     },
     "execution_count": 85,
     "metadata": {},
     "output_type": "execute_result"
    }
   ],
   "source": [
    "df.loc[df['OPINION'] == \"météo favorable\"].head(5)"
   ]
  },
  {
   "cell_type": "code",
   "execution_count": 152,
   "metadata": {},
   "outputs": [
    {
     "name": "stdout",
     "output_type": "stream",
     "text": [
      "Bonne météo #44 phase 1 New Moon, precipitation = 1.12\n",
      "Coverage = 12.06\n",
      "Bonne météo #43 phase 2 First Quarter, precipitation = 0.78\n",
      "Coverage = 12.37\n",
      "Bonne météo #33 phase 3 Full Moon, precipitation = 0.94\n",
      "Coverage = 14.68\n",
      "Bonne météo #37 phase 4 Last Quarter, precipitation = 1.23\n",
      "Coverage = 11.46\n",
      "--------------------------------------------------\n",
      "Très Bonne météo #19 phase 1 New Moon, precipitation = 0.19\n",
      "Coverage = 8.13\n",
      "Très Bonne météo #21 phase 2 First Quarter, precipitation = 0.26\n",
      "Coverage = 6.41\n",
      "Très Bonne météo #25 phase 3 Full Moon, precipitation = 0.27\n",
      "Coverage = 6.23\n",
      "Très Bonne météo #21 phase 4 Last Quarter, precipitation = 0.32\n",
      "Coverage = 6.71\n",
      "--------------------------------------------------\n",
      "Météo correcte #34 phase 1 New Moon, precipitation = 1.14\n",
      "Coverage = 19.8\n",
      "Météo correcte #33 phase 2 First Quarter, precipitation = 2.23\n",
      "Coverage = 19.88\n",
      "Météo correcte #38 phase 3 Full Moon, precipitation = 1.41\n",
      "Coverage = 23.62\n",
      "Météo correcte #33 phase 4 Last Quarter, precipitation = 1.79\n",
      "Coverage = 22.46\n",
      "--------------------------------------------------\n",
      "Mauvaise météo #13 phase 1 New Moon, precipitation = 1.54\n",
      "Coverage = 28.72\n",
      "Mauvaise météo #14 phase 2 First Quarter, precipitation = 2.21\n",
      "Coverage = 40.02\n",
      "Mauvaise météo #16 phase 3 Full Moon, precipitation = 1.13\n",
      "Coverage = 33.76\n",
      "Mauvaise météo #19 phase 4 Last Quarter, precipitation = 2.96\n",
      "Coverage = 41.12\n",
      "--------------------------------------------------\n",
      "Très Mauvaise météo #13 phase 1 New Moon, precipitation = 10.22\n",
      "Coverage = 50.29\n",
      "Très Mauvaise météo #13 phase 2 First Quarter, precipitation = 18.12\n",
      "Coverage = 46.92\n",
      "Très Mauvaise météo #12 phase 3 Full Moon, precipitation = 18.99\n",
      "Coverage = 48.04\n",
      "Très Mauvaise météo #14 phase 4 Last Quarter, precipitation = 13.34\n",
      "Coverage = 46.54\n"
     ]
    }
   ],
   "source": [
    "phase = [0, 'New Moon', 'First Quarter', 'Full Moon', 'Last Quarter']\n",
    "for i in range(1, 5):\n",
    "    a = np.array(df.loc[df['phaseid'] == i, ['OPINION']]) \n",
    "    b = np.count_nonzero(a == 'météo favorable')\n",
    "    print('Bonne météo #{} phase {} {}, precipitation = {}'.format(b, i, phase[i], \n",
    "                np.round(np.mean(df['Precipitation'].loc[(df['phaseid'] == i) & (df['OPINION'] == \"météo favorable\")]),2 )))\n",
    "    print(\"Coverage = {}\".format(np.round(np.mean(df['Coverage'].loc[(df['phaseid'] == i) \n",
    "                                                                     & (df['OPINION'] == \"météo favorable\")]),2 )))\n",
    "print('--------------------------------------------------')\n",
    "phase = [0, 'New Moon', 'First Quarter', 'Full Moon', 'Last Quarter']\n",
    "for i in range(1, 5):\n",
    "    a = np.array(df.loc[df['phaseid'] == i, ['OPINION']]) \n",
    "    c = np.count_nonzero(a == 'météo idéale')\n",
    "    #d = np.mean(df.loc[df['phaseid'] == i, ['precipitation']])\n",
    "    print('Très Bonne météo #{} phase {} {}, precipitation = {}'.format(c, i, phase[i], \n",
    "                np.round(np.mean(df['Precipitation'].loc[(df['phaseid'] == i) & (df['OPINION'] == \"météo idéale\")]),2 )))\n",
    "    print(\"Coverage = {}\".format(np.round(np.mean(df['Coverage'].loc[(df['phaseid'] == i) \n",
    "                                                                     & (df['OPINION'] == \"météo idéale\")]),2 )))\n",
    "print('--------------------------------------------------')\n",
    "for i in range(1, 5):\n",
    "    a = np.array(df.loc[df['phaseid'] == i, ['OPINION']]) \n",
    "    b = np.count_nonzero(a == 'météo correcte')\n",
    "    print('Météo correcte #{} phase {} {}, precipitation = {}'.format(b, i, phase[i], \n",
    "                np.round(np.mean(df['Precipitation'].loc[(df['phaseid'] == i) & (df['OPINION'] == \"météo correcte\")]),2 )))\n",
    "    print(\"Coverage = {}\".format(np.round(np.mean(df['Coverage'].loc[(df['phaseid'] == i) \n",
    "                                                                     & (df['OPINION'] == \"météo correcte\")]),2 )))\n",
    "print('--------------------------------------------------')\n",
    "for i in range(1, 5):\n",
    "    a = np.array(df.loc[df['phaseid'] == i, ['OPINION']]) \n",
    "    b = np.count_nonzero(a == 'météo défavorable')\n",
    "    print('Mauvaise météo #{} phase {} {}, precipitation = {}'.format(b , i, phase[i], \n",
    "                np.round(np.mean(df['Precipitation'].loc[(df['phaseid'] == i) \n",
    "                                                         & (df['OPINION'] == \"météo défavorable\")]),2 )))\n",
    "    print(\"Coverage = {}\".format(np.round(np.mean(df['Coverage'].loc[(df['phaseid'] == i) \n",
    "                                                                     & (df['OPINION'] == \"météo défavorable\")]),2 )))\n",
    "print('--------------------------------------------------')\n",
    "for i in range(1, 5):\n",
    "    a = np.array(df.loc[df['phaseid'] == i, ['OPINION']]) \n",
    "    c = np.count_nonzero(a == 'météo très défavorable')\n",
    "    print('Très Mauvaise météo #{} phase {} {}, precipitation = {}'.format(c, i, phase[i], \n",
    "                np.round(np.mean(df['Precipitation'].loc[(df['phaseid'] == i) \n",
    "                                                         & (df['OPINION'] == \"météo très défavorable\")]),2 )))\n",
    "    print(\"Coverage = {}\".format(np.round(np.mean(df['Coverage'].loc[(df['phaseid'] == i) \n",
    "                                                                     & (df['OPINION'] == \"météo très défavorable\")]),2 )))\n"
   ]
  },
  {
   "cell_type": "code",
   "execution_count": 122,
   "metadata": {},
   "outputs": [],
   "source": [
    "from datetime import datetime, timedelta\n",
    "df['date + 1'] = df['date'] + timedelta(1)\n",
    "df['date -1'] = df['date'] - timedelta(1)"
   ]
  },
  {
   "cell_type": "code",
   "execution_count": 123,
   "metadata": {},
   "outputs": [
    {
     "data": {
      "text/html": [
       "<div>\n",
       "<style scoped>\n",
       "    .dataframe tbody tr th:only-of-type {\n",
       "        vertical-align: middle;\n",
       "    }\n",
       "\n",
       "    .dataframe tbody tr th {\n",
       "        vertical-align: top;\n",
       "    }\n",
       "\n",
       "    .dataframe thead th {\n",
       "        text-align: right;\n",
       "    }\n",
       "</style>\n",
       "<table border=\"1\" class=\"dataframe\">\n",
       "  <thead>\n",
       "    <tr style=\"text-align: right;\">\n",
       "      <th></th>\n",
       "      <th>date</th>\n",
       "      <th>phaseid</th>\n",
       "      <th>phase</th>\n",
       "      <th>Precipitation</th>\n",
       "      <th>OPINION</th>\n",
       "      <th>Coverage</th>\n",
       "      <th>date + 1</th>\n",
       "      <th>date -1</th>\n",
       "    </tr>\n",
       "  </thead>\n",
       "  <tbody>\n",
       "    <tr>\n",
       "      <th>0</th>\n",
       "      <td>2009-01-04</td>\n",
       "      <td>2</td>\n",
       "      <td>First Quarter</td>\n",
       "      <td>0.0</td>\n",
       "      <td>météo très défavorable</td>\n",
       "      <td>3.00</td>\n",
       "      <td>2009-01-05</td>\n",
       "      <td>2009-01-03</td>\n",
       "    </tr>\n",
       "    <tr>\n",
       "      <th>1</th>\n",
       "      <td>2009-01-11</td>\n",
       "      <td>3</td>\n",
       "      <td>Full Moon</td>\n",
       "      <td>0.0</td>\n",
       "      <td>météo défavorable</td>\n",
       "      <td>7.75</td>\n",
       "      <td>2009-01-12</td>\n",
       "      <td>2009-01-10</td>\n",
       "    </tr>\n",
       "    <tr>\n",
       "      <th>2</th>\n",
       "      <td>2009-01-18</td>\n",
       "      <td>4</td>\n",
       "      <td>Last Quarter</td>\n",
       "      <td>0.2</td>\n",
       "      <td>météo correcte</td>\n",
       "      <td>22.50</td>\n",
       "      <td>2009-01-19</td>\n",
       "      <td>2009-01-17</td>\n",
       "    </tr>\n",
       "  </tbody>\n",
       "</table>\n",
       "</div>"
      ],
      "text/plain": [
       "        date  phaseid          phase  Precipitation                 OPINION  \\\n",
       "0 2009-01-04        2  First Quarter            0.0  météo très défavorable   \n",
       "1 2009-01-11        3      Full Moon            0.0       météo défavorable   \n",
       "2 2009-01-18        4   Last Quarter            0.2          météo correcte   \n",
       "\n",
       "   Coverage   date + 1    date -1  \n",
       "0      3.00 2009-01-05 2009-01-03  \n",
       "1      7.75 2009-01-12 2009-01-10  \n",
       "2     22.50 2009-01-19 2009-01-17  "
      ]
     },
     "execution_count": 123,
     "metadata": {},
     "output_type": "execute_result"
    }
   ],
   "source": [
    "df.head(3)"
   ]
  },
  {
   "cell_type": "code",
   "execution_count": 124,
   "metadata": {},
   "outputs": [
    {
     "data": {
      "text/plain": [
       "495"
      ]
     },
     "execution_count": 124,
     "metadata": {},
     "output_type": "execute_result"
    }
   ],
   "source": [
    "precipitation = np.array([])\n",
    "coverage = np.array([])\n",
    "for i in df['date -1']:\n",
    "    precipitation = np.append(precipitation, df_weather.loc[df_weather['DATE'] == i, ['PRECIP_TOTAL_DAY_MM']])\n",
    "    coverage = np.append(coverage, df_weather.loc[df_weather['DATE'] == i, ['CLOUDCOVER_AVG_PERCENT']])\n",
    "df['Precipitation - 1'] = precipitation\n",
    "df['Coverage - 1'] = coverage\n",
    "len(precipitation)"
   ]
  },
  {
   "cell_type": "code",
   "execution_count": 125,
   "metadata": {},
   "outputs": [
    {
     "data": {
      "text/plain": [
       "495"
      ]
     },
     "execution_count": 125,
     "metadata": {},
     "output_type": "execute_result"
    }
   ],
   "source": [
    "precipitation = np.array([])\n",
    "coverage = np.array([])\n",
    "for i in df['date + 1']:\n",
    "    precipitation = np.append(precipitation, df_weather.loc[df_weather['DATE'] == i, ['PRECIP_TOTAL_DAY_MM']])\n",
    "    coverage = np.append(coverage, df_weather.loc[df_weather['DATE'] == i, ['CLOUDCOVER_AVG_PERCENT']])\n",
    "df['Precipitation + 1'] = precipitation\n",
    "df['Coverage + 1'] = coverage\n",
    "len(precipitation)"
   ]
  },
  {
   "cell_type": "code",
   "execution_count": 126,
   "metadata": {},
   "outputs": [
    {
     "data": {
      "text/html": [
       "<div>\n",
       "<style scoped>\n",
       "    .dataframe tbody tr th:only-of-type {\n",
       "        vertical-align: middle;\n",
       "    }\n",
       "\n",
       "    .dataframe tbody tr th {\n",
       "        vertical-align: top;\n",
       "    }\n",
       "\n",
       "    .dataframe thead th {\n",
       "        text-align: right;\n",
       "    }\n",
       "</style>\n",
       "<table border=\"1\" class=\"dataframe\">\n",
       "  <thead>\n",
       "    <tr style=\"text-align: right;\">\n",
       "      <th></th>\n",
       "      <th>date</th>\n",
       "      <th>phaseid</th>\n",
       "      <th>phase</th>\n",
       "      <th>Precipitation</th>\n",
       "      <th>OPINION</th>\n",
       "      <th>Coverage</th>\n",
       "      <th>date + 1</th>\n",
       "      <th>date -1</th>\n",
       "      <th>Precipitation - 1</th>\n",
       "      <th>Coverage - 1</th>\n",
       "      <th>Precipitation + 1</th>\n",
       "      <th>Coverage + 1</th>\n",
       "    </tr>\n",
       "  </thead>\n",
       "  <tbody>\n",
       "    <tr>\n",
       "      <th>0</th>\n",
       "      <td>2009-01-04</td>\n",
       "      <td>2</td>\n",
       "      <td>First Quarter</td>\n",
       "      <td>0.0</td>\n",
       "      <td>météo très défavorable</td>\n",
       "      <td>3.00</td>\n",
       "      <td>2009-01-05</td>\n",
       "      <td>2009-01-03</td>\n",
       "      <td>0.0</td>\n",
       "      <td>5.750</td>\n",
       "      <td>0.0</td>\n",
       "      <td>22.750</td>\n",
       "    </tr>\n",
       "    <tr>\n",
       "      <th>1</th>\n",
       "      <td>2009-01-11</td>\n",
       "      <td>3</td>\n",
       "      <td>Full Moon</td>\n",
       "      <td>0.0</td>\n",
       "      <td>météo défavorable</td>\n",
       "      <td>7.75</td>\n",
       "      <td>2009-01-12</td>\n",
       "      <td>2009-01-10</td>\n",
       "      <td>0.1</td>\n",
       "      <td>14.625</td>\n",
       "      <td>0.0</td>\n",
       "      <td>4.375</td>\n",
       "    </tr>\n",
       "    <tr>\n",
       "      <th>2</th>\n",
       "      <td>2009-01-18</td>\n",
       "      <td>4</td>\n",
       "      <td>Last Quarter</td>\n",
       "      <td>0.2</td>\n",
       "      <td>météo correcte</td>\n",
       "      <td>22.50</td>\n",
       "      <td>2009-01-19</td>\n",
       "      <td>2009-01-17</td>\n",
       "      <td>0.0</td>\n",
       "      <td>28.000</td>\n",
       "      <td>8.4</td>\n",
       "      <td>64.500</td>\n",
       "    </tr>\n",
       "  </tbody>\n",
       "</table>\n",
       "</div>"
      ],
      "text/plain": [
       "        date  phaseid          phase  Precipitation                 OPINION  \\\n",
       "0 2009-01-04        2  First Quarter            0.0  météo très défavorable   \n",
       "1 2009-01-11        3      Full Moon            0.0       météo défavorable   \n",
       "2 2009-01-18        4   Last Quarter            0.2          météo correcte   \n",
       "\n",
       "   Coverage   date + 1    date -1  Precipitation - 1  Coverage - 1  \\\n",
       "0      3.00 2009-01-05 2009-01-03                0.0         5.750   \n",
       "1      7.75 2009-01-12 2009-01-10                0.1        14.625   \n",
       "2     22.50 2009-01-19 2009-01-17                0.0        28.000   \n",
       "\n",
       "   Precipitation + 1  Coverage + 1  \n",
       "0                0.0        22.750  \n",
       "1                0.0         4.375  \n",
       "2                8.4        64.500  "
      ]
     },
     "execution_count": 126,
     "metadata": {},
     "output_type": "execute_result"
    }
   ],
   "source": [
    "df.head(3)"
   ]
  },
  {
   "cell_type": "code",
   "execution_count": 127,
   "metadata": {},
   "outputs": [],
   "source": [
    "df['Mean Cov'] = (df['Coverage - 1'] + df['Coverage'] + df['Coverage + 1']) / 3\n",
    "df['Mean Prec'] = (df['Precipitation - 1'] + df['Precipitation'] + df['Precipitation + 1']) / 3"
   ]
  },
  {
   "cell_type": "code",
   "execution_count": 128,
   "metadata": {},
   "outputs": [
    {
     "name": "stdout",
     "output_type": "stream",
     "text": [
      "Phase 1 average = 2.05 mm, standard deviation = 3.49\n",
      "Coverage = 19.9 %\n",
      "Phase 2 average = 2.69 mm, standard deviation = 5.25\n",
      "Coverage = 20.74 %\n",
      "Phase 3 average = 2.31 mm, standard deviation = 4.64\n",
      "Coverage = 20.04 %\n",
      "Phase 4 average = 3.14 mm, standard deviation = 6.62\n",
      "Coverage = 21.35 %\n",
      "Mean Coverage 20.75\n",
      "Std deviation 21.26\n"
     ]
    }
   ],
   "source": [
    "for i in range(1,5):\n",
    "    a = np.array(df.loc[df['phaseid'] == i, ['Mean Prec']])\n",
    "    b = np.array(df.loc[df['phaseid'] == i, ['Mean Cov']])\n",
    "    print(\"Phase {} average = {} mm, standard deviation = {}\".format(i, \n",
    "                        round(np.average(a), 2), round(np.std(a), 2)))\n",
    "    print(\"Coverage = {} %\".format( \n",
    "                        round(np.average(b), 2)))\n",
    "print('Mean Coverage {}'.format(round(np.mean(df['Coverage']),2)))\n",
    "print('Std deviation {}'.format(round(np.std(df['Coverage']),2)))"
   ]
  },
  {
   "cell_type": "code",
   "execution_count": 129,
   "metadata": {},
   "outputs": [
    {
     "data": {
      "image/png": "[encoded data removed]",
      "text/plain": [
       "<Figure size 432x288 with 1 Axes>"
      ]
     },
     "metadata": {
      "needs_background": "light"
     },
     "output_type": "display_data"
    }
   ],
   "source": [
    "plt.hist(df['Precipitation'])\n",
    "plt.show()"
   ]
  },
  {
   "cell_type": "code",
   "execution_count": 130,
   "metadata": {},
   "outputs": [
    {
     "data": {
      "image/png": "[encoded data removed]",
      "text/plain": [
       "<Figure size 432x288 with 1 Axes>"
      ]
     },
     "metadata": {
      "needs_background": "light"
     },
     "output_type": "display_data"
    }
   ],
   "source": [
    "plt.plot(df['date'], df['Mean Cov'])\n",
    "plt.show()"
   ]
  },
  {
   "cell_type": "code",
   "execution_count": 131,
   "metadata": {},
   "outputs": [
    {
     "data": {
      "image/png": "[encoded data removed]",
      "text/plain": [
       "<Figure size 432x288 with 1 Axes>"
      ]
     },
     "metadata": {
      "needs_background": "light"
     },
     "output_type": "display_data"
    }
   ],
   "source": [
    "plt.scatter(np.sqrt(df['Coverage']), np.sqrt(df['Precipitation']))\n",
    "plt.show()"
   ]
  },
  {
   "cell_type": "code",
   "execution_count": 132,
   "metadata": {},
   "outputs": [
    {
     "data": {
      "image/png": "[encoded data removed]",
      "text/plain": [
       "<Figure size 432x288 with 1 Axes>"
      ]
     },
     "metadata": {
      "needs_background": "light"
     },
     "output_type": "display_data"
    }
   ],
   "source": [
    "import pylab \n",
    "import scipy.stats as stats\n",
    "\n",
    "stats.probplot(np.sqrt(df['Mean Cov']), dist=\"norm\", plot=pylab)\n",
    "pylab.show()"
   ]
  },
  {
   "cell_type": "code",
   "execution_count": 155,
   "metadata": {},
   "outputs": [
    {
     "data": {
      "image/png": "[encoded data removed]",
      "text/plain": [
       "<Figure size 432x288 with 1 Axes>"
      ]
     },
     "metadata": {
      "needs_background": "light"
     },
     "output_type": "display_data"
    }
   ],
   "source": [
    "plt.hist(np.sqrt(df['Mean Cov']), bins=20)\n",
    "plt.show()"
   ]
  },
  {
   "cell_type": "code",
   "execution_count": 134,
   "metadata": {
    "scrolled": true
   },
   "outputs": [
    {
     "data": {
      "image/png": "[encoded data removed]",
      "text/plain": [
       "<Figure size 432x288 with 1 Axes>"
      ]
     },
     "metadata": {
      "needs_background": "light"
     },
     "output_type": "display_data"
    }
   ],
   "source": [
    "stats.probplot(df['Mean Prec'], dist=\"norm\", plot=pylab)\n",
    "pylab.show()"
   ]
  },
  {
   "cell_type": "code",
   "execution_count": null,
   "metadata": {},
   "outputs": [],
   "source": []
  },
  {
   "cell_type": "code",
   "execution_count": null,
   "metadata": {},
   "outputs": [],
   "source": []
  }
 ],
 "metadata": {
  "kernelspec": {
   "display_name": "Python 3",
   "language": "python",
   "name": "python3"
  },
  "language_info": {
   "codemirror_mode": {
    "name": "ipython",
    "version": 3
   },
   "file_extension": ".py",
   "mimetype": "text/x-python",
   "name": "python",
   "nbconvert_exporter": "python",
   "pygments_lexer": "ipython3",
   "version": "3.7.1"
  }
 },
 "nbformat": 4,
 "nbformat_minor": 2
}
