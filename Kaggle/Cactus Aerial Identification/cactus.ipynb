{
 "cells": [
  {
   "cell_type": "code",
   "execution_count": 224,
   "metadata": {},
   "outputs": [],
   "source": [
    "import numpy as np\n",
    "import pandas as pd\n",
    "import os\n",
    "import cv2\n",
    "import time\n",
    "import matplotlib.pyplot as plt\n",
    "from keras.models import Sequential\n",
    "from tensorflow.keras.models import Sequential\n",
    "from tensorflow.keras.layers import InputLayer, Input\n",
    "from tensorflow.keras.layers import Conv2D, Dense, Flatten, Dropout, Activation\n",
    "from tensorflow.keras.layers import BatchNormalization, Reshape, MaxPooling2D, GlobalAveragePooling2D\n",
    "from tensorflow.keras.preprocessing.image import ImageDataGenerator\n",
    "from tensorflow.keras.callbacks import EarlyStopping, ModelCheckpoint\n"
   ]
  },
  {
   "cell_type": "code",
   "execution_count": 225,
   "metadata": {},
   "outputs": [],
   "source": [
    "train_dir=\"train\"\n",
    "test_dir=\"test\"\n",
    "train=pd.read_csv('train.csv')\n",
    "\n",
    "df_test=pd.read_csv('sample_submission.csv')"
   ]
  },
  {
   "cell_type": "code",
   "execution_count": 226,
   "metadata": {},
   "outputs": [],
   "source": [
    "train_imgs = os.listdir('./train')"
   ]
  },
  {
   "cell_type": "code",
   "execution_count": 227,
   "metadata": {},
   "outputs": [
    {
     "name": "stdout",
     "output_type": "stream",
     "text": [
      "0004be2cfeaba1c0361d39e2b000257b.jpg\n"
     ]
    }
   ],
   "source": [
    "print(train_imgs[0])"
   ]
  },
  {
   "cell_type": "code",
   "execution_count": 228,
   "metadata": {},
   "outputs": [],
   "source": [
    "huhu = cv2.imread(train_dir + '/' +  train_imgs[0])"
   ]
  },
  {
   "cell_type": "code",
   "execution_count": 229,
   "metadata": {},
   "outputs": [
    {
     "data": {
      "text/plain": [
       "(32, 32, 3)"
      ]
     },
     "execution_count": 229,
     "metadata": {},
     "output_type": "execute_result"
    }
   ],
   "source": [
    "np.shape(huhu)"
   ]
  },
  {
   "cell_type": "code",
   "execution_count": 230,
   "metadata": {},
   "outputs": [
    {
     "name": "stdout",
     "output_type": "stream",
     "text": [
      "train/0004be2cfeaba1c0361d39e2b000257b.jpg\n"
     ]
    }
   ],
   "source": [
    "print(train_dir + '/' + train_imgs[0])"
   ]
  },
  {
   "cell_type": "code",
   "execution_count": 232,
   "metadata": {},
   "outputs": [
    {
     "ename": "KeyboardInterrupt",
     "evalue": "",
     "output_type": "error",
     "traceback": [
      "\u001b[1;31m---------------------------------------------------------------------------\u001b[0m",
      "\u001b[1;31mKeyboardInterrupt\u001b[0m                         Traceback (most recent call last)",
      "\u001b[1;32m<ipython-input-232-acd5b60cfdc8>\u001b[0m in \u001b[0;36m<module>\u001b[1;34m\u001b[0m\n\u001b[0;32m      4\u001b[0m \u001b[1;32mfor\u001b[0m \u001b[0mi\u001b[0m \u001b[1;32min\u001b[0m \u001b[0mtrain_imgs\u001b[0m\u001b[1;33m:\u001b[0m\u001b[1;33m\u001b[0m\u001b[1;33m\u001b[0m\u001b[0m\n\u001b[0;32m      5\u001b[0m     \u001b[0ma\u001b[0m \u001b[1;33m=\u001b[0m \u001b[0mcv2\u001b[0m\u001b[1;33m.\u001b[0m\u001b[0mimread\u001b[0m\u001b[1;33m(\u001b[0m\u001b[0mtrain_dir\u001b[0m \u001b[1;33m+\u001b[0m \u001b[1;34m'/'\u001b[0m \u001b[1;33m+\u001b[0m  \u001b[0mi\u001b[0m\u001b[1;33m)\u001b[0m\u001b[1;33m\u001b[0m\u001b[1;33m\u001b[0m\u001b[0m\n\u001b[1;32m----> 6\u001b[1;33m     \u001b[0mtrain\u001b[0m \u001b[1;33m=\u001b[0m \u001b[0mnp\u001b[0m\u001b[1;33m.\u001b[0m\u001b[0mappend\u001b[0m\u001b[1;33m(\u001b[0m\u001b[0mtrain\u001b[0m\u001b[1;33m,\u001b[0m \u001b[0ma\u001b[0m\u001b[1;33m)\u001b[0m\u001b[1;33m\u001b[0m\u001b[1;33m\u001b[0m\u001b[0m\n\u001b[0m\u001b[0;32m      7\u001b[0m     \u001b[0mj\u001b[0m \u001b[1;33m+=\u001b[0m \u001b[1;36m1\u001b[0m\u001b[1;33m\u001b[0m\u001b[1;33m\u001b[0m\u001b[0m\n\u001b[0;32m      8\u001b[0m     \u001b[1;32mif\u001b[0m \u001b[0mj\u001b[0m\u001b[1;33m%\u001b[0m\u001b[1;36m1000\u001b[0m \u001b[1;33m==\u001b[0m \u001b[1;36m0\u001b[0m\u001b[1;33m:\u001b[0m\u001b[1;33m\u001b[0m\u001b[1;33m\u001b[0m\u001b[0m\n",
      "\u001b[1;32mE:\\Anaconda\\lib\\site-packages\\numpy\\lib\\function_base.py\u001b[0m in \u001b[0;36mappend\u001b[1;34m(arr, values, axis)\u001b[0m\n\u001b[0;32m   4692\u001b[0m         \u001b[0mvalues\u001b[0m \u001b[1;33m=\u001b[0m \u001b[0mravel\u001b[0m\u001b[1;33m(\u001b[0m\u001b[0mvalues\u001b[0m\u001b[1;33m)\u001b[0m\u001b[1;33m\u001b[0m\u001b[1;33m\u001b[0m\u001b[0m\n\u001b[0;32m   4693\u001b[0m         \u001b[0maxis\u001b[0m \u001b[1;33m=\u001b[0m \u001b[0marr\u001b[0m\u001b[1;33m.\u001b[0m\u001b[0mndim\u001b[0m\u001b[1;33m-\u001b[0m\u001b[1;36m1\u001b[0m\u001b[1;33m\u001b[0m\u001b[1;33m\u001b[0m\u001b[0m\n\u001b[1;32m-> 4694\u001b[1;33m     \u001b[1;32mreturn\u001b[0m \u001b[0mconcatenate\u001b[0m\u001b[1;33m(\u001b[0m\u001b[1;33m(\u001b[0m\u001b[0marr\u001b[0m\u001b[1;33m,\u001b[0m \u001b[0mvalues\u001b[0m\u001b[1;33m)\u001b[0m\u001b[1;33m,\u001b[0m \u001b[0maxis\u001b[0m\u001b[1;33m=\u001b[0m\u001b[0maxis\u001b[0m\u001b[1;33m)\u001b[0m\u001b[1;33m\u001b[0m\u001b[1;33m\u001b[0m\u001b[0m\n\u001b[0m\u001b[0;32m   4695\u001b[0m \u001b[1;33m\u001b[0m\u001b[0m\n\u001b[0;32m   4696\u001b[0m \u001b[1;33m\u001b[0m\u001b[0m\n",
      "\u001b[1;31mKeyboardInterrupt\u001b[0m: "
     ]
    }
   ],
   "source": [
    "train = np.array([])\n",
    "j = 0\n",
    "start = time.time()\n",
    "for i in train_imgs:\n",
    "    a = cv2.imread(train_dir + '/' +  i)\n",
    "    train = np.append(train, a)\n",
    "    j += 1\n",
    "    if j%1000 == 0:\n",
    "        print(j)\n",
    "        end = time.time()\n",
    "        print(end  - start)\n",
    "print(end - start)"
   ]
  },
  {
   "cell_type": "code",
   "execution_count": 350,
   "metadata": {},
   "outputs": [
    {
     "data": {
      "text/plain": [
       "(2307072,)"
      ]
     },
     "execution_count": 350,
     "metadata": {},
     "output_type": "execute_result"
    }
   ],
   "source": [
    "np.shape(train)"
   ]
  },
  {
   "cell_type": "code",
   "execution_count": null,
   "metadata": {},
   "outputs": [],
   "source": [
    "train_re  = train.reshape(17500,32,32,3)"
   ]
  },
  {
   "cell_type": "code",
   "execution_count": 351,
   "metadata": {},
   "outputs": [
    {
     "data": {
      "image/png": "[encoded data removed]",
      "text/plain": [
       "<Figure size 432x288 with 1 Axes>"
      ]
     },
     "metadata": {
      "needs_background": "light"
     },
     "output_type": "display_data"
    }
   ],
   "source": [
    "plt.imshow(np.array(train_re[1], np.int32))\n",
    "plt.show()"
   ]
  },
  {
   "cell_type": "code",
   "execution_count": null,
   "metadata": {},
   "outputs": [],
   "source": [
    "np.shape(train_re[0])"
   ]
  },
  {
   "cell_type": "code",
   "execution_count": null,
   "metadata": {},
   "outputs": [],
   "source": [
    "label = pd.read_csv('train.csv')\n",
    "label = label['has_cactus']\n",
    "label = np.array(label)\n",
    "np.shape(label)\n",
    "label = np.reshape(label, (17500,))\n",
    "np.shape(label)"
   ]
  },
  {
   "cell_type": "code",
   "execution_count": 352,
   "metadata": {},
   "outputs": [
    {
     "data": {
      "text/plain": [
       "(17500, 32, 32, 3)"
      ]
     },
     "execution_count": 352,
     "metadata": {},
     "output_type": "execute_result"
    }
   ],
   "source": [
    "np.shape(train_re)"
   ]
  },
  {
   "cell_type": "code",
   "execution_count": 292,
   "metadata": {},
   "outputs": [],
   "source": [
    "valid_x = train_re[15500:16500]\n",
    "valid_y = label[15500:16500]"
   ]
  },
  {
   "cell_type": "code",
   "execution_count": 293,
   "metadata": {},
   "outputs": [],
   "source": [
    "test_x  = train_re[16500:17500]\n",
    "test_y  = label[16500:17500]"
   ]
  },
  {
   "cell_type": "code",
   "execution_count": 294,
   "metadata": {},
   "outputs": [],
   "source": [
    "train_x = train_re[0:15500]\n",
    "train_y = label[0:15500]"
   ]
  },
  {
   "cell_type": "code",
   "execution_count": 342,
   "metadata": {},
   "outputs": [],
   "source": [
    "dropout_dense_layer = 0.6\n",
    "input_shape = (32,32,3)\n",
    "model = Sequential()\n",
    "\n",
    "model.add(Conv2D(32, (3, 3), input_shape=input_shape, use_bias=False))\n",
    "model.add(BatchNormalization(scale=False)) #CALL IT BEDORE ACTIVATION FUNCTION\n",
    "model.add(Activation('relu'))\n",
    "\n",
    "model.add(Conv2D(32, (3, 3), use_bias=False))\n",
    "model.add(BatchNormalization(scale=False))\n",
    "model.add(Activation('relu'))\n",
    "\n",
    "model.add(Conv2D(32, (3, 3), use_bias=False))\n",
    "model.add(BatchNormalization(scale=False))\n",
    "model.add(Activation('relu'))\n",
    "\n",
    "model.add(MaxPooling2D(pool_size=(2, 2)))\n",
    "\n",
    "model.add(Conv2D(64, (3, 3), use_bias=False))\n",
    "model.add(BatchNormalization(scale=False))\n",
    "model.add(Activation('relu'))\n",
    "\n",
    "model.add(Conv2D(64, (3, 3), use_bias=False))\n",
    "model.add(BatchNormalization(scale=False))\n",
    "model.add(Activation('relu'))\n",
    "\n",
    "model.add(Conv2D(64, (3, 3), use_bias=False))\n",
    "model.add(BatchNormalization(scale=False))\n",
    "model.add(Activation('relu'))\n",
    "\n",
    "model.add(MaxPooling2D(pool_size=(2, 2)))\n",
    "\n",
    "model.add(Conv2D(128, (3, 3), use_bias=False))\n",
    "model.add(BatchNormalization(scale=False))\n",
    "model.add(Activation('relu'))\n",
    "\n",
    "model.add(Flatten())\n",
    "model.add(Dense(1024))\n",
    "model.add(Activation('relu'))\n",
    "model.add(Dropout(dropout_dense_layer))\n",
    "\n",
    "model.add(Dense(256))\n",
    "model.add(Activation('relu'))\n",
    "model.add(Dropout(dropout_dense_layer))\n",
    "\n",
    "model.add(Dense(1))\n",
    "model.add(Activation('sigmoid'))\n",
    "\n",
    "model.compile(loss='binary_crossentropy',\n",
    "              optimizer='adam',\n",
    "              metrics=['accuracy'])\n",
    "\n",
    "callbacks = [EarlyStopping(monitor='val_loss', patience=25), \n",
    "                ModelCheckpoint(filepath='best_model2.h5', monitor='val_loss', save_best_only=True)]"
   ]
  },
  {
   "cell_type": "code",
   "execution_count": 343,
   "metadata": {},
   "outputs": [
    {
     "name": "stdout",
     "output_type": "stream",
     "text": [
      "Train on 15500 samples, validate on 1000 samples\n",
      "Epoch 1/10\n",
      "15500/15500 [==============================] - 133s 9ms/sample - loss: 0.1330 - acc: 0.9488 - val_loss: 0.3261 - val_acc: 0.8720\n",
      "Epoch 2/10\n",
      "15500/15500 [==============================] - 121s 8ms/sample - loss: 0.0747 - acc: 0.9746 - val_loss: 0.0608 - val_acc: 0.9780\n",
      "Epoch 3/10\n",
      "15500/15500 [==============================] - 121s 8ms/sample - loss: 0.0569 - acc: 0.9825 - val_loss: 1.2122 - val_acc: 0.8400\n",
      "Epoch 4/10\n",
      "15500/15500 [==============================] - 122s 8ms/sample - loss: 0.0475 - acc: 0.9839 - val_loss: 3.0281 - val_acc: 0.7850\n",
      "Epoch 5/10\n",
      "15500/15500 [==============================] - 125s 8ms/sample - loss: 0.0361 - acc: 0.9889 - val_loss: 0.0469 - val_acc: 0.9840\n",
      "Epoch 6/10\n",
      "15500/15500 [==============================] - 133s 9ms/sample - loss: 0.0307 - acc: 0.9900 - val_loss: 0.0419 - val_acc: 0.9840\n",
      "Epoch 7/10\n",
      "15500/15500 [==============================] - 135s 9ms/sample - loss: 0.0326 - acc: 0.9901 - val_loss: 0.1186 - val_acc: 0.9790\n",
      "Epoch 8/10\n",
      "15500/15500 [==============================] - 134s 9ms/sample - loss: 0.0228 - acc: 0.9923 - val_loss: 0.0313 - val_acc: 0.9870\n",
      "Epoch 9/10\n",
      "15500/15500 [==============================] - 133s 9ms/sample - loss: 0.0251 - acc: 0.9920 - val_loss: 0.0208 - val_acc: 0.9910\n",
      "Epoch 10/10\n",
      "15500/15500 [==============================] - 133s 9ms/sample - loss: 0.0183 - acc: 0.9939 - val_loss: 0.0122 - val_acc: 0.9970\n"
     ]
    },
    {
     "data": {
      "text/plain": [
       "<tensorflow.python.keras.callbacks.History at 0x2134372ebe0>"
      ]
     },
     "execution_count": 343,
     "metadata": {},
     "output_type": "execute_result"
    }
   ],
   "source": [
    "model.fit(x = train_x, y = train_y, epochs = 10, callbacks=callbacks, validation_data=(valid_x, valid_y))"
   ]
  },
  {
   "cell_type": "code",
   "execution_count": 353,
   "metadata": {},
   "outputs": [
    {
     "name": "stdout",
     "output_type": "stream",
     "text": [
      "_________________________________________________________________\n",
      "Layer (type)                 Output Shape              Param #   \n",
      "=================================================================\n",
      "conv2d_128 (Conv2D)          (None, 30, 30, 32)        864       \n",
      "_________________________________________________________________\n",
      "batch_normalization_v1_127 ( (None, 30, 30, 32)        96        \n",
      "_________________________________________________________________\n",
      "activation_181 (Activation)  (None, 30, 30, 32)        0         \n",
      "_________________________________________________________________\n",
      "conv2d_129 (Conv2D)          (None, 28, 28, 32)        9216      \n",
      "_________________________________________________________________\n",
      "batch_normalization_v1_128 ( (None, 28, 28, 32)        96        \n",
      "_________________________________________________________________\n",
      "activation_182 (Activation)  (None, 28, 28, 32)        0         \n",
      "_________________________________________________________________\n",
      "conv2d_130 (Conv2D)          (None, 26, 26, 32)        9216      \n",
      "_________________________________________________________________\n",
      "batch_normalization_v1_129 ( (None, 26, 26, 32)        96        \n",
      "_________________________________________________________________\n",
      "activation_183 (Activation)  (None, 26, 26, 32)        0         \n",
      "_________________________________________________________________\n",
      "max_pooling2d_36 (MaxPooling (None, 13, 13, 32)        0         \n",
      "_________________________________________________________________\n",
      "conv2d_131 (Conv2D)          (None, 11, 11, 64)        18432     \n",
      "_________________________________________________________________\n",
      "batch_normalization_v1_130 ( (None, 11, 11, 64)        192       \n",
      "_________________________________________________________________\n",
      "activation_184 (Activation)  (None, 11, 11, 64)        0         \n",
      "_________________________________________________________________\n",
      "conv2d_132 (Conv2D)          (None, 9, 9, 64)          36864     \n",
      "_________________________________________________________________\n",
      "batch_normalization_v1_131 ( (None, 9, 9, 64)          192       \n",
      "_________________________________________________________________\n",
      "activation_185 (Activation)  (None, 9, 9, 64)          0         \n",
      "_________________________________________________________________\n",
      "conv2d_133 (Conv2D)          (None, 7, 7, 64)          36864     \n",
      "_________________________________________________________________\n",
      "batch_normalization_v1_132 ( (None, 7, 7, 64)          192       \n",
      "_________________________________________________________________\n",
      "activation_186 (Activation)  (None, 7, 7, 64)          0         \n",
      "_________________________________________________________________\n",
      "max_pooling2d_37 (MaxPooling (None, 3, 3, 64)          0         \n",
      "_________________________________________________________________\n",
      "conv2d_134 (Conv2D)          (None, 1, 1, 128)         73728     \n",
      "_________________________________________________________________\n",
      "batch_normalization_v1_133 ( (None, 1, 1, 128)         384       \n",
      "_________________________________________________________________\n",
      "activation_187 (Activation)  (None, 1, 1, 128)         0         \n",
      "_________________________________________________________________\n",
      "flatten_18 (Flatten)         (None, 128)               0         \n",
      "_________________________________________________________________\n",
      "dense_54 (Dense)             (None, 1024)              132096    \n",
      "_________________________________________________________________\n",
      "activation_188 (Activation)  (None, 1024)              0         \n",
      "_________________________________________________________________\n",
      "dropout_36 (Dropout)         (None, 1024)              0         \n",
      "_________________________________________________________________\n",
      "dense_55 (Dense)             (None, 256)               262400    \n",
      "_________________________________________________________________\n",
      "activation_189 (Activation)  (None, 256)               0         \n",
      "_________________________________________________________________\n",
      "dropout_37 (Dropout)         (None, 256)               0         \n",
      "_________________________________________________________________\n",
      "dense_56 (Dense)             (None, 1)                 257       \n",
      "_________________________________________________________________\n",
      "activation_190 (Activation)  (None, 1)                 0         \n",
      "=================================================================\n",
      "Total params: 581,185\n",
      "Trainable params: 580,353\n",
      "Non-trainable params: 832\n",
      "_________________________________________________________________\n"
     ]
    }
   ],
   "source": [
    "model.summary()"
   ]
  },
  {
   "cell_type": "code",
   "execution_count": 260,
   "metadata": {},
   "outputs": [
    {
     "name": "stdout",
     "output_type": "stream",
     "text": [
      "1000\n",
      "5.780534505844116\n",
      "2000\n",
      "19.91472315788269\n",
      "3000\n",
      "41.75529456138611\n",
      "4000\n",
      "71.3710663318634\n",
      "71.3710663318634\n"
     ]
    }
   ],
   "source": [
    "test_imgs = os.listdir('./test')\n",
    "test = np.array([])\n",
    "j = 0\n",
    "start = time.time()\n",
    "for i in test_imgs:\n",
    "    a = cv2.imread(test_dir + '/' +  i)\n",
    "    test = np.append(test, a)\n",
    "    j += 1\n",
    "    if j%1000 == 0:\n",
    "        print(j)\n",
    "        end = time.time()\n",
    "        print(end  - start)\n",
    "print(end - start)"
   ]
  },
  {
   "cell_type": "code",
   "execution_count": 261,
   "metadata": {},
   "outputs": [],
   "source": [
    "test_re = test.reshape(4000, 32, 32, 3 )"
   ]
  },
  {
   "cell_type": "code",
   "execution_count": 344,
   "metadata": {},
   "outputs": [],
   "source": [
    "submission_label = np.int16(np.round(model.predict(test_x)))"
   ]
  },
  {
   "cell_type": "code",
   "execution_count": 345,
   "metadata": {},
   "outputs": [
    {
     "data": {
      "text/plain": [
       "array([[246,   4],\n",
       "       [  6, 744]], dtype=int64)"
      ]
     },
     "execution_count": 345,
     "metadata": {},
     "output_type": "execute_result"
    }
   ],
   "source": [
    "from sklearn.metrics import confusion_matrix\n",
    "\n",
    "\n",
    "y_true = test_y\n",
    "y_pred = submission_label\n",
    "confusion_matrix(y_true, y_pred)\n",
    "\n"
   ]
  },
  {
   "cell_type": "code",
   "execution_count": 346,
   "metadata": {},
   "outputs": [
    {
     "name": "stdout",
     "output_type": "stream",
     "text": [
      "              precision    recall  f1-score   support\n",
      "\n",
      "           0       0.98      0.98      0.98       250\n",
      "           1       0.99      0.99      0.99       750\n",
      "\n",
      "   micro avg       0.99      0.99      0.99      1000\n",
      "   macro avg       0.99      0.99      0.99      1000\n",
      "weighted avg       0.99      0.99      0.99      1000\n",
      "\n"
     ]
    }
   ],
   "source": [
    "from sklearn.metrics import classification_report\n",
    "\n",
    "print(classification_report(y_true, y_pred))"
   ]
  },
  {
   "cell_type": "code",
   "execution_count": 347,
   "metadata": {},
   "outputs": [
    {
     "data": {
      "text/plain": [
       "0.946"
      ]
     },
     "execution_count": 347,
     "metadata": {},
     "output_type": "execute_result"
    }
   ],
   "source": [
    "accuracy = (201 + 745)  / (5 + 745 + 49 + 201)\n",
    "accuracy"
   ]
  },
  {
   "cell_type": "code",
   "execution_count": 348,
   "metadata": {},
   "outputs": [
    {
     "data": {
      "text/plain": [
       "0.988"
      ]
     },
     "execution_count": 348,
     "metadata": {},
     "output_type": "execute_result"
    }
   ],
   "source": [
    "\n",
    "from sklearn.metrics import roc_auc_score\n",
    "\n",
    "roc_auc_score(y_true, y_pred)"
   ]
  },
  {
   "cell_type": "code",
   "execution_count": 349,
   "metadata": {},
   "outputs": [
    {
     "data": {
      "text/plain": [
       "0.9926951871657754"
      ]
     },
     "execution_count": 349,
     "metadata": {},
     "output_type": "execute_result"
    }
   ],
   "source": [
    "\n",
    "from sklearn.metrics import average_precision_score\n",
    "\n",
    "average_precision_score(y_true, y_pred)"
   ]
  },
  {
   "cell_type": "code",
   "execution_count": 263,
   "metadata": {},
   "outputs": [],
   "source": [
    "submit = pd.DataFrame(test_imgs)"
   ]
  },
  {
   "cell_type": "code",
   "execution_count": 264,
   "metadata": {},
   "outputs": [],
   "source": [
    "submit['has_cactus'] = np.round(submission_label)"
   ]
  },
  {
   "cell_type": "code",
   "execution_count": 265,
   "metadata": {},
   "outputs": [],
   "source": [
    "submit.columns = ['id', 'has_cactus']"
   ]
  },
  {
   "cell_type": "code",
   "execution_count": 266,
   "metadata": {},
   "outputs": [
    {
     "data": {
      "text/html": [
       "<div>\n",
       "<style scoped>\n",
       "    .dataframe tbody tr th:only-of-type {\n",
       "        vertical-align: middle;\n",
       "    }\n",
       "\n",
       "    .dataframe tbody tr th {\n",
       "        vertical-align: top;\n",
       "    }\n",
       "\n",
       "    .dataframe thead th {\n",
       "        text-align: right;\n",
       "    }\n",
       "</style>\n",
       "<table border=\"1\" class=\"dataframe\">\n",
       "  <thead>\n",
       "    <tr style=\"text-align: right;\">\n",
       "      <th></th>\n",
       "      <th>id</th>\n",
       "      <th>has_cactus</th>\n",
       "    </tr>\n",
       "  </thead>\n",
       "  <tbody>\n",
       "    <tr>\n",
       "      <th>0</th>\n",
       "      <td>000940378805c44108d287872b2f04ce.jpg</td>\n",
       "      <td>1.0</td>\n",
       "    </tr>\n",
       "    <tr>\n",
       "      <th>1</th>\n",
       "      <td>0017242f54ececa4512b4d7937d1e21e.jpg</td>\n",
       "      <td>1.0</td>\n",
       "    </tr>\n",
       "    <tr>\n",
       "      <th>2</th>\n",
       "      <td>001ee6d8564003107853118ab87df407.jpg</td>\n",
       "      <td>0.0</td>\n",
       "    </tr>\n",
       "    <tr>\n",
       "      <th>3</th>\n",
       "      <td>002e175c3c1e060769475f52182583d0.jpg</td>\n",
       "      <td>0.0</td>\n",
       "    </tr>\n",
       "    <tr>\n",
       "      <th>4</th>\n",
       "      <td>0036e44a7e8f7218e9bc7bf8137e4943.jpg</td>\n",
       "      <td>1.0</td>\n",
       "    </tr>\n",
       "    <tr>\n",
       "      <th>5</th>\n",
       "      <td>0038ed6f7417b8275b393307f66cb1e3.jpg</td>\n",
       "      <td>1.0</td>\n",
       "    </tr>\n",
       "    <tr>\n",
       "      <th>6</th>\n",
       "      <td>0059dfa41de4441fc23b9a4b98ba99cb.jpg</td>\n",
       "      <td>1.0</td>\n",
       "    </tr>\n",
       "    <tr>\n",
       "      <th>7</th>\n",
       "      <td>0061bd302d735db829418cb90b4e6040.jpg</td>\n",
       "      <td>1.0</td>\n",
       "    </tr>\n",
       "    <tr>\n",
       "      <th>8</th>\n",
       "      <td>00754573d8c7223e73da553dd43780bd.jpg</td>\n",
       "      <td>1.0</td>\n",
       "    </tr>\n",
       "    <tr>\n",
       "      <th>9</th>\n",
       "      <td>008d9fce71c8e03a4c9cdd15ea908573.jpg</td>\n",
       "      <td>0.0</td>\n",
       "    </tr>\n",
       "    <tr>\n",
       "      <th>10</th>\n",
       "      <td>00a36d4d6d152404670276fc983273bc.jpg</td>\n",
       "      <td>1.0</td>\n",
       "    </tr>\n",
       "    <tr>\n",
       "      <th>11</th>\n",
       "      <td>00b706122b87e0fa275ff59e39d4d94b.jpg</td>\n",
       "      <td>1.0</td>\n",
       "    </tr>\n",
       "    <tr>\n",
       "      <th>12</th>\n",
       "      <td>00c054da839d5518e59790f7d867f317.jpg</td>\n",
       "      <td>0.0</td>\n",
       "    </tr>\n",
       "    <tr>\n",
       "      <th>13</th>\n",
       "      <td>00c88441b0510cdb3a6e9b3fa7b632af.jpg</td>\n",
       "      <td>1.0</td>\n",
       "    </tr>\n",
       "    <tr>\n",
       "      <th>14</th>\n",
       "      <td>00e1e29865202c8ca715b0f14848d577.jpg</td>\n",
       "      <td>0.0</td>\n",
       "    </tr>\n",
       "    <tr>\n",
       "      <th>15</th>\n",
       "      <td>00e20b0e6d779e7c36cea29710eed88e.jpg</td>\n",
       "      <td>1.0</td>\n",
       "    </tr>\n",
       "    <tr>\n",
       "      <th>16</th>\n",
       "      <td>00feb0be23ac80f397a55b0ed8502def.jpg</td>\n",
       "      <td>1.0</td>\n",
       "    </tr>\n",
       "    <tr>\n",
       "      <th>17</th>\n",
       "      <td>01185a1a81bb8041fa5e9c9ada9374eb.jpg</td>\n",
       "      <td>1.0</td>\n",
       "    </tr>\n",
       "    <tr>\n",
       "      <th>18</th>\n",
       "      <td>0124398c0fcf6d1c92d9800337636b4e.jpg</td>\n",
       "      <td>1.0</td>\n",
       "    </tr>\n",
       "    <tr>\n",
       "      <th>19</th>\n",
       "      <td>0127044dfc88dfaed0118c8764909800.jpg</td>\n",
       "      <td>1.0</td>\n",
       "    </tr>\n",
       "    <tr>\n",
       "      <th>20</th>\n",
       "      <td>012c260033e652ab9690ea4bb3f63483.jpg</td>\n",
       "      <td>1.0</td>\n",
       "    </tr>\n",
       "    <tr>\n",
       "      <th>21</th>\n",
       "      <td>0145b0da83f36fcfe1a1309355154c9f.jpg</td>\n",
       "      <td>0.0</td>\n",
       "    </tr>\n",
       "    <tr>\n",
       "      <th>22</th>\n",
       "      <td>01723d584648a9c88704625121443d46.jpg</td>\n",
       "      <td>1.0</td>\n",
       "    </tr>\n",
       "    <tr>\n",
       "      <th>23</th>\n",
       "      <td>017396273d436137bbecaeb650dca415.jpg</td>\n",
       "      <td>0.0</td>\n",
       "    </tr>\n",
       "    <tr>\n",
       "      <th>24</th>\n",
       "      <td>0188f5ba08afcb5fa036a8c48aff1d1a.jpg</td>\n",
       "      <td>1.0</td>\n",
       "    </tr>\n",
       "    <tr>\n",
       "      <th>25</th>\n",
       "      <td>01a840130560403d291c6b7cb3ed6cf3.jpg</td>\n",
       "      <td>0.0</td>\n",
       "    </tr>\n",
       "    <tr>\n",
       "      <th>26</th>\n",
       "      <td>01b73e88077f801b357064e7dd914db6.jpg</td>\n",
       "      <td>1.0</td>\n",
       "    </tr>\n",
       "    <tr>\n",
       "      <th>27</th>\n",
       "      <td>01c77430f6e5062bfde2427cdd312a39.jpg</td>\n",
       "      <td>1.0</td>\n",
       "    </tr>\n",
       "    <tr>\n",
       "      <th>28</th>\n",
       "      <td>01cd51bb115fe5c0c37acd8d8800613e.jpg</td>\n",
       "      <td>1.0</td>\n",
       "    </tr>\n",
       "    <tr>\n",
       "      <th>29</th>\n",
       "      <td>01e890418e216253bf5339ee4c96b65e.jpg</td>\n",
       "      <td>1.0</td>\n",
       "    </tr>\n",
       "    <tr>\n",
       "      <th>...</th>\n",
       "      <td>...</td>\n",
       "      <td>...</td>\n",
       "    </tr>\n",
       "    <tr>\n",
       "      <th>3970</th>\n",
       "      <td>fe3af39f7ed104cb1a1d3764b0df3d8b.jpg</td>\n",
       "      <td>0.0</td>\n",
       "    </tr>\n",
       "    <tr>\n",
       "      <th>3971</th>\n",
       "      <td>fe595c2f96952db75f8dea9e6d2a6402.jpg</td>\n",
       "      <td>1.0</td>\n",
       "    </tr>\n",
       "    <tr>\n",
       "      <th>3972</th>\n",
       "      <td>fe6f5c37f1bd08202390b617d5405a48.jpg</td>\n",
       "      <td>0.0</td>\n",
       "    </tr>\n",
       "    <tr>\n",
       "      <th>3973</th>\n",
       "      <td>fe75980d25479a3410a97a0a612f2bd6.jpg</td>\n",
       "      <td>1.0</td>\n",
       "    </tr>\n",
       "    <tr>\n",
       "      <th>3974</th>\n",
       "      <td>fe875b77445bae122678aa8ad855ff77.jpg</td>\n",
       "      <td>1.0</td>\n",
       "    </tr>\n",
       "    <tr>\n",
       "      <th>3975</th>\n",
       "      <td>fe8d3adf09859c03d6d7baf9dc1042f8.jpg</td>\n",
       "      <td>1.0</td>\n",
       "    </tr>\n",
       "    <tr>\n",
       "      <th>3976</th>\n",
       "      <td>fe958d4dfeba58fa21cacc156246a320.jpg</td>\n",
       "      <td>0.0</td>\n",
       "    </tr>\n",
       "    <tr>\n",
       "      <th>3977</th>\n",
       "      <td>feb5e97217dde30ad23505a9bc246c12.jpg</td>\n",
       "      <td>1.0</td>\n",
       "    </tr>\n",
       "    <tr>\n",
       "      <th>3978</th>\n",
       "      <td>febf18e1e32539bd2014e83376e297ed.jpg</td>\n",
       "      <td>1.0</td>\n",
       "    </tr>\n",
       "    <tr>\n",
       "      <th>3979</th>\n",
       "      <td>fef042cf395d8d236c7a222ca6111f6f.jpg</td>\n",
       "      <td>1.0</td>\n",
       "    </tr>\n",
       "    <tr>\n",
       "      <th>3980</th>\n",
       "      <td>fef24110b83b6fc439f6fa823ad6ce78.jpg</td>\n",
       "      <td>1.0</td>\n",
       "    </tr>\n",
       "    <tr>\n",
       "      <th>3981</th>\n",
       "      <td>ff01372293362bd068923395535d831f.jpg</td>\n",
       "      <td>1.0</td>\n",
       "    </tr>\n",
       "    <tr>\n",
       "      <th>3982</th>\n",
       "      <td>ff0437b4c375e4e8cd8ebba5ecab3500.jpg</td>\n",
       "      <td>1.0</td>\n",
       "    </tr>\n",
       "    <tr>\n",
       "      <th>3983</th>\n",
       "      <td>ff0cba3dc2ea18ce5cff5a2379f1d927.jpg</td>\n",
       "      <td>1.0</td>\n",
       "    </tr>\n",
       "    <tr>\n",
       "      <th>3984</th>\n",
       "      <td>ff1c471a319b31a8b570df85e344a5d1.jpg</td>\n",
       "      <td>1.0</td>\n",
       "    </tr>\n",
       "    <tr>\n",
       "      <th>3985</th>\n",
       "      <td>ff2ebd7673bd012b5f5920039530479b.jpg</td>\n",
       "      <td>1.0</td>\n",
       "    </tr>\n",
       "    <tr>\n",
       "      <th>3986</th>\n",
       "      <td>ff360b32a4cb50adf2f89ab3cfc9b6aa.jpg</td>\n",
       "      <td>0.0</td>\n",
       "    </tr>\n",
       "    <tr>\n",
       "      <th>3987</th>\n",
       "      <td>ff4d7f31dd2413ed8eef344470f20d97.jpg</td>\n",
       "      <td>0.0</td>\n",
       "    </tr>\n",
       "    <tr>\n",
       "      <th>3988</th>\n",
       "      <td>ff680e4f9bb7283eaf4cbc7530099657.jpg</td>\n",
       "      <td>0.0</td>\n",
       "    </tr>\n",
       "    <tr>\n",
       "      <th>3989</th>\n",
       "      <td>ff6d1ceccb9e19e750fc7e2c637c3c83.jpg</td>\n",
       "      <td>1.0</td>\n",
       "    </tr>\n",
       "    <tr>\n",
       "      <th>3990</th>\n",
       "      <td>ff6f8ae36c1d66214127fe5008789407.jpg</td>\n",
       "      <td>1.0</td>\n",
       "    </tr>\n",
       "    <tr>\n",
       "      <th>3991</th>\n",
       "      <td>ff7403812efdc9ec93301c32e8f39c30.jpg</td>\n",
       "      <td>1.0</td>\n",
       "    </tr>\n",
       "    <tr>\n",
       "      <th>3992</th>\n",
       "      <td>ff8bc1e0fe61fba8ea9a05c91cd0933a.jpg</td>\n",
       "      <td>1.0</td>\n",
       "    </tr>\n",
       "    <tr>\n",
       "      <th>3993</th>\n",
       "      <td>ff9937f41664d329822e72c6a14d3f16.jpg</td>\n",
       "      <td>1.0</td>\n",
       "    </tr>\n",
       "    <tr>\n",
       "      <th>3994</th>\n",
       "      <td>ff9c0bafab5f89febd18c1d6865c079b.jpg</td>\n",
       "      <td>1.0</td>\n",
       "    </tr>\n",
       "    <tr>\n",
       "      <th>3995</th>\n",
       "      <td>ffaafd0c9f2f0e73172848463bc2e523.jpg</td>\n",
       "      <td>1.0</td>\n",
       "    </tr>\n",
       "    <tr>\n",
       "      <th>3996</th>\n",
       "      <td>ffae37344310a1549162493237d25d3f.jpg</td>\n",
       "      <td>1.0</td>\n",
       "    </tr>\n",
       "    <tr>\n",
       "      <th>3997</th>\n",
       "      <td>ffbd469c56873d064326204aac546e0d.jpg</td>\n",
       "      <td>1.0</td>\n",
       "    </tr>\n",
       "    <tr>\n",
       "      <th>3998</th>\n",
       "      <td>ffcb76b7d47f29ece11c751e5f763f52.jpg</td>\n",
       "      <td>1.0</td>\n",
       "    </tr>\n",
       "    <tr>\n",
       "      <th>3999</th>\n",
       "      <td>fffed17d1a8e0433a934db518d7f532c.jpg</td>\n",
       "      <td>1.0</td>\n",
       "    </tr>\n",
       "  </tbody>\n",
       "</table>\n",
       "<p>4000 rows × 2 columns</p>\n",
       "</div>"
      ],
      "text/plain": [
       "                                        id  has_cactus\n",
       "0     000940378805c44108d287872b2f04ce.jpg         1.0\n",
       "1     0017242f54ececa4512b4d7937d1e21e.jpg         1.0\n",
       "2     001ee6d8564003107853118ab87df407.jpg         0.0\n",
       "3     002e175c3c1e060769475f52182583d0.jpg         0.0\n",
       "4     0036e44a7e8f7218e9bc7bf8137e4943.jpg         1.0\n",
       "5     0038ed6f7417b8275b393307f66cb1e3.jpg         1.0\n",
       "6     0059dfa41de4441fc23b9a4b98ba99cb.jpg         1.0\n",
       "7     0061bd302d735db829418cb90b4e6040.jpg         1.0\n",
       "8     00754573d8c7223e73da553dd43780bd.jpg         1.0\n",
       "9     008d9fce71c8e03a4c9cdd15ea908573.jpg         0.0\n",
       "10    00a36d4d6d152404670276fc983273bc.jpg         1.0\n",
       "11    00b706122b87e0fa275ff59e39d4d94b.jpg         1.0\n",
       "12    00c054da839d5518e59790f7d867f317.jpg         0.0\n",
       "13    00c88441b0510cdb3a6e9b3fa7b632af.jpg         1.0\n",
       "14    00e1e29865202c8ca715b0f14848d577.jpg         0.0\n",
       "15    00e20b0e6d779e7c36cea29710eed88e.jpg         1.0\n",
       "16    00feb0be23ac80f397a55b0ed8502def.jpg         1.0\n",
       "17    01185a1a81bb8041fa5e9c9ada9374eb.jpg         1.0\n",
       "18    0124398c0fcf6d1c92d9800337636b4e.jpg         1.0\n",
       "19    0127044dfc88dfaed0118c8764909800.jpg         1.0\n",
       "20    012c260033e652ab9690ea4bb3f63483.jpg         1.0\n",
       "21    0145b0da83f36fcfe1a1309355154c9f.jpg         0.0\n",
       "22    01723d584648a9c88704625121443d46.jpg         1.0\n",
       "23    017396273d436137bbecaeb650dca415.jpg         0.0\n",
       "24    0188f5ba08afcb5fa036a8c48aff1d1a.jpg         1.0\n",
       "25    01a840130560403d291c6b7cb3ed6cf3.jpg         0.0\n",
       "26    01b73e88077f801b357064e7dd914db6.jpg         1.0\n",
       "27    01c77430f6e5062bfde2427cdd312a39.jpg         1.0\n",
       "28    01cd51bb115fe5c0c37acd8d8800613e.jpg         1.0\n",
       "29    01e890418e216253bf5339ee4c96b65e.jpg         1.0\n",
       "...                                    ...         ...\n",
       "3970  fe3af39f7ed104cb1a1d3764b0df3d8b.jpg         0.0\n",
       "3971  fe595c2f96952db75f8dea9e6d2a6402.jpg         1.0\n",
       "3972  fe6f5c37f1bd08202390b617d5405a48.jpg         0.0\n",
       "3973  fe75980d25479a3410a97a0a612f2bd6.jpg         1.0\n",
       "3974  fe875b77445bae122678aa8ad855ff77.jpg         1.0\n",
       "3975  fe8d3adf09859c03d6d7baf9dc1042f8.jpg         1.0\n",
       "3976  fe958d4dfeba58fa21cacc156246a320.jpg         0.0\n",
       "3977  feb5e97217dde30ad23505a9bc246c12.jpg         1.0\n",
       "3978  febf18e1e32539bd2014e83376e297ed.jpg         1.0\n",
       "3979  fef042cf395d8d236c7a222ca6111f6f.jpg         1.0\n",
       "3980  fef24110b83b6fc439f6fa823ad6ce78.jpg         1.0\n",
       "3981  ff01372293362bd068923395535d831f.jpg         1.0\n",
       "3982  ff0437b4c375e4e8cd8ebba5ecab3500.jpg         1.0\n",
       "3983  ff0cba3dc2ea18ce5cff5a2379f1d927.jpg         1.0\n",
       "3984  ff1c471a319b31a8b570df85e344a5d1.jpg         1.0\n",
       "3985  ff2ebd7673bd012b5f5920039530479b.jpg         1.0\n",
       "3986  ff360b32a4cb50adf2f89ab3cfc9b6aa.jpg         0.0\n",
       "3987  ff4d7f31dd2413ed8eef344470f20d97.jpg         0.0\n",
       "3988  ff680e4f9bb7283eaf4cbc7530099657.jpg         0.0\n",
       "3989  ff6d1ceccb9e19e750fc7e2c637c3c83.jpg         1.0\n",
       "3990  ff6f8ae36c1d66214127fe5008789407.jpg         1.0\n",
       "3991  ff7403812efdc9ec93301c32e8f39c30.jpg         1.0\n",
       "3992  ff8bc1e0fe61fba8ea9a05c91cd0933a.jpg         1.0\n",
       "3993  ff9937f41664d329822e72c6a14d3f16.jpg         1.0\n",
       "3994  ff9c0bafab5f89febd18c1d6865c079b.jpg         1.0\n",
       "3995  ffaafd0c9f2f0e73172848463bc2e523.jpg         1.0\n",
       "3996  ffae37344310a1549162493237d25d3f.jpg         1.0\n",
       "3997  ffbd469c56873d064326204aac546e0d.jpg         1.0\n",
       "3998  ffcb76b7d47f29ece11c751e5f763f52.jpg         1.0\n",
       "3999  fffed17d1a8e0433a934db518d7f532c.jpg         1.0\n",
       "\n",
       "[4000 rows x 2 columns]"
      ]
     },
     "execution_count": 266,
     "metadata": {},
     "output_type": "execute_result"
    }
   ],
   "source": [
    "submit"
   ]
  },
  {
   "cell_type": "code",
   "execution_count": 269,
   "metadata": {},
   "outputs": [],
   "source": [
    "submit.to_csv('submission cactus.csv', encoding='utf-8', index=False, sep =',')"
   ]
  },
  {
   "cell_type": "code",
   "execution_count": null,
   "metadata": {},
   "outputs": [],
   "source": []
  }
 ],
 "metadata": {
  "kernelspec": {
   "display_name": "Python 3",
   "language": "python",
   "name": "python3"
  },
  "language_info": {
   "codemirror_mode": {
    "name": "ipython",
    "version": 3
   },
   "file_extension": ".py",
   "mimetype": "text/x-python",
   "name": "python",
   "nbconvert_exporter": "python",
   "pygments_lexer": "ipython3",
   "version": "3.7.3"
  }
 },
 "nbformat": 4,
 "nbformat_minor": 2
}
