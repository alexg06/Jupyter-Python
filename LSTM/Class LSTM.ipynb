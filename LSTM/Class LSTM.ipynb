{
 "cells": [
  {
   "cell_type": "code",
   "execution_count": 1,
   "metadata": {},
   "outputs": [],
   "source": [
    "import numpy as np\n",
    "import matplotlib.pyplot as plt\n",
    "from tensorflow.keras.models import Sequential\n",
    "from tensorflow.keras.layers import Dense\n",
    "from tensorflow.keras.layers import Dropout\n",
    "from tensorflow.keras.layers import LSTM\n",
    "from sklearn.preprocessing import MinMaxScaler\n",
    "from sklearn.metrics import mean_squared_error\n",
    "from tensorflow.keras.optimizers import Adam\n",
    "from scipy.signal import savgol_filter\n",
    "import pandas as pd"
   ]
  },
  {
   "cell_type": "code",
   "execution_count": 2,
   "metadata": {},
   "outputs": [],
   "source": [
    "class Class_LSTM:\n",
    "    \n",
    "    def __init__(self, inputData, window):\n",
    "        self.df = inputData\n",
    "        self.meanDf = self.df.mean()\n",
    "        self.stdDf = self.df.std()\n",
    "        self.smoothBool = 0\n",
    "        self.dfNorm = (self.df - self.meanDf) / self.stdDf\n",
    "        self.window = window\n",
    "    \n",
    "    def function_TimeSeriesGenerator(self):\n",
    "        self.listData = np.array([])\n",
    "        self.listLabel = np.array([])\n",
    "        if self.smoothBool == 0:\n",
    "            for i in range(len(self.dfNorm)-self.window):\n",
    "                self.tmp_data = self.dfNorm[i:i+self.window]\n",
    "                self.tmp_label = self.dfNorm[i+self.window]\n",
    "                self.listData = np.append(self.listData, self.tmp_data)\n",
    "                self.listLabel = np.append(self.listLabel, self.tmp_label)\n",
    "            self.arrayData = np.reshape(self.listData, (i+1, self.window,1))\n",
    "            self.paramShape = (self.window, 1)\n",
    "        else:\n",
    "            for i in range(len(self.dfSmooth)-self.window):\n",
    "                self.tmp_data = self.dfSmooth[i:i+self.window]\n",
    "                self.tmp_label = self.dfSmooth[i+self.window]\n",
    "                self.listData = np.append(self.listData, self.tmp_data)\n",
    "                self.listLabel = np.append(self.listLabel, self.tmp_label)\n",
    "            self.arrayData = np.reshape(self.listData, (i+1, self.window,1))\n",
    "            self.paramShape = (self.window, 1)\n",
    "            \n",
    "\n",
    "        return self.arrayData, self.listLabel, self.paramShape\n",
    "    \n",
    "    def function_Smooth(self, window2):\n",
    "        self.savgolWindow = window2\n",
    "        if self.savgolWindow == 0:\n",
    "            self.smoothBool = 0\n",
    "        else:\n",
    "            self.dfSmooth = savgol_filter(self.dfNorm, self.savgolWindow, 2)\n",
    "            self.smoothBool = 1\n",
    "        \n",
    "    \n",
    "        \n",
    "\n",
    "    def functionLSTM_Model(self, input_layer, nbHidden=0, drop_out=0):\n",
    "        self.inputLayer = input_layer\n",
    "        self.hiddenLayers = nbHidden\n",
    "        self.lstmShape = np.shape(self.arrayData[1])\n",
    "        self.drop = drop_out\n",
    "        self.output_layer = 1\n",
    "        self.model = Sequential()\n",
    "        #INPUT LAYER\n",
    "        if self.hiddenLayers == 0:\n",
    "            self.model.add(LSTM(self.inputLayer, input_shape = self.lstmShape, return_sequences=False))\n",
    "            if self.drop != 0:\n",
    "                    self.model.add(Dropout(self.drop))\n",
    "        else:\n",
    "            self.model.add(LSTM(self.inputLayer, input_shape = self.lstmShape, return_sequences=True))\n",
    "            if self.drop != 0:\n",
    "                    self.model.add(Dropout(self.drop))\n",
    "\n",
    "        #HIDDEN LAYER    \n",
    "        for i in range(0,self.hiddenLayers):\n",
    "            if i+1 == self.hiddenLayers:\n",
    "                self.model.add(LSTM(self.inputLayer))\n",
    "                if self.drop != 0:\n",
    "                    self.model.add(Dropout(self.drop))\n",
    "            else:\n",
    "                self.model.add(LSTM(self.inputLayer, return_sequences=True))\n",
    "                if self.drop != 0:\n",
    "                    self.model.add(Dropout(self.drop))\n",
    "        adamOpti = Adam(lr = 0.001)        \n",
    "        self.model.add(Dense(1, activation = \"linear\"))\n",
    "        self.model.compile(loss='mean_squared_error', optimizer=adamOpti)\n",
    "\n",
    "        return self.model\n",
    "    \n",
    "    def function_Summary(self):\n",
    "        print(self.model.summary())\n",
    "    \n",
    "    def function_Training(self, epok=100, bs=1, val_split=0.2):\n",
    "        self.epk = epok\n",
    "        self.sizeBatch = bs\n",
    "        self.split = val_split\n",
    "        self.model.fit(self.arrayData, self.listLabel, \n",
    "                       epochs=self.epk, \n",
    "                       batch_size=self.sizeBatch, \n",
    "                       verbose=2, \n",
    "                       validation_split=self.split)\n",
    "        \n",
    "\n",
    "    def function_Nostradamus(self, windowPredict, plot=True, xmin=0):\n",
    "        self.X_min = xmin\n",
    "        self.plot_want = plot\n",
    "        if self.smoothBool ==0:\n",
    "            self.predictWindow = windowPredict\n",
    "            self.nostradamus = np.array(self.dfNorm[-self.window:])\n",
    "            self.nostradamus = np.reshape(self.nostradamus, (1,self.window,1))\n",
    "            self.prediction = np.array([])\n",
    "            for i in range(self.predictWindow):\n",
    "                self.tmp_pred = self.model.predict(self.nostradamus[i:i+1])\n",
    "                self.pred_tmp = np.append(self.nostradamus[i], self.tmp_pred)\n",
    "                self.pred_tmp = self.pred_tmp[1:]\n",
    "                self.pred_tmp = np.reshape(self.pred_tmp, (self.window,1))               \n",
    "                self.nostradamus = np.append(self.nostradamus, self.pred_tmp)              \n",
    "                self.nostradamus = np.reshape(self.nostradamus, (i+2,self.window,1))               \n",
    "                self.prediction = np.append(self.prediction, self.tmp_pred)\n",
    "                \n",
    "            if self.plot_want == True:\n",
    "                plt.plot((np.linspace(len(self.dfNorm),\n",
    "                                      len(self.dfNorm) + self.predictWindow - 1,\n",
    "                                      self.predictWindow)),\n",
    "                                      self.prediction*self.stdDf+self.meanDf )\n",
    "                plt.plot(np.linspace(0,len(self.dfNorm) - 1,\n",
    "                                     len(self.dfNorm)), \n",
    "                                     self.dfNorm*self.stdDf+self.meanDf)\n",
    "                plt.xlim(self.X_min, len(self.dfNorm) + self.predictWindow + 1)\n",
    "            \n",
    "            \n",
    "        else:\n",
    "            self.predictWindow = windowPredict\n",
    "            self.nostradamus = np.array(self.dfNorm[-self.window:])\n",
    "            self.nostradamus = np.reshape(self.nostradamus, (1,self.window,1))\n",
    "            self.prediction = np.array([])\n",
    "            for i in range(self.predictWindow):\n",
    "                self.tmp_pred = self.model.predict(self.nostradamus[i:i+1])\n",
    "                self.pred_tmp = np.append(self.nostradamus[i], self.tmp_pred)\n",
    "                self.pred_tmp = self.pred_tmp[1:]\n",
    "                self.pred_tmp = np.reshape(self.pred_tmp, (self.window,1))               \n",
    "                self.nostradamus = np.append(self.nostradamus, self.pred_tmp)              \n",
    "                self.nostradamus = np.reshape(self.nostradamus, (i+2,self.window,1))               \n",
    "                self.prediction = np.append(self.prediction, self.tmp_pred)\n",
    "                \n",
    "            if self.plot_want == True:\n",
    "                plt.plot((np.linspace(len(self.dfSmooth),\n",
    "                                      len(self.dfSmooth) + self.predictWindow - 1,\n",
    "                                      self.predictWindow)),\n",
    "                                      self.prediction*self.stdDf+self.meanDf )\n",
    "                plt.plot(np.linspace(0,len(self.dfSmooth) - 1,\n",
    "                                     len(self.dfSmooth)), \n",
    "                                     self.dfSmooth*self.stdDf+self.meanDf)\n",
    "                plt.xlim(self.X_min, len(self.dfSmooth) + self.predictWindow + 1)\n",
    "                \n",
    "        \n",
    "            \n",
    "\n",
    "        return self.prediction\n",
    "    \n",
    "    \n",
    "    def function_Plot(self):\n",
    "        if self.smoothBool == 0:\n",
    "            self.X = np.linspace(0, len(self.dfNorm) - 1 ,len(self.dfNorm))\n",
    "            plt.plot(self.X, self.dfNorm, c = 'darkblue')\n",
    "        else:\n",
    "            self.X = np.linspace(0, len(self.dfSmooth) - 1 ,len(self.dfSmooth))\n",
    "            plt.plot(self.X, self.dfSmooth, c = 'darkblue')\n",
    "            \n",
    "        "
   ]
  },
  {
   "cell_type": "code",
   "execution_count": 3,
   "metadata": {},
   "outputs": [
    {
     "name": "stderr",
     "output_type": "stream",
     "text": [
      "<ipython-input-3-c3d099148569>:2: FutureWarning: Indexing with multiple keys (implicitly converted to a tuple of keys) will be deprecated, use a list instead.\n",
      "  df_2 = covid_df.groupby('jour')['incid_dc', 'incid_rea', 'incid_hosp'].sum()\n"
     ]
    },
    {
     "data": {
      "text/html": [
       "<div>\n",
       "<style scoped>\n",
       "    .dataframe tbody tr th:only-of-type {\n",
       "        vertical-align: middle;\n",
       "    }\n",
       "\n",
       "    .dataframe tbody tr th {\n",
       "        vertical-align: top;\n",
       "    }\n",
       "\n",
       "    .dataframe thead th {\n",
       "        text-align: right;\n",
       "    }\n",
       "</style>\n",
       "<table border=\"1\" class=\"dataframe\">\n",
       "  <thead>\n",
       "    <tr style=\"text-align: right;\">\n",
       "      <th></th>\n",
       "      <th>incid_dc</th>\n",
       "      <th>incid_rea</th>\n",
       "      <th>incid_hosp</th>\n",
       "    </tr>\n",
       "    <tr>\n",
       "      <th>jour</th>\n",
       "      <th></th>\n",
       "      <th></th>\n",
       "      <th></th>\n",
       "    </tr>\n",
       "  </thead>\n",
       "  <tbody>\n",
       "    <tr>\n",
       "      <th>2020-03-19</th>\n",
       "      <td>155</td>\n",
       "      <td>438</td>\n",
       "      <td>2229</td>\n",
       "    </tr>\n",
       "    <tr>\n",
       "      <th>2020-03-20</th>\n",
       "      <td>83</td>\n",
       "      <td>242</td>\n",
       "      <td>1256</td>\n",
       "    </tr>\n",
       "    <tr>\n",
       "      <th>2020-03-21</th>\n",
       "      <td>115</td>\n",
       "      <td>298</td>\n",
       "      <td>1540</td>\n",
       "    </tr>\n",
       "    <tr>\n",
       "      <th>2020-03-22</th>\n",
       "      <td>124</td>\n",
       "      <td>309</td>\n",
       "      <td>1534</td>\n",
       "    </tr>\n",
       "    <tr>\n",
       "      <th>2020-03-23</th>\n",
       "      <td>189</td>\n",
       "      <td>448</td>\n",
       "      <td>2053</td>\n",
       "    </tr>\n",
       "  </tbody>\n",
       "</table>\n",
       "</div>"
      ],
      "text/plain": [
       "            incid_dc  incid_rea  incid_hosp\n",
       "jour                                       \n",
       "2020-03-19       155        438        2229\n",
       "2020-03-20        83        242        1256\n",
       "2020-03-21       115        298        1540\n",
       "2020-03-22       124        309        1534\n",
       "2020-03-23       189        448        2053"
      ]
     },
     "execution_count": 3,
     "metadata": {},
     "output_type": "execute_result"
    }
   ],
   "source": [
    "covid_df = pd.read_csv('donnees-hospitalieres-nouveaux-covid19-2021-02-21-19h03.csv', sep=';')\n",
    "df_2 = covid_df.groupby('jour')['incid_dc', 'incid_rea', 'incid_hosp'].sum()\n",
    "df_2.head()"
   ]
  },
  {
   "cell_type": "code",
   "execution_count": 4,
   "metadata": {},
   "outputs": [],
   "source": [
    "covid = Class_LSTM(df_2['incid_dc'],28)"
   ]
  },
  {
   "cell_type": "code",
   "execution_count": 5,
   "metadata": {},
   "outputs": [],
   "source": [
    "covid.function_Smooth(11)"
   ]
  },
  {
   "cell_type": "code",
   "execution_count": 6,
   "metadata": {},
   "outputs": [
    {
     "data": {
      "image/png": "[encoded data removed]",
      "text/plain": [
       "<Figure size 432x288 with 1 Axes>"
      ]
     },
     "metadata": {
      "needs_background": "light"
     },
     "output_type": "display_data"
    }
   ],
   "source": [
    "covid.function_Plot()"
   ]
  },
  {
   "cell_type": "code",
   "execution_count": 7,
   "metadata": {},
   "outputs": [
    {
     "data": {
      "text/plain": [
       "(array([[[-0.56848651],\n",
       "         [-0.37159026],\n",
       "         [-0.18407416],\n",
       "         ...,\n",
       "         [ 1.54486947],\n",
       "         [ 1.69557429],\n",
       "         [ 1.52192575]],\n",
       " \n",
       "        [[-0.37159026],\n",
       "         [-0.18407416],\n",
       "         [-0.00593821],\n",
       "         ...,\n",
       "         [ 1.69557429],\n",
       "         [ 1.52192575],\n",
       "         [ 1.60738932]],\n",
       " \n",
       "        [[-0.18407416],\n",
       "         [-0.00593821],\n",
       "         [ 0.1628176 ],\n",
       "         ...,\n",
       "         [ 1.52192575],\n",
       "         [ 1.60738932],\n",
       "         [ 1.5685804 ]],\n",
       " \n",
       "        ...,\n",
       " \n",
       "        [[ 0.87811177],\n",
       "         [ 0.72616207],\n",
       "         [ 0.7735405 ],\n",
       "         ...,\n",
       "         [ 0.78950701],\n",
       "         [ 0.71093091],\n",
       "         [ 0.60030596]],\n",
       " \n",
       "        [[ 0.72616207],\n",
       "         [ 0.7735405 ],\n",
       "         [ 0.91925125],\n",
       "         ...,\n",
       "         [ 0.71093091],\n",
       "         [ 0.60030596],\n",
       "         [ 0.45763217]],\n",
       " \n",
       "        [[ 0.7735405 ],\n",
       "         [ 0.91925125],\n",
       "         [ 0.99765076],\n",
       "         ...,\n",
       "         [ 0.60030596],\n",
       "         [ 0.45763217],\n",
       "         [ 0.28290955]]]),\n",
       " array([ 1.60738932,  1.5685804 ,  1.41593587,  1.17138615,  1.15353781,\n",
       "         1.1450262 ,  0.95112638,  0.80890423,  0.73445655,  0.51701951,\n",
       "         0.49794075,  0.46615247,  0.40047696,  0.22720479,  0.15197542,\n",
       "         0.08200068, -0.06821196, -0.08367184, -0.01091779,  0.02000196,\n",
       "        -0.05117426, -0.14412168, -0.19514795, -0.34591066, -0.36965054,\n",
       "        -0.31064825, -0.27016018, -0.29352369, -0.33603835, -0.3913349 ,\n",
       "        -0.47801441, -0.50734185, -0.47278874, -0.50667597, -0.56916687,\n",
       "        -0.59872591, -0.63178804, -0.71046258, -0.72776085, -0.69333802,\n",
       "        -0.65053386, -0.65470281, -0.69002312, -0.73255225, -0.76736591,\n",
       "        -0.76698955, -0.74821478, -0.73954393, -0.76836473, -0.78522873,\n",
       "        -0.78619859, -0.81569973, -0.87703258, -0.88599294, -0.86592984,\n",
       "        -0.88791818, -0.90659163, -0.91549408, -0.95191453, -0.94487942,\n",
       "        -0.93534004, -0.92952088, -0.9456611 , -0.95381083, -0.95669146,\n",
       "        -0.98907324, -1.00928108, -0.99955352, -0.98575834, -0.98436869,\n",
       "        -0.99351722, -0.99482002, -1.00776115, -1.01130766, -1.00388171,\n",
       "        -1.00314346, -1.01041018, -1.01908102, -1.01805326, -1.01288549,\n",
       "        -1.00784801, -0.98526617, -0.96958916, -0.97656637, -0.97364231,\n",
       "        -0.98981149, -1.01848753, -1.04231426, -1.04033111, -1.02566739,\n",
       "        -1.03509097, -1.02435012, -1.02277228, -1.0387388 , -1.0393902 ,\n",
       "        -1.0473807 , -1.04124307, -1.04154706, -1.04380524, -1.0460779 ,\n",
       "        -1.05599364, -1.04839398, -1.03830454, -1.03503306, -1.04289328,\n",
       "        -1.03461327, -1.02941656, -1.03565551, -1.04525279, -1.04311041,\n",
       "        -1.04260377, -1.05017448, -1.05471979, -1.0610456 , -1.0703968 ,\n",
       "        -1.05718064, -1.03594502, -1.02077466, -1.02543578, -1.01928368,\n",
       "        -1.02145501, -1.02893886, -1.03630691, -1.03061803, -1.01676494,\n",
       "        -1.01695312, -1.0129434 , -1.0151871 , -1.02385795, -1.0230618 ,\n",
       "        -1.01276969, -1.0064294 , -1.02440802, -1.01392773, -1.01145241,\n",
       "        -1.01593983, -1.01165507, -0.99623863, -0.98037344, -0.98876925,\n",
       "        -0.99383569, -0.99454499, -0.99635443, -0.99289478, -0.97231056,\n",
       "        -0.94444516, -0.945719  , -0.94272257, -0.94697837, -0.96184475,\n",
       "        -0.99322771, -0.90162652, -0.82479037, -0.80972133, -0.7817546 ,\n",
       "        -0.75339702, -0.76905955, -0.78132033, -0.79223489, -0.80455357,\n",
       "        -0.86152928, -0.79097551, -0.78103082, -0.79798167, -0.78140718,\n",
       "        -0.75247059, -0.73899386, -0.75538017, -0.75268772, -0.76794494,\n",
       "        -0.79609985, -0.76209682, -0.7358961 , -0.70509216, -0.70759642,\n",
       "        -0.69687005, -0.69013893, -0.6875478 , -0.67708199, -0.63119454,\n",
       "        -0.5706868 , -0.5464258 , -0.51510074, -0.47322301, -0.43890151,\n",
       "        -0.37054803, -0.26981277, -0.1661245 , -0.19413466, -0.15599162,\n",
       "        -0.06637357, -0.00383925,  0.09546293,  0.23079472,  0.34261824,\n",
       "         0.33041537,  0.42318908,  0.54940129,  0.63363443,  0.78270351,\n",
       "         1.04776507,  1.23367438,  1.17742245,  1.25021992,  1.3459756 ,\n",
       "         1.24063712,  1.24152012,  1.38071689,  1.50226797,  1.42024958,\n",
       "         1.48673572,  1.45856632,  1.30584941,  1.42968763,  1.595447  ,\n",
       "         1.571186  ,  1.33577034,  1.29502171,  1.26266888,  1.14305752,\n",
       "         1.14460641,  1.25178328,  1.28759576,  1.17306531,  1.14072696,\n",
       "         1.04575297,  0.78279037,  0.78462876,  0.8557905 ,  0.88972116,\n",
       "         0.74321425,  0.75350635,  0.71488562,  0.57977096,  0.61490309,\n",
       "         0.73658445,  0.8060236 ,  0.71249716,  0.70938492,  0.65971935,\n",
       "         0.52110161,  0.51164909,  0.60754952,  0.65162753,  0.51893028,\n",
       "         0.48961732,  0.50490349,  0.39500521,  0.54508758,  0.62547023,\n",
       "         0.62947996,  0.48439165,  0.43185993,  0.43028209,  0.34044691,\n",
       "         0.46285205,  0.58616915,  0.63758626,  0.52369273,  0.41473537,\n",
       "         0.31970347,  0.19742861,  0.24647173,  0.47456276,  0.65547802,\n",
       "         0.67743741,  0.58473607,  0.57409655,  0.37032442,  0.38294709,\n",
       "         0.49744858,  0.58828258,  0.47787766,  0.52301238,  0.55225297,\n",
       "         0.47861591,  0.56557046,  0.79871346,  0.90822089,  0.81563536,\n",
       "         0.89237018,  0.87811177,  0.72616207,  0.7735405 ,  0.91925125,\n",
       "         0.99765076,  0.91335971,  0.95510715,  0.96369115,  0.82931474,\n",
       "         0.956381  ,  1.06532389,  1.10078896,  0.9084525 ,  0.87583912,\n",
       "         0.88293213,  0.69365001,  0.77487225,  0.93764966,  1.03544638,\n",
       "         0.95216862,  0.95063421,  0.85878693,  0.65394361,  0.63204213,\n",
       "         0.78325358,  0.78950701,  0.71093091,  0.60030596,  0.45763217,\n",
       "         0.28290955,  0.07613809]),\n",
       " (28, 1))"
      ]
     },
     "execution_count": 7,
     "metadata": {},
     "output_type": "execute_result"
    }
   ],
   "source": [
    "covid.function_TimeSeriesGenerator()"
   ]
  },
  {
   "cell_type": "code",
   "execution_count": 9,
   "metadata": {},
   "outputs": [
    {
     "data": {
      "text/plain": [
       "<tensorflow.python.keras.engine.sequential.Sequential at 0x2a39d1b5070>"
      ]
     },
     "execution_count": 9,
     "metadata": {},
     "output_type": "execute_result"
    }
   ],
   "source": [
    "covid.functionLSTM_Model(32,0, 0.2)"
   ]
  },
  {
   "cell_type": "code",
   "execution_count": 10,
   "metadata": {},
   "outputs": [
    {
     "name": "stdout",
     "output_type": "stream",
     "text": [
      "Model: \"sequential_1\"\n",
      "_________________________________________________________________\n",
      "Layer (type)                 Output Shape              Param #   \n",
      "=================================================================\n",
      "lstm_6 (LSTM)                (None, 32)                4352      \n",
      "_________________________________________________________________\n",
      "dropout_6 (Dropout)          (None, 32)                0         \n",
      "_________________________________________________________________\n",
      "dense_1 (Dense)              (None, 1)                 33        \n",
      "=================================================================\n",
      "Total params: 4,385\n",
      "Trainable params: 4,385\n",
      "Non-trainable params: 0\n",
      "_________________________________________________________________\n",
      "None\n"
     ]
    }
   ],
   "source": [
    "covid.function_Summary()"
   ]
  },
  {
   "cell_type": "code",
   "execution_count": 11,
   "metadata": {},
   "outputs": [
    {
     "name": "stdout",
     "output_type": "stream",
     "text": [
      "Epoch 1/5\n",
      "249/249 - 2s - loss: 0.1622 - val_loss: 0.0286\n",
      "Epoch 2/5\n",
      "249/249 - 2s - loss: 0.0267 - val_loss: 0.0238\n",
      "Epoch 3/5\n",
      "249/249 - 2s - loss: 0.0191 - val_loss: 0.0224\n",
      "Epoch 4/5\n",
      "249/249 - 2s - loss: 0.0178 - val_loss: 0.0228\n",
      "Epoch 5/5\n",
      "249/249 - 2s - loss: 0.0144 - val_loss: 0.0221\n"
     ]
    }
   ],
   "source": [
    "covid.function_Training(epok=5, val_split=0.2)"
   ]
  },
  {
   "cell_type": "code",
   "execution_count": 15,
   "metadata": {},
   "outputs": [
    {
     "data": {
      "text/plain": [
       "array([ 4.86775398e-01,  3.87092710e-01,  3.06972593e-01,  2.32550040e-01,\n",
       "        1.64062187e-01,  9.99158323e-02,  5.70734553e-02,  2.53744051e-02,\n",
       "       -3.64836678e-02, -9.15257707e-02, -1.38949856e-01, -1.84864506e-01,\n",
       "       -2.18522236e-01, -2.33630657e-01, -2.43210196e-01, -2.88986176e-01,\n",
       "       -3.34013462e-01, -3.57773870e-01, -3.91606987e-01, -4.16385978e-01,\n",
       "       -4.21573311e-01, -4.21150059e-01, -4.52406764e-01, -4.77068782e-01,\n",
       "       -4.96383131e-01, -5.09890974e-01, -5.31521857e-01, -5.31433105e-01,\n",
       "       -5.27477384e-01, -5.36146045e-01, -5.42259037e-01, -5.46236992e-01,\n",
       "       -5.48176944e-01, -5.48168719e-01, -5.46256781e-01, -5.42824090e-01,\n",
       "       -5.38047552e-01, -5.31280935e-01, -5.22577107e-01, -5.11996984e-01,\n",
       "       -4.99481440e-01, -4.85162407e-01, -4.69293624e-01, -4.51910585e-01,\n",
       "       -4.32291567e-01, -4.10305828e-01, -3.86175871e-01, -3.59590858e-01,\n",
       "       -3.30546349e-01, -2.99242258e-01, -2.65672982e-01, -2.29154587e-01,\n",
       "       -1.89607590e-01, -1.46943837e-01, -1.01101771e-01, -5.17730005e-02,\n",
       "        7.71787949e-04,  5.65064736e-02,  1.15694568e-01,  1.78278953e-01,\n",
       "        2.44131982e-01,  3.13034028e-01,  3.84658366e-01,  4.58557338e-01,\n",
       "        5.34163535e-01,  6.10785961e-01,  6.87599003e-01,  7.63676286e-01,\n",
       "        8.38020384e-01,  9.09598470e-01,  9.77391303e-01,  1.04044294e+00,\n",
       "        1.09789765e+00,  1.14901483e+00,  1.19320822e+00,  1.23006952e+00,\n",
       "        1.25935459e+00,  1.28098309e+00,  1.29502761e+00,  1.30168450e+00,\n",
       "        1.30123460e+00,  1.29403281e+00,  1.28048754e+00,  1.26104057e+00,\n",
       "        1.23614585e+00,  1.20626819e+00,  1.17186797e+00,  1.13338542e+00,\n",
       "        1.09124184e+00,  1.04583979e+00,  9.97561514e-01,  9.46772695e-01,\n",
       "        8.93825233e-01,  8.39060426e-01,  7.82811761e-01,  7.25407422e-01,\n",
       "        6.67170465e-01,  6.08418643e-01,  5.49463093e-01,  4.90605533e-01,\n",
       "        4.32135403e-01,  3.74325901e-01,  3.17431539e-01,  2.61684746e-01,\n",
       "        2.07293555e-01,  1.54439881e-01,  1.03278339e-01,  5.39367609e-02,\n",
       "        6.51628990e-03, -3.89064886e-02, -8.22777897e-02, -1.23564042e-01,\n",
       "       -1.62749395e-01, -1.99833229e-01, -2.34827578e-01, -2.67754704e-01,\n",
       "       -2.98644811e-01, -3.27533484e-01, -3.54460120e-01, -3.79465610e-01,\n",
       "       -4.02590990e-01, -4.23875839e-01, -4.43357497e-01, -4.61070210e-01,\n",
       "       -4.77044523e-01, -4.91307408e-01, -5.03881812e-01, -5.14787376e-01,\n",
       "       -5.24040103e-01, -5.31653225e-01, -5.37636101e-01, -5.41995823e-01,\n",
       "       -5.44735730e-01, -5.45855999e-01, -5.45353293e-01, -5.43219745e-01,\n",
       "       -5.39443374e-01, -5.34007192e-01, -5.26888788e-01, -5.18059552e-01,\n",
       "       -5.07484972e-01, -4.95123327e-01, -4.80925620e-01, -4.64835078e-01,\n",
       "       -4.46786612e-01, -4.26706612e-01, -4.04512197e-01, -3.80111843e-01,\n",
       "       -3.53404731e-01, -3.24281454e-01, -2.92624444e-01, -2.58309782e-01,\n",
       "       -2.21208557e-01, -1.81190073e-01, -1.38125673e-01, -9.18941498e-02,\n",
       "       -4.23886292e-02,  1.04744649e-02,  6.67446107e-02,  1.26424223e-01,\n",
       "        1.89454064e-01,  2.55696952e-01,  3.24921727e-01,  3.96787792e-01,\n",
       "        4.70833391e-01,  5.46468616e-01,  6.22976542e-01,  6.99522674e-01,\n",
       "        7.75175989e-01,  8.48939776e-01,  9.19789135e-01,  9.86716092e-01,\n",
       "        1.04877341e+00,  1.10511613e+00,  1.15503430e+00,  1.19797754e+00,\n",
       "        1.23356354e+00,  1.26157939e+00,  1.28197002e+00,  1.29482007e+00,\n",
       "        1.30033207e+00,  1.29880226e+00,  1.29059637e+00,  1.27612841e+00,\n",
       "        1.25584388e+00,  1.23020041e+00,  1.19965816e+00,  1.16466868e+00,\n",
       "        1.12566888e+00,  1.08307755e+00,  1.03729236e+00,  9.88693178e-01,\n",
       "        9.37642694e-01,  8.84490728e-01,  8.29576671e-01,  7.73233175e-01,\n",
       "        7.15787292e-01,  6.57560706e-01,  5.98870158e-01,  5.40024877e-01,\n",
       "        4.81324017e-01,  4.23054278e-01,  3.65485668e-01,  3.08869243e-01,\n",
       "        2.53433317e-01,  1.99381471e-01,  1.46890923e-01,  9.61118862e-02,\n",
       "        4.71675880e-02,  1.55413523e-04, -4.48518023e-02, -8.78033489e-02,\n",
       "       -1.28668502e-01, -1.67433918e-01, -2.04100952e-01, -2.38683328e-01,\n",
       "       -2.71204442e-01, -3.01695287e-01, -3.30192000e-01, -3.56734067e-01,\n",
       "       -3.81362230e-01, -4.04117376e-01, -4.25038546e-01, -4.44162428e-01,\n",
       "       -4.61522639e-01, -4.77148980e-01, -4.91067469e-01, -5.03300548e-01,\n",
       "       -5.13867021e-01, -5.22782266e-01, -5.30058503e-01, -5.35704553e-01,\n",
       "       -5.39726555e-01, -5.42127073e-01, -5.42905331e-01, -5.42056739e-01,\n",
       "       -5.39572477e-01, -5.35439312e-01, -5.29638827e-01, -5.22146940e-01,\n",
       "       -5.12933969e-01, -5.01963317e-01, -4.89191681e-01, -4.74568129e-01,\n",
       "       -4.58033890e-01, -4.39522088e-01, -4.18956876e-01, -3.96253526e-01,\n",
       "       -3.71318400e-01, -3.44048828e-01, -3.14333767e-01, -2.82054573e-01,\n",
       "       -2.47086465e-01, -2.09300593e-01, -1.68567330e-01, -1.24760456e-01,\n",
       "       -7.77630508e-02, -2.74745598e-02,  2.61793584e-02,  8.32359344e-02,\n",
       "        1.43681616e-01,  2.07437158e-01,  2.74341494e-01,  3.44135672e-01,\n",
       "        4.16448593e-01,  4.90786076e-01,  5.66526234e-01,  6.42922282e-01,\n",
       "        7.19115794e-01,  7.94159174e-01,  8.67048800e-01,  9.36764836e-01,\n",
       "        1.00231588e+00,  1.06278169e+00,  1.11735356e+00,  1.16536438e+00,\n",
       "        1.20630836e+00,  1.23984861e+00,  1.26581490e+00,  1.28418934e+00,\n",
       "        1.29508793e+00,  1.29873765e+00,  1.29545283e+00,  1.28561246e+00,\n",
       "        1.26963770e+00,  1.24797606e+00,  1.22108603e+00,  1.18942392e+00,\n",
       "        1.15343702e+00,  1.11355639e+00,  1.07019460e+00,  1.02374387e+00,\n",
       "        9.74578440e-01,  9.23056901e-01,  8.69526029e-01,  8.14322650e-01,\n",
       "        7.57777512e-01,  7.00216055e-01,  6.41958654e-01,  5.83319247e-01,\n",
       "        5.24604499e-01,  4.66110080e-01,  4.08118218e-01,  3.50893945e-01,\n",
       "        2.94681907e-01,  2.39703983e-01,  1.86156452e-01,  1.34209484e-01,\n",
       "        8.40058923e-02,  3.56620811e-02, -1.07312426e-02, -5.51070981e-02,\n",
       "       -9.74201560e-02, -1.37644261e-01, -1.75769940e-01, -2.11801916e-01,\n",
       "       -2.45756328e-01, -2.77658612e-01, -3.07541043e-01, -3.35440636e-01,\n",
       "       -3.61397088e-01, -3.85451227e-01, -4.07643288e-01, -4.28011626e-01,\n",
       "       -4.46592122e-01, -4.63417053e-01, -4.78515297e-01, -4.91911620e-01,\n",
       "       -5.03627360e-01, -5.13680160e-01, -5.22084296e-01, -5.28850973e-01,\n",
       "       -5.33987880e-01, -5.37499726e-01, -5.39388061e-01, -5.39650619e-01,\n",
       "       -5.38281381e-01, -5.35269797e-01, -5.30600846e-01, -5.24254084e-01,\n",
       "       -5.16203463e-01, -5.06416857e-01, -4.94855225e-01, -4.81472760e-01,\n",
       "       -4.66215968e-01, -4.49023187e-01, -4.29824442e-01, -4.08540964e-01,\n",
       "       -3.85085285e-01, -3.59360665e-01, -3.31261873e-01, -3.00675601e-01,\n",
       "       -2.67481387e-01, -2.31553480e-01, -1.92763254e-01, -1.50982946e-01,\n",
       "       -1.06090069e-01, -5.79741970e-02, -6.54464355e-03,  4.82591949e-02,\n",
       "        1.06455997e-01,  1.68008357e-01,  2.32807502e-01,  3.00657213e-01,\n",
       "        3.71258229e-01])"
      ]
     },
     "execution_count": 15,
     "metadata": {},
     "output_type": "execute_result"
    },
    {
     "data": {
      "image/png": "[encoded data removed]",
      "text/plain": [
       "<Figure size 432x288 with 1 Axes>"
      ]
     },
     "metadata": {
      "needs_background": "light"
     },
     "output_type": "display_data"
    }
   ],
   "source": [
    "covid.function_Nostradamus(365, xmin = 0, plot = True)"
   ]
  },
  {
   "cell_type": "code",
   "execution_count": 13,
   "metadata": {},
   "outputs": [
    {
     "name": "stdout",
     "output_type": "stream",
     "text": [
      "[256.6915483  240.63959915 227.73782    215.75352208 204.72489169\n",
      " 194.39537471 187.49644707 182.39193446 172.43090057 163.56744546\n",
      " 155.9307232  148.53706603 143.11714637 140.68423032 139.14163271\n",
      " 131.77030567 124.51954115 120.69339171 115.24522946 111.25505701\n",
      " 110.41973845 110.48789501 105.45461336 101.4832773   98.37307886\n",
      "  96.1979047   92.71467364  92.7289653 ]\n"
     ]
    },
    {
     "ename": "ValueError",
     "evalue": "x and y must have same first dimension, but have shapes (15,) and (28,)",
     "output_type": "error",
     "traceback": [
      "\u001b[1;31m---------------------------------------------------------------------------\u001b[0m",
      "\u001b[1;31mValueError\u001b[0m                                Traceback (most recent call last)",
      "\u001b[1;32m<ipython-input-13-e458c8184b51>\u001b[0m in \u001b[0;36m<module>\u001b[1;34m\u001b[0m\n\u001b[0;32m      2\u001b[0m \u001b[0myy\u001b[0m \u001b[1;33m=\u001b[0m \u001b[0mcovid\u001b[0m\u001b[1;33m.\u001b[0m\u001b[0mfunction_Nostradamus\u001b[0m\u001b[1;33m(\u001b[0m\u001b[0mday_pred\u001b[0m\u001b[1;33m)\u001b[0m\u001b[1;33m\u001b[0m\u001b[1;33m\u001b[0m\u001b[0m\n\u001b[0;32m      3\u001b[0m \u001b[0mprint\u001b[0m\u001b[1;33m(\u001b[0m\u001b[0myy\u001b[0m\u001b[1;33m*\u001b[0m\u001b[0mcovid\u001b[0m\u001b[1;33m.\u001b[0m\u001b[0mstdDf\u001b[0m\u001b[1;33m+\u001b[0m\u001b[0mcovid\u001b[0m\u001b[1;33m.\u001b[0m\u001b[0mmeanDf\u001b[0m\u001b[1;33m)\u001b[0m\u001b[1;33m\u001b[0m\u001b[1;33m\u001b[0m\u001b[0m\n\u001b[1;32m----> 4\u001b[1;33m \u001b[0mplt\u001b[0m\u001b[1;33m.\u001b[0m\u001b[0mplot\u001b[0m\u001b[1;33m(\u001b[0m\u001b[1;33m(\u001b[0m\u001b[0mnp\u001b[0m\u001b[1;33m.\u001b[0m\u001b[0mlinspace\u001b[0m\u001b[1;33m(\u001b[0m\u001b[1;36m340\u001b[0m\u001b[1;33m,\u001b[0m\u001b[1;36m354\u001b[0m\u001b[1;33m,\u001b[0m\u001b[1;36m15\u001b[0m\u001b[1;33m)\u001b[0m\u001b[1;33m)\u001b[0m\u001b[1;33m,\u001b[0m\u001b[0myy\u001b[0m\u001b[1;33m*\u001b[0m\u001b[0mcovid\u001b[0m\u001b[1;33m.\u001b[0m\u001b[0mstdDf\u001b[0m\u001b[1;33m+\u001b[0m\u001b[0mcovid\u001b[0m\u001b[1;33m.\u001b[0m\u001b[0mmeanDf\u001b[0m \u001b[1;33m)\u001b[0m\u001b[1;33m\u001b[0m\u001b[1;33m\u001b[0m\u001b[0m\n\u001b[0m\u001b[0;32m      5\u001b[0m \u001b[0mplt\u001b[0m\u001b[1;33m.\u001b[0m\u001b[0mplot\u001b[0m\u001b[1;33m(\u001b[0m\u001b[0mnp\u001b[0m\u001b[1;33m.\u001b[0m\u001b[0mlinspace\u001b[0m\u001b[1;33m(\u001b[0m\u001b[1;36m0\u001b[0m\u001b[1;33m,\u001b[0m\u001b[1;36m339\u001b[0m\u001b[1;33m,\u001b[0m\u001b[1;36m340\u001b[0m\u001b[1;33m)\u001b[0m\u001b[1;33m,\u001b[0m \u001b[0mcovid\u001b[0m\u001b[1;33m.\u001b[0m\u001b[0mdfSmooth\u001b[0m\u001b[1;33m[\u001b[0m\u001b[1;36m0\u001b[0m\u001b[1;33m:\u001b[0m\u001b[1;36m340\u001b[0m\u001b[1;33m]\u001b[0m\u001b[1;33m*\u001b[0m\u001b[0mcovid\u001b[0m\u001b[1;33m.\u001b[0m\u001b[0mstdDf\u001b[0m\u001b[1;33m+\u001b[0m\u001b[0mcovid\u001b[0m\u001b[1;33m.\u001b[0m\u001b[0mmeanDf\u001b[0m\u001b[1;33m)\u001b[0m\u001b[1;33m\u001b[0m\u001b[1;33m\u001b[0m\u001b[0m\n",
      "\u001b[1;32mc:\\programdata\\anaconda3\\lib\\site-packages\\matplotlib\\pyplot.py\u001b[0m in \u001b[0;36mplot\u001b[1;34m(scalex, scaley, data, *args, **kwargs)\u001b[0m\n\u001b[0;32m   2759\u001b[0m \u001b[1;33m@\u001b[0m\u001b[0mdocstring\u001b[0m\u001b[1;33m.\u001b[0m\u001b[0mcopy\u001b[0m\u001b[1;33m(\u001b[0m\u001b[0mAxes\u001b[0m\u001b[1;33m.\u001b[0m\u001b[0mplot\u001b[0m\u001b[1;33m)\u001b[0m\u001b[1;33m\u001b[0m\u001b[1;33m\u001b[0m\u001b[0m\n\u001b[0;32m   2760\u001b[0m \u001b[1;32mdef\u001b[0m \u001b[0mplot\u001b[0m\u001b[1;33m(\u001b[0m\u001b[1;33m*\u001b[0m\u001b[0margs\u001b[0m\u001b[1;33m,\u001b[0m \u001b[0mscalex\u001b[0m\u001b[1;33m=\u001b[0m\u001b[1;32mTrue\u001b[0m\u001b[1;33m,\u001b[0m \u001b[0mscaley\u001b[0m\u001b[1;33m=\u001b[0m\u001b[1;32mTrue\u001b[0m\u001b[1;33m,\u001b[0m \u001b[0mdata\u001b[0m\u001b[1;33m=\u001b[0m\u001b[1;32mNone\u001b[0m\u001b[1;33m,\u001b[0m \u001b[1;33m**\u001b[0m\u001b[0mkwargs\u001b[0m\u001b[1;33m)\u001b[0m\u001b[1;33m:\u001b[0m\u001b[1;33m\u001b[0m\u001b[1;33m\u001b[0m\u001b[0m\n\u001b[1;32m-> 2761\u001b[1;33m     return gca().plot(\n\u001b[0m\u001b[0;32m   2762\u001b[0m         *args, scalex=scalex, scaley=scaley, **({\"data\": data} if data\n\u001b[0;32m   2763\u001b[0m         is not None else {}), **kwargs)\n",
      "\u001b[1;32mc:\\programdata\\anaconda3\\lib\\site-packages\\matplotlib\\axes\\_axes.py\u001b[0m in \u001b[0;36mplot\u001b[1;34m(self, scalex, scaley, data, *args, **kwargs)\u001b[0m\n\u001b[0;32m   1644\u001b[0m         \"\"\"\n\u001b[0;32m   1645\u001b[0m         \u001b[0mkwargs\u001b[0m \u001b[1;33m=\u001b[0m \u001b[0mcbook\u001b[0m\u001b[1;33m.\u001b[0m\u001b[0mnormalize_kwargs\u001b[0m\u001b[1;33m(\u001b[0m\u001b[0mkwargs\u001b[0m\u001b[1;33m,\u001b[0m \u001b[0mmlines\u001b[0m\u001b[1;33m.\u001b[0m\u001b[0mLine2D\u001b[0m\u001b[1;33m)\u001b[0m\u001b[1;33m\u001b[0m\u001b[1;33m\u001b[0m\u001b[0m\n\u001b[1;32m-> 1646\u001b[1;33m         \u001b[0mlines\u001b[0m \u001b[1;33m=\u001b[0m \u001b[1;33m[\u001b[0m\u001b[1;33m*\u001b[0m\u001b[0mself\u001b[0m\u001b[1;33m.\u001b[0m\u001b[0m_get_lines\u001b[0m\u001b[1;33m(\u001b[0m\u001b[1;33m*\u001b[0m\u001b[0margs\u001b[0m\u001b[1;33m,\u001b[0m \u001b[0mdata\u001b[0m\u001b[1;33m=\u001b[0m\u001b[0mdata\u001b[0m\u001b[1;33m,\u001b[0m \u001b[1;33m**\u001b[0m\u001b[0mkwargs\u001b[0m\u001b[1;33m)\u001b[0m\u001b[1;33m]\u001b[0m\u001b[1;33m\u001b[0m\u001b[1;33m\u001b[0m\u001b[0m\n\u001b[0m\u001b[0;32m   1647\u001b[0m         \u001b[1;32mfor\u001b[0m \u001b[0mline\u001b[0m \u001b[1;32min\u001b[0m \u001b[0mlines\u001b[0m\u001b[1;33m:\u001b[0m\u001b[1;33m\u001b[0m\u001b[1;33m\u001b[0m\u001b[0m\n\u001b[0;32m   1648\u001b[0m             \u001b[0mself\u001b[0m\u001b[1;33m.\u001b[0m\u001b[0madd_line\u001b[0m\u001b[1;33m(\u001b[0m\u001b[0mline\u001b[0m\u001b[1;33m)\u001b[0m\u001b[1;33m\u001b[0m\u001b[1;33m\u001b[0m\u001b[0m\n",
      "\u001b[1;32mc:\\programdata\\anaconda3\\lib\\site-packages\\matplotlib\\axes\\_base.py\u001b[0m in \u001b[0;36m__call__\u001b[1;34m(self, *args, **kwargs)\u001b[0m\n\u001b[0;32m    214\u001b[0m                 \u001b[0mthis\u001b[0m \u001b[1;33m+=\u001b[0m \u001b[0margs\u001b[0m\u001b[1;33m[\u001b[0m\u001b[1;36m0\u001b[0m\u001b[1;33m]\u001b[0m\u001b[1;33m,\u001b[0m\u001b[1;33m\u001b[0m\u001b[1;33m\u001b[0m\u001b[0m\n\u001b[0;32m    215\u001b[0m                 \u001b[0margs\u001b[0m \u001b[1;33m=\u001b[0m \u001b[0margs\u001b[0m\u001b[1;33m[\u001b[0m\u001b[1;36m1\u001b[0m\u001b[1;33m:\u001b[0m\u001b[1;33m]\u001b[0m\u001b[1;33m\u001b[0m\u001b[1;33m\u001b[0m\u001b[0m\n\u001b[1;32m--> 216\u001b[1;33m             \u001b[1;32myield\u001b[0m \u001b[1;32mfrom\u001b[0m \u001b[0mself\u001b[0m\u001b[1;33m.\u001b[0m\u001b[0m_plot_args\u001b[0m\u001b[1;33m(\u001b[0m\u001b[0mthis\u001b[0m\u001b[1;33m,\u001b[0m \u001b[0mkwargs\u001b[0m\u001b[1;33m)\u001b[0m\u001b[1;33m\u001b[0m\u001b[1;33m\u001b[0m\u001b[0m\n\u001b[0m\u001b[0;32m    217\u001b[0m \u001b[1;33m\u001b[0m\u001b[0m\n\u001b[0;32m    218\u001b[0m     \u001b[1;32mdef\u001b[0m \u001b[0mget_next_color\u001b[0m\u001b[1;33m(\u001b[0m\u001b[0mself\u001b[0m\u001b[1;33m)\u001b[0m\u001b[1;33m:\u001b[0m\u001b[1;33m\u001b[0m\u001b[1;33m\u001b[0m\u001b[0m\n",
      "\u001b[1;32mc:\\programdata\\anaconda3\\lib\\site-packages\\matplotlib\\axes\\_base.py\u001b[0m in \u001b[0;36m_plot_args\u001b[1;34m(self, tup, kwargs)\u001b[0m\n\u001b[0;32m    340\u001b[0m \u001b[1;33m\u001b[0m\u001b[0m\n\u001b[0;32m    341\u001b[0m         \u001b[1;32mif\u001b[0m \u001b[0mx\u001b[0m\u001b[1;33m.\u001b[0m\u001b[0mshape\u001b[0m\u001b[1;33m[\u001b[0m\u001b[1;36m0\u001b[0m\u001b[1;33m]\u001b[0m \u001b[1;33m!=\u001b[0m \u001b[0my\u001b[0m\u001b[1;33m.\u001b[0m\u001b[0mshape\u001b[0m\u001b[1;33m[\u001b[0m\u001b[1;36m0\u001b[0m\u001b[1;33m]\u001b[0m\u001b[1;33m:\u001b[0m\u001b[1;33m\u001b[0m\u001b[1;33m\u001b[0m\u001b[0m\n\u001b[1;32m--> 342\u001b[1;33m             raise ValueError(f\"x and y must have same first dimension, but \"\n\u001b[0m\u001b[0;32m    343\u001b[0m                              f\"have shapes {x.shape} and {y.shape}\")\n\u001b[0;32m    344\u001b[0m         \u001b[1;32mif\u001b[0m \u001b[0mx\u001b[0m\u001b[1;33m.\u001b[0m\u001b[0mndim\u001b[0m \u001b[1;33m>\u001b[0m \u001b[1;36m2\u001b[0m \u001b[1;32mor\u001b[0m \u001b[0my\u001b[0m\u001b[1;33m.\u001b[0m\u001b[0mndim\u001b[0m \u001b[1;33m>\u001b[0m \u001b[1;36m2\u001b[0m\u001b[1;33m:\u001b[0m\u001b[1;33m\u001b[0m\u001b[1;33m\u001b[0m\u001b[0m\n",
      "\u001b[1;31mValueError\u001b[0m: x and y must have same first dimension, but have shapes (15,) and (28,)"
     ]
    },
    {
     "data": {
      "image/png": "[encoded data removed]",
      "text/plain": [
       "<Figure size 432x288 with 1 Axes>"
      ]
     },
     "metadata": {
      "needs_background": "light"
     },
     "output_type": "display_data"
    }
   ],
   "source": [
    "day_pred = 28\n",
    "yy = covid.function_Nostradamus(day_pred)\n",
    "print(yy*covid.stdDf+covid.meanDf)\n",
    "plt.plot((np.linspace(340,354,15)),yy*covid.stdDf+covid.meanDf )\n",
    "plt.plot(np.linspace(0,339,340), covid.dfSmooth[0:340]*covid.stdDf+covid.meanDf)"
   ]
  },
  {
   "cell_type": "code",
   "execution_count": 134,
   "metadata": {},
   "outputs": [
    {
     "data": {
      "text/plain": [
       "[<matplotlib.lines.Line2D at 0x1cf910b0ee0>]"
      ]
     },
     "execution_count": 134,
     "metadata": {},
     "output_type": "execute_result"
    },
    {
     "data": {
      "image/png": "[encoded data removed]",
      "text/plain": [
       "<Figure size 432x288 with 1 Axes>"
      ]
     },
     "metadata": {
      "needs_background": "light"
     },
     "output_type": "display_data"
    }
   ],
   "source": [
    "#covid = Class_LSTM(df_2['incid_dc'],15)\n",
    "#covid.function_Smooth(49)\n",
    "#covid.functionLSTM_Model(16,1)\n",
    "\n",
    "yy = covid.function_Nostradamus(120)\n",
    "plt.plot((np.linspace(330,449,120)),yy*covid.stdDf+covid.meanDf )\n",
    "plt.plot(np.linspace(0,329,330), covid.dfSmooth[0:330]*covid.stdDf+covid.meanDf)"
   ]
  },
  {
   "cell_type": "code",
   "execution_count": null,
   "metadata": {},
   "outputs": [],
   "source": []
  }
 ],
 "metadata": {
  "kernelspec": {
   "display_name": "Python 3",
   "language": "python",
   "name": "python3"
  },
  "language_info": {
   "codemirror_mode": {
    "name": "ipython",
    "version": 3
   },
   "file_extension": ".py",
   "mimetype": "text/x-python",
   "name": "python",
   "nbconvert_exporter": "python",
   "pygments_lexer": "ipython3",
   "version": "3.8.5"
  }
 },
 "nbformat": 4,
 "nbformat_minor": 2
}
