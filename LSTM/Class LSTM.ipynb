{
 "cells": [
  {
   "cell_type": "code",
   "execution_count": 157,
   "metadata": {},
   "outputs": [],
   "source": [
    "import numpy as np\n",
    "import matplotlib.pyplot as plt\n",
    "from tensorflow.keras.models import Sequential\n",
    "from tensorflow.keras.layers import Dense\n",
    "from tensorflow.keras.layers import LSTM\n",
    "from sklearn.preprocessing import MinMaxScaler\n",
    "from sklearn.metrics import mean_squared_error\n",
    "from tensorflow.keras.optimizers import Adam\n",
    "from scipy.signal import savgol_filter\n",
    "import pandas as pd"
   ]
  },
  {
   "cell_type": "code",
   "execution_count": 158,
   "metadata": {},
   "outputs": [
    {
     "data": {
      "text/plain": [
       "\"\\n    def function_SeriesGenerator2(listInput, param, y_label):\\n        param1 = param\\n        ylabel = y_label\\n        listInputData = listInput\\n        listData = np.array([])\\n        listLabel = np.array([])\\n        listVectorLabel = np.array([])\\n        for i in range(len(listInputData)-param1-ylabel+1):\\n            tmp_data = listInputData[i:i+param1]\\n            print(tmp_data)\\n            tmp_label = listInputData[i+param1:i+param1+ylabel]\\n            print(tmp_label)\\n            listData = np.append(listData, tmp_data)\\n            listLabel = np.append(listLabel, tmp_label)\\n        print(i+1)\\n        print(ylabel)\\n        arrayData = np.reshape(listData, (i+1,param1, 1))\\n        paramShape = (param1, 1)\\n        print(np.shape(listLabel))\\n        listLabel = np.reshape(listLabel, (i+1,y_label))\\n        print('glagla' + str(listLabel))\\n\\n        return arrayData, listLabel, paramShape\\n\""
      ]
     },
     "execution_count": 158,
     "metadata": {},
     "output_type": "execute_result"
    }
   ],
   "source": [
    "#Function for LSTM\n",
    "df = np.array([0,1,2,3,2,1,0,1,2,3,2,1,0,1,2,3,2,1,0,1,2,3,2,1,0,1,2,3,2,1,0,1,2,3,2,1])\n",
    "#meanDf= df.mean()\n",
    "#stdDf = df.std()\n",
    "#df = (df - meanDf) / stdDf\n",
    "df_weak = [0,1,2,3,4,5,6,7,8,9,10]\n",
    "\n",
    "\n",
    "class Class_LSTM:\n",
    "    \n",
    "    def __init__(self, inputData, window):\n",
    "        self.df = inputData\n",
    "        self.meanDf = self.df.mean()\n",
    "        self.stdDf = self.df.std()\n",
    "        self.smoothBool = 0\n",
    "        self.dfNorm = (self.df - self.meanDf) / self.stdDf\n",
    "        self.window = window\n",
    "    \n",
    "    def function_TimeSeriesGenerator(self):\n",
    "        self.listData = np.array([])\n",
    "        self.listLabel = np.array([])\n",
    "        if self.smoothBool == 0:\n",
    "            for i in range(len(self.dfNorm)-self.window):\n",
    "                self.tmp_data = self.dfNorm[i:i+self.window]\n",
    "                self.tmp_label = self.dfNorm[i+self.window]\n",
    "                self.listData = np.append(self.listData, self.tmp_data)\n",
    "                self.listLabel = np.append(self.listLabel, self.tmp_label)\n",
    "            self.arrayData = np.reshape(self.listData, (i+1, self.window,1))\n",
    "            self.paramShape = (self.window, 1)\n",
    "        else:\n",
    "            for i in range(len(self.dfSmooth)-self.window):\n",
    "                self.tmp_data = self.dfSmooth[i:i+self.window]\n",
    "                self.tmp_label = self.dfSmooth[i+self.window]\n",
    "                self.listData = np.append(self.listData, self.tmp_data)\n",
    "                self.listLabel = np.append(self.listLabel, self.tmp_label)\n",
    "            self.arrayData = np.reshape(self.listData, (i+1, self.window,1))\n",
    "            self.paramShape = (self.window, 1)\n",
    "            \n",
    "\n",
    "        return self.arrayData, self.listLabel, self.paramShape\n",
    "    \n",
    "    def function_Smooth(self, window2):\n",
    "        self.savgolWindow = window2\n",
    "        if self.savgolWindow == 0:\n",
    "            self.smoothBool = 0\n",
    "        else:\n",
    "            self.dfSmooth = savgol_filter(self.dfNorm, self.savgolWindow, 2)\n",
    "            self.smoothBool = 1\n",
    "        \n",
    "    \n",
    "        \n",
    "\n",
    "    def functionLSTM_Model(self, input_layer, nbHidden):\n",
    "        self.inputLayer = input_layer\n",
    "        self.hiddenLayers = nbHidden\n",
    "        self.lstmShape = np.shape(self.arrayData[1])\n",
    "        self.output_layer = 1\n",
    "        self.model = Sequential()\n",
    "        #INPUT LAYER\n",
    "        if self.hiddenLayers == 0:\n",
    "            self.model.add(LSTM(self.inputLayer, input_shape = self.lstmShape, return_sequences=False))\n",
    "        else:\n",
    "            self.model.add(LSTM(self.inputLayer, input_shape = self.lstmShape, return_sequences=True))\n",
    "\n",
    "        #HIDDEN LAYER    \n",
    "        for i in range(0,self.hiddenLayers):\n",
    "            if i+1 == self.hiddenLayers:\n",
    "                self.model.add(LSTM(self.inputLayer))           \n",
    "            else:\n",
    "                self.model.add(LSTM(self.inputLayer, return_sequences=True))\n",
    "        adamOpti = Adam(lr = 0.001)        \n",
    "        self.model.add(Dense(1, activation = \"linear\"))\n",
    "        self.model.compile(loss='mean_squared_error', optimizer=adamOpti)\n",
    "\n",
    "        return self.model\n",
    "    \n",
    "    def function_Summary(self):\n",
    "        print(self.model.summary())\n",
    "    \n",
    "    def function_Training(self, epok=100, bs=1, val_split=0.2):\n",
    "        self.epk = epok\n",
    "        self.sizeBatch = bs\n",
    "        self.split = val_split\n",
    "        self.model.fit(self.arrayData, self.listLabel, epochs=100, batch_size=1, verbose=2, validation_split=0.2)\n",
    "        \n",
    "\n",
    "    def function_Nostradamus(self, windowPredict):\n",
    "        if self.smoothBool ==0:\n",
    "            self.predictWindow = windowPredict\n",
    "            self.nostradamus = np.array(self.dfNorm[-self.window:])\n",
    "            self.nostradamus = np.reshape(self.nostradamus, (1,self.window,1))\n",
    "            self.prediction = np.array([])\n",
    "            for i in range(self.predictWindow):\n",
    "                self.tmp_pred = self.model.predict(self.nostradamus[i:i+1])\n",
    "                self.pred_tmp = np.append(self.nostradamus[i], self.tmp_pred)\n",
    "                self.pred_tmp = self.pred_tmp[1:]\n",
    "                self.pred_tmp = np.reshape(self.pred_tmp, (self.window,1))               \n",
    "                self.nostradamus = np.append(self.nostradamus, self.pred_tmp)              \n",
    "                self.nostradamus = np.reshape(self.nostradamus, (i+2,self.window,1))               \n",
    "                self.prediction = np.append(self.prediction, self.tmp_pred)\n",
    "        else:\n",
    "            self.predictWindow = windowPredict\n",
    "            self.nostradamus = np.array(self.dfNorm[-self.window:])\n",
    "            self.nostradamus = np.reshape(self.nostradamus, (1,self.window,1))\n",
    "            self.prediction = np.array([])\n",
    "            for i in range(self.predictWindow):\n",
    "                self.tmp_pred = self.model.predict(self.nostradamus[i:i+1])\n",
    "                self.pred_tmp = np.append(self.nostradamus[i], self.tmp_pred)\n",
    "                self.pred_tmp = self.pred_tmp[1:]\n",
    "                self.pred_tmp = np.reshape(self.pred_tmp, (self.window,1))               \n",
    "                self.nostradamus = np.append(self.nostradamus, self.pred_tmp)              \n",
    "                self.nostradamus = np.reshape(self.nostradamus, (i+2,self.window,1))               \n",
    "                self.prediction = np.append(self.prediction, self.tmp_pred)\n",
    "            \n",
    "\n",
    "        return self.prediction\n",
    "    \n",
    "    \n",
    "    def function_Plot(self, X_tick):\n",
    "        self.X = X_tick\n",
    "        if self.smoothBool == 0:\n",
    "            plt.plot(self.X, self.dfNorm, c = 'darkblue')\n",
    "        else:\n",
    "            plt.plot(self.X, self.dfSmooth, c = 'darkblue')"
   ]
  },
  {
   "cell_type": "code",
   "execution_count": 217,
   "metadata": {},
   "outputs": [
    {
     "data": {
      "text/html": [
       "<div>\n",
       "<style scoped>\n",
       "    .dataframe tbody tr th:only-of-type {\n",
       "        vertical-align: middle;\n",
       "    }\n",
       "\n",
       "    .dataframe tbody tr th {\n",
       "        vertical-align: top;\n",
       "    }\n",
       "\n",
       "    .dataframe thead th {\n",
       "        text-align: right;\n",
       "    }\n",
       "</style>\n",
       "<table border=\"1\" class=\"dataframe\">\n",
       "  <thead>\n",
       "    <tr style=\"text-align: right;\">\n",
       "      <th></th>\n",
       "      <th>incid_dc</th>\n",
       "      <th>incid_rea</th>\n",
       "      <th>incid_hosp</th>\n",
       "    </tr>\n",
       "    <tr>\n",
       "      <th>jour</th>\n",
       "      <th></th>\n",
       "      <th></th>\n",
       "      <th></th>\n",
       "    </tr>\n",
       "  </thead>\n",
       "  <tbody>\n",
       "    <tr>\n",
       "      <th>2020-03-19</th>\n",
       "      <td>155</td>\n",
       "      <td>438</td>\n",
       "      <td>2229</td>\n",
       "    </tr>\n",
       "    <tr>\n",
       "      <th>2020-03-20</th>\n",
       "      <td>83</td>\n",
       "      <td>242</td>\n",
       "      <td>1256</td>\n",
       "    </tr>\n",
       "    <tr>\n",
       "      <th>2020-03-21</th>\n",
       "      <td>115</td>\n",
       "      <td>298</td>\n",
       "      <td>1540</td>\n",
       "    </tr>\n",
       "    <tr>\n",
       "      <th>2020-03-22</th>\n",
       "      <td>124</td>\n",
       "      <td>309</td>\n",
       "      <td>1534</td>\n",
       "    </tr>\n",
       "    <tr>\n",
       "      <th>2020-03-23</th>\n",
       "      <td>189</td>\n",
       "      <td>448</td>\n",
       "      <td>2053</td>\n",
       "    </tr>\n",
       "  </tbody>\n",
       "</table>\n",
       "</div>"
      ],
      "text/plain": [
       "            incid_dc  incid_rea  incid_hosp\n",
       "jour                                       \n",
       "2020-03-19       155        438        2229\n",
       "2020-03-20        83        242        1256\n",
       "2020-03-21       115        298        1540\n",
       "2020-03-22       124        309        1534\n",
       "2020-03-23       189        448        2053"
      ]
     },
     "execution_count": 217,
     "metadata": {},
     "output_type": "execute_result"
    }
   ],
   "source": [
    "covid_df = pd.read_csv('donnees-hospitalieres-nouveaux-covid19-2021-02-11-19h03.csv', sep=';')\n",
    "df_2 = covid_df.groupby('jour')['incid_dc', 'incid_rea', 'incid_hosp'].sum()\n",
    "df_2.head()"
   ]
  },
  {
   "cell_type": "code",
   "execution_count": 221,
   "metadata": {},
   "outputs": [],
   "source": [
    "covid = Class_LSTM(df_2['incid_dc'],15)"
   ]
  },
  {
   "cell_type": "code",
   "execution_count": 224,
   "metadata": {},
   "outputs": [],
   "source": [
    "covid.function_Smooth(49)"
   ]
  },
  {
   "cell_type": "code",
   "execution_count": 225,
   "metadata": {},
   "outputs": [
    {
     "data": {
      "image/png": "[encoded data removed]",
      "text/plain": [
       "<Figure size 432x288 with 1 Axes>"
      ]
     },
     "metadata": {
      "needs_background": "light"
     },
     "output_type": "display_data"
    }
   ],
   "source": [
    "covid.function_Plot(np.linspace(0,329,330))"
   ]
  },
  {
   "cell_type": "code",
   "execution_count": 226,
   "metadata": {},
   "outputs": [
    {
     "data": {
      "text/plain": [
       "(array([[[-0.2538878 ],\n",
       "         [-0.07749226],\n",
       "         [ 0.09096691],\n",
       "         ...,\n",
       "         [ 1.33905831],\n",
       "         [ 1.42021743],\n",
       "         [ 1.49344017]],\n",
       " \n",
       "        [[-0.07749226],\n",
       "         [ 0.09096691],\n",
       "         [ 0.25148971],\n",
       "         ...,\n",
       "         [ 1.42021743],\n",
       "         [ 1.49344017],\n",
       "         [ 1.55872655]],\n",
       " \n",
       "        [[ 0.09096691],\n",
       "         [ 0.25148971],\n",
       "         [ 0.40407614],\n",
       "         ...,\n",
       "         [ 1.49344017],\n",
       "         [ 1.55872655],\n",
       "         [ 1.61607655]],\n",
       " \n",
       "        ...,\n",
       " \n",
       "        [[ 0.83620701],\n",
       "         [ 0.85072793],\n",
       "         [ 0.86499827],\n",
       "         ...,\n",
       "         [ 0.99391995],\n",
       "         [ 1.00543395],\n",
       "         [ 1.01669737]],\n",
       " \n",
       "        [[ 0.85072793],\n",
       "         [ 0.86499827],\n",
       "         [ 0.87901803],\n",
       "         ...,\n",
       "         [ 1.00543395],\n",
       "         [ 1.01669737],\n",
       "         [ 1.02771021]],\n",
       " \n",
       "        [[ 0.86499827],\n",
       "         [ 0.87901803],\n",
       "         [ 0.89278722],\n",
       "         ...,\n",
       "         [ 1.01669737],\n",
       "         [ 1.02771021],\n",
       "         [ 1.03847248]]]),\n",
       " array([ 1.55872655,  1.61607655,  1.66549019,  1.70696746,  1.74050836,\n",
       "         1.7661129 ,  1.78378106,  1.79351286,  1.79530828,  1.78916734,\n",
       "         1.75615882,  1.70118851,  1.64158051,  1.5664428 ,  1.46702178,\n",
       "         1.36587653,  1.28121717,  1.18802718,  1.08546154,  0.98556717,\n",
       "         0.87432426,  0.76738034,  0.67645526,  0.59254188,  0.5192249 ,\n",
       "         0.46092297,  0.37978822,  0.28121473,  0.22121758,  0.16849657,\n",
       "         0.11952991,  0.04834697,  0.01266956, -0.06021538, -0.13693919,\n",
       "        -0.2086469 , -0.24449791, -0.27658984, -0.31022545, -0.33940945,\n",
       "        -0.37263841, -0.42656362, -0.44345901, -0.4605261 , -0.47804984,\n",
       "        -0.49517197, -0.51026839, -0.54090982, -0.57973483, -0.59291449,\n",
       "        -0.59705028, -0.60800886, -0.6238552 , -0.64888781, -0.67890199,\n",
       "        -0.71155211, -0.71857958, -0.72155452, -0.73029187, -0.74246979,\n",
       "        -0.76187276, -0.78701921, -0.81237049, -0.81823602, -0.81886074,\n",
       "        -0.83331667, -0.84181403, -0.84998152, -0.86414668, -0.88123649,\n",
       "        -0.88682623, -0.89039926, -0.89786256, -0.9088019 , -0.9177723 ,\n",
       "        -0.92811751, -0.94042048, -0.94477638, -0.94539196, -0.95208357,\n",
       "        -0.95682958, -0.96088132, -0.96420694, -0.97036765, -0.98041658,\n",
       "        -0.97871017, -0.97394382, -0.97659647, -0.97812691, -0.98051781,\n",
       "        -0.98613326, -0.98525009, -0.98472297, -0.98686915, -0.98984504,\n",
       "        -0.99050225, -0.99173325, -0.99530501, -0.99888229, -0.99725725,\n",
       "        -0.99689442, -0.99600164, -0.99878043, -0.99887551, -1.00137127,\n",
       "        -1.0036704 , -1.00510197, -1.00918036, -1.0112272 , -1.01210437,\n",
       "        -1.01197807, -1.01429896, -1.01719963, -1.01867725, -1.02007319,\n",
       "        -1.02081838, -1.02289739, -1.02352953, -1.02458583, -1.02657606,\n",
       "        -1.02504452, -1.02195478, -1.02103078, -1.01846123, -1.01686157,\n",
       "        -1.01641581, -1.01740146, -1.01831096, -1.0174762 , -1.01539531,\n",
       "        -1.01327294, -1.01091468, -1.00869723, -1.00792602, -1.00958575,\n",
       "        -1.00999935, -1.00672355, -1.0070479 , -1.00357878, -0.99987568,\n",
       "        -1.00015319, -0.99921689, -0.99903099, -0.99823533, -1.00970606,\n",
       "        -1.00201602, -0.99328466, -0.98820201, -0.98668072, -0.97995631,\n",
       "        -0.97509126, -0.9691923 , -0.96208788, -0.95330307, -0.95174393,\n",
       "        -0.94465292, -0.9370947 , -0.92864637, -0.91644417, -0.90731766,\n",
       "        -0.89630153, -0.88920136, -0.88078647, -0.87439382, -0.86752056,\n",
       "        -0.85518748, -0.8434036 , -0.83296914, -0.82934818, -0.82160295,\n",
       "        -0.81643579, -0.80802405, -0.80410539, -0.79567882, -0.78691751,\n",
       "        -0.78382415, -0.78307895, -0.77869782, -0.77234238, -0.76725327,\n",
       "        -0.75299996, -0.73633763, -0.74011453, -0.74162636, -0.73024961,\n",
       "        -0.71814627, -0.69918308, -0.67538006, -0.65332697, -0.65606019,\n",
       "        -0.65127745, -0.62958276, -0.5951474 , -0.54601234, -0.49052641,\n",
       "        -0.4302579 , -0.40970088, -0.36148383, -0.28617062, -0.22292921,\n",
       "        -0.16315613, -0.08249317,  0.00532263,  0.06650363,  0.14174557,\n",
       "         0.22210737,  0.30233041,  0.38926509,  0.49343984,  0.59817026,\n",
       "         0.65250733,  0.71554659,  0.79390176,  0.87614625,  0.94049551,\n",
       "         1.03020835,  1.10901953,  1.14957602,  1.19221846,  1.24164034,\n",
       "         1.27780293,  1.32025315,  1.35905877,  1.391201  ,  1.38901556,\n",
       "         1.382861  ,  1.38736986,  1.38388324,  1.37501107,  1.36782466,\n",
       "         1.35144899,  1.31118483,  1.28605983,  1.25183102,  1.21854309,\n",
       "         1.17941755,  1.13996907,  1.1017538 ,  1.05248819,  1.00407877,\n",
       "         0.97212197,  0.93232439,  0.92294891,  0.89161479,  0.84046995,\n",
       "         0.80802292,  0.7657504 ,  0.71668756,  0.69515734,  0.70590778,\n",
       "         0.68956065,  0.66493202,  0.6315304 ,  0.60059301,  0.58454058,\n",
       "         0.57806057,  0.56580649,  0.55305335,  0.5263722 ,  0.52477585,\n",
       "         0.51499734,  0.52245433,  0.51475594,  0.52101157,  0.51031094,\n",
       "         0.50087649,  0.48293396,  0.47197711,  0.46747551,  0.46230724,\n",
       "         0.46000133,  0.46180124,  0.46152262,  0.44654257,  0.461551  ,\n",
       "         0.46653211,  0.47622847,  0.4902801 ,  0.50580635,  0.51490841,\n",
       "         0.51796913,  0.52832317,  0.54808344,  0.56445549,  0.59452155,\n",
       "         0.62676375,  0.64291331,  0.64614716,  0.66898266,  0.70311417,\n",
       "         0.72754444,  0.7438194 ,  0.75984377,  0.77561758,  0.7911408 ,\n",
       "         0.80641345,  0.82143552,  0.83620701,  0.85072793,  0.86499827,\n",
       "         0.87901803,  0.89278722,  0.90630583,  0.91957386,  0.93259132,\n",
       "         0.9453582 ,  0.9578745 ,  0.97014023,  0.98215538,  0.99391995,\n",
       "         1.00543395,  1.01669737,  1.02771021,  1.03847248,  1.04898416]),\n",
       " (15, 1))"
      ]
     },
     "execution_count": 226,
     "metadata": {},
     "output_type": "execute_result"
    }
   ],
   "source": [
    "covid.function_TimeSeriesGenerator()"
   ]
  },
  {
   "cell_type": "code",
   "execution_count": 228,
   "metadata": {},
   "outputs": [
    {
     "data": {
      "text/plain": [
       "<tensorflow.python.keras.engine.sequential.Sequential at 0x64d02e80>"
      ]
     },
     "execution_count": 228,
     "metadata": {},
     "output_type": "execute_result"
    }
   ],
   "source": [
    "covid.functionLSTM_Model(16,0)"
   ]
  },
  {
   "cell_type": "code",
   "execution_count": 229,
   "metadata": {},
   "outputs": [
    {
     "name": "stdout",
     "output_type": "stream",
     "text": [
      "_________________________________________________________________\n",
      "Layer (type)                 Output Shape              Param #   \n",
      "=================================================================\n",
      "lstm_78 (LSTM)               (None, 16)                1152      \n",
      "_________________________________________________________________\n",
      "dense_17 (Dense)             (None, 1)                 17        \n",
      "=================================================================\n",
      "Total params: 1,169\n",
      "Trainable params: 1,169\n",
      "Non-trainable params: 0\n",
      "_________________________________________________________________\n",
      "None\n"
     ]
    }
   ],
   "source": [
    "covid.function_Summary()"
   ]
  },
  {
   "cell_type": "code",
   "execution_count": null,
   "metadata": {},
   "outputs": [
    {
     "name": "stdout",
     "output_type": "stream",
     "text": [
      "Train on 252 samples, validate on 63 samples\n",
      "Epoch 1/100\n",
      " - 6s - loss: 0.1444 - val_loss: 0.0053\n",
      "Epoch 2/100\n",
      " - 2s - loss: 0.0273 - val_loss: 0.0030\n",
      "Epoch 3/100\n",
      " - 2s - loss: 0.0108 - val_loss: 5.7753e-04\n",
      "Epoch 4/100\n",
      " - 3s - loss: 0.0037 - val_loss: 2.4838e-04\n",
      "Epoch 5/100\n",
      " - 2s - loss: 0.0029 - val_loss: 0.0034\n",
      "Epoch 6/100\n",
      " - 2s - loss: 0.0023 - val_loss: 3.6671e-04\n",
      "Epoch 7/100\n",
      " - 3s - loss: 0.0016 - val_loss: 1.8253e-04\n",
      "Epoch 8/100\n",
      " - 2s - loss: 0.0012 - val_loss: 1.7378e-04\n",
      "Epoch 9/100\n",
      " - 2s - loss: 9.2688e-04 - val_loss: 2.5490e-04\n",
      "Epoch 10/100\n",
      " - 2s - loss: 7.8509e-04 - val_loss: 0.0011\n",
      "Epoch 11/100\n",
      " - 2s - loss: 7.5962e-04 - val_loss: 0.0010\n",
      "Epoch 12/100\n",
      " - 2s - loss: 7.3685e-04 - val_loss: 1.5830e-04\n",
      "Epoch 13/100\n",
      " - 2s - loss: 6.2806e-04 - val_loss: 1.4546e-04\n",
      "Epoch 14/100\n",
      " - 2s - loss: 6.5898e-04 - val_loss: 1.3776e-04\n",
      "Epoch 15/100\n",
      " - 2s - loss: 5.3459e-04 - val_loss: 0.0010\n",
      "Epoch 16/100\n",
      " - 3s - loss: 6.1935e-04 - val_loss: 2.2786e-04\n",
      "Epoch 17/100\n",
      " - 3s - loss: 4.8510e-04 - val_loss: 2.2460e-04\n",
      "Epoch 18/100\n"
     ]
    }
   ],
   "source": [
    "covid.function_Training()"
   ]
  },
  {
   "cell_type": "code",
   "execution_count": 216,
   "metadata": {},
   "outputs": [
    {
     "data": {
      "text/plain": [
       "[<matplotlib.lines.Line2D at 0x584792e8>]"
      ]
     },
     "execution_count": 216,
     "metadata": {},
     "output_type": "execute_result"
    },
    {
     "data": {
      "image/png": "[encoded data removed]",
      "text/plain": [
       "<Figure size 432x288 with 1 Axes>"
      ]
     },
     "metadata": {
      "needs_background": "light"
     },
     "output_type": "display_data"
    }
   ],
   "source": [
    "yy = covid.function_Nostradamus(15)\n",
    "plt.plot((np.linspace(330,344,15)),yy*covid.stdDf+covid.meanDf )\n",
    "plt.plot(np.linspace(0,329,330), covid.dfSmooth[0:330]*covid.stdDf+covid.meanDf)"
   ]
  },
  {
   "cell_type": "code",
   "execution_count": null,
   "metadata": {},
   "outputs": [],
   "source": []
  }
 ],
 "metadata": {
  "kernelspec": {
   "display_name": "Python 3",
   "language": "python",
   "name": "python3"
  },
  "language_info": {
   "codemirror_mode": {
    "name": "ipython",
    "version": 3
   },
   "file_extension": ".py",
   "mimetype": "text/x-python",
   "name": "python",
   "nbconvert_exporter": "python",
   "pygments_lexer": "ipython3",
   "version": "3.7.1"
  }
 },
 "nbformat": 4,
 "nbformat_minor": 2
}
