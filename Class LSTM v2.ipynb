{
 "cells": [
  {
   "cell_type": "code",
   "execution_count": 141,
   "metadata": {},
   "outputs": [],
   "source": [
    "import numpy as np\n",
    "import matplotlib.pyplot as plt\n",
    "from tensorflow.keras.models import Sequential\n",
    "from tensorflow.keras.layers import Dense\n",
    "from tensorflow.keras.layers import Dropout\n",
    "from tensorflow.keras.layers import LSTM\n",
    "from sklearn.preprocessing import MinMaxScaler\n",
    "from sklearn.metrics import mean_squared_error\n",
    "from tensorflow.keras.optimizers import Adam\n",
    "from scipy.signal import savgol_filter\n",
    "import pandas as pd"
   ]
  },
  {
   "cell_type": "code",
   "execution_count": 142,
   "metadata": {},
   "outputs": [],
   "source": [
    "class Class_LSTM:\n",
    "    \n",
    "    def __init__(self, inputData, window):\n",
    "        self.df = inputData\n",
    "        self.meanDf = self.df.mean()\n",
    "        self.stdDf = self.df.std()\n",
    "        self.smoothBool = 0\n",
    "        self.dfNorm = (self.df - self.meanDf) / self.stdDf\n",
    "        self.window = window\n",
    "    \n",
    "    def function_TimeSeriesGenerator(self):\n",
    "        self.listData = np.array([])\n",
    "        self.listLabel = np.array([])\n",
    "        if self.smoothBool == 0:\n",
    "            for i in range(len(self.dfNorm)-self.window):\n",
    "                self.tmp_data = self.dfNorm[i:i+self.window]\n",
    "                self.tmp_label = self.dfNorm[i+self.window]\n",
    "                self.listData = np.append(self.listData, self.tmp_data)\n",
    "                self.listLabel = np.append(self.listLabel, self.tmp_label)\n",
    "            self.arrayData = np.reshape(self.listData, (i+1, self.window,1))\n",
    "            self.paramShape = (self.window, 1)\n",
    "        else:\n",
    "            for i in range(len(self.dfSmooth)-self.window):\n",
    "                self.tmp_data = self.dfSmooth[i:i+self.window]\n",
    "                self.tmp_label = self.dfSmooth[i+self.window]\n",
    "                self.listData = np.append(self.listData, self.tmp_data)\n",
    "                self.listLabel = np.append(self.listLabel, self.tmp_label)\n",
    "            self.arrayData = np.reshape(self.listData, (i+1, self.window,1))\n",
    "            self.paramShape = (self.window, 1)\n",
    "            \n",
    "\n",
    "        return self.arrayData, self.listLabel, self.paramShape\n",
    "    \n",
    "    def function_Smooth(self, window2):\n",
    "        self.savgolWindow = window2\n",
    "        if self.savgolWindow == 0:\n",
    "            self.smoothBool = 0\n",
    "        else:\n",
    "            self.dfSmooth = savgol_filter(self.dfNorm, self.savgolWindow, 2)\n",
    "            self.smoothBool = 1\n",
    "        \n",
    "    \n",
    "        \n",
    "\n",
    "    def functionLSTM_Model(self, input_layer, nbHidden=0, drop_out=0):\n",
    "        self.inputLayer = input_layer\n",
    "        self.hiddenLayers = nbHidden\n",
    "        self.lstmShape = np.shape(self.arrayData[1])\n",
    "        self.drop = drop_out\n",
    "        self.output_layer = 1\n",
    "        self.model = Sequential()\n",
    "        #INPUT LAYER\n",
    "        if self.hiddenLayers == 0:\n",
    "            self.model.add(LSTM(self.inputLayer, input_shape = self.lstmShape, return_sequences=False))\n",
    "            if self.drop != 0:\n",
    "                    self.model.add(Dropout(self.drop))\n",
    "        else:\n",
    "            self.model.add(LSTM(self.inputLayer, input_shape = self.lstmShape, return_sequences=True))\n",
    "            if self.drop != 0:\n",
    "                    self.model.add(Dropout(self.drop))\n",
    "\n",
    "        #HIDDEN LAYER    \n",
    "        for i in range(0,self.hiddenLayers):\n",
    "            if i+1 == self.hiddenLayers:\n",
    "                self.model.add(LSTM(self.inputLayer))\n",
    "                if self.drop != 0:\n",
    "                    self.model.add(Dropout(self.drop))\n",
    "            else:\n",
    "                self.model.add(LSTM(self.inputLayer, return_sequences=True))\n",
    "                if self.drop != 0:\n",
    "                    self.model.add(Dropout(self.drop))\n",
    "        adamOpti = Adam(lr = 0.001)        \n",
    "        self.model.add(Dense(1, activation = \"linear\"))\n",
    "        self.model.compile(loss='mean_squared_error', optimizer=adamOpti)\n",
    "\n",
    "        return self.model\n",
    "    \n",
    "    def function_Summary(self):\n",
    "        print(self.model.summary())\n",
    "    \n",
    "    def function_Training(self, epok=100, bs=1, val_split=0.2):\n",
    "        self.epk = epok\n",
    "        self.sizeBatch = bs\n",
    "        self.split = val_split\n",
    "        self.model.fit(self.arrayData, self.listLabel, \n",
    "                       epochs=self.epk, \n",
    "                       batch_size=self.sizeBatch, \n",
    "                       verbose=2, \n",
    "                       validation_split=self.split)\n",
    "        \n",
    "\n",
    "    def function_Nostradamus(self, windowPredict, plot=True, xmin=0):\n",
    "        self.X_min = xmin\n",
    "        self.plot_want = plot\n",
    "        if self.smoothBool ==0:\n",
    "            self.predictWindow = windowPredict\n",
    "            self.nostradamus = np.array(self.dfNorm[-self.window:])\n",
    "            self.nostradamus = np.reshape(self.nostradamus, (1,self.window,1))\n",
    "            self.prediction = np.array([])\n",
    "            for i in range(self.predictWindow):\n",
    "                self.tmp_pred = self.model.predict(self.nostradamus[i:i+1])\n",
    "                self.pred_tmp = np.append(self.nostradamus[i], self.tmp_pred)\n",
    "                self.pred_tmp = self.pred_tmp[1:]\n",
    "                self.pred_tmp = np.reshape(self.pred_tmp, (self.window,1))               \n",
    "                self.nostradamus = np.append(self.nostradamus, self.pred_tmp)              \n",
    "                self.nostradamus = np.reshape(self.nostradamus, (i+2,self.window,1))               \n",
    "                self.prediction = np.append(self.prediction, self.tmp_pred)\n",
    "                \n",
    "            if self.plot_want == True:\n",
    "                plt.plot((np.linspace(len(self.dfNorm),\n",
    "                                      len(self.dfNorm) + self.predictWindow - 1,\n",
    "                                      self.predictWindow)),\n",
    "                                      self.prediction*self.stdDf+self.meanDf )\n",
    "                plt.plot(np.linspace(0,len(self.dfNorm) - 1,\n",
    "                                     len(self.dfNorm)), \n",
    "                                     self.dfNorm*self.stdDf+self.meanDf)\n",
    "                plt.xlim(self.X_min, len(self.dfNorm) + self.predictWindow + 1)\n",
    "            \n",
    "            \n",
    "        else:\n",
    "            self.predictWindow = windowPredict\n",
    "            self.nostradamus = np.array(self.dfNorm[-self.window:])\n",
    "            self.nostradamus = np.reshape(self.nostradamus, (1,self.window,1))\n",
    "            self.prediction = np.array([])\n",
    "            for i in range(self.predictWindow):\n",
    "                self.tmp_pred = self.model.predict(self.nostradamus[i:i+1])\n",
    "                self.pred_tmp = np.append(self.nostradamus[i], self.tmp_pred)\n",
    "                self.pred_tmp = self.pred_tmp[1:]\n",
    "                self.pred_tmp = np.reshape(self.pred_tmp, (self.window,1))               \n",
    "                self.nostradamus = np.append(self.nostradamus, self.pred_tmp)              \n",
    "                self.nostradamus = np.reshape(self.nostradamus, (i+2,self.window,1))               \n",
    "                self.prediction = np.append(self.prediction, self.tmp_pred)\n",
    "                \n",
    "            if self.plot_want == True:\n",
    "                plt.plot((np.linspace(len(self.dfSmooth),\n",
    "                                      len(self.dfSmooth) + self.predictWindow - 1,\n",
    "                                      self.predictWindow)),\n",
    "                                      self.prediction*self.stdDf+self.meanDf )\n",
    "                plt.plot(np.linspace(0,len(self.dfSmooth) - 1,\n",
    "                                     len(self.dfSmooth)), \n",
    "                                     self.dfSmooth*self.stdDf+self.meanDf)\n",
    "                plt.xlim(self.X_min, len(self.dfSmooth) + self.predictWindow + 1)\n",
    "                \n",
    "        \n",
    "            \n",
    "\n",
    "        return self.prediction\n",
    "    \n",
    "    \n",
    "    def function_Plot(self):\n",
    "        if self.smoothBool == 0:\n",
    "            self.X = np.linspace(0, len(self.dfNorm) - 1 ,len(self.dfNorm))\n",
    "            plt.plot(self.X, self.dfNorm, c = 'darkblue')\n",
    "        else:\n",
    "            self.X = np.linspace(0, len(self.dfSmooth) - 1 ,len(self.dfSmooth))\n",
    "            plt.plot(self.X, self.dfSmooth, c = 'darkblue')\n",
    "    \n",
    "    \n",
    "    def log_Df(self):\n",
    "        if self.smoothBool == 0:\n",
    "            self.log_df = np.log(self.dfNorm*self.stdDf+self.meanDf + 1)\n",
    "        else:\n",
    "            self.log_df = np.log(self.dfSmooth*self.stdDf+self.meanDf + 1)\n",
    "        return self.log_df\n",
    "            \n",
    "      "
   ]
  },
  {
   "cell_type": "code",
   "execution_count": 143,
   "metadata": {},
   "outputs": [
    {
     "data": {
      "text/html": [
       "<div>\n",
       "<style scoped>\n",
       "    .dataframe tbody tr th:only-of-type {\n",
       "        vertical-align: middle;\n",
       "    }\n",
       "\n",
       "    .dataframe tbody tr th {\n",
       "        vertical-align: top;\n",
       "    }\n",
       "\n",
       "    .dataframe thead th {\n",
       "        text-align: right;\n",
       "    }\n",
       "</style>\n",
       "<table border=\"1\" class=\"dataframe\">\n",
       "  <thead>\n",
       "    <tr style=\"text-align: right;\">\n",
       "      <th></th>\n",
       "      <th>incid_dc</th>\n",
       "      <th>incid_rea</th>\n",
       "      <th>incid_hosp</th>\n",
       "    </tr>\n",
       "    <tr>\n",
       "      <th>jour</th>\n",
       "      <th></th>\n",
       "      <th></th>\n",
       "      <th></th>\n",
       "    </tr>\n",
       "  </thead>\n",
       "  <tbody>\n",
       "    <tr>\n",
       "      <th>2021-02-03</th>\n",
       "      <td>358</td>\n",
       "      <td>275</td>\n",
       "      <td>1882</td>\n",
       "    </tr>\n",
       "    <tr>\n",
       "      <th>2021-02-04</th>\n",
       "      <td>360</td>\n",
       "      <td>275</td>\n",
       "      <td>1752</td>\n",
       "    </tr>\n",
       "    <tr>\n",
       "      <th>2021-02-05</th>\n",
       "      <td>296</td>\n",
       "      <td>255</td>\n",
       "      <td>1719</td>\n",
       "    </tr>\n",
       "    <tr>\n",
       "      <th>2021-02-06</th>\n",
       "      <td>191</td>\n",
       "      <td>168</td>\n",
       "      <td>1126</td>\n",
       "    </tr>\n",
       "    <tr>\n",
       "      <th>2021-02-07</th>\n",
       "      <td>171</td>\n",
       "      <td>160</td>\n",
       "      <td>790</td>\n",
       "    </tr>\n",
       "    <tr>\n",
       "      <th>2021-02-08</th>\n",
       "      <td>460</td>\n",
       "      <td>356</td>\n",
       "      <td>1893</td>\n",
       "    </tr>\n",
       "    <tr>\n",
       "      <th>2021-02-09</th>\n",
       "      <td>439</td>\n",
       "      <td>334</td>\n",
       "      <td>1931</td>\n",
       "    </tr>\n",
       "    <tr>\n",
       "      <th>2021-02-10</th>\n",
       "      <td>297</td>\n",
       "      <td>282</td>\n",
       "      <td>1525</td>\n",
       "    </tr>\n",
       "    <tr>\n",
       "      <th>2021-02-11</th>\n",
       "      <td>371</td>\n",
       "      <td>269</td>\n",
       "      <td>1618</td>\n",
       "    </tr>\n",
       "    <tr>\n",
       "      <th>2021-02-12</th>\n",
       "      <td>320</td>\n",
       "      <td>264</td>\n",
       "      <td>1405</td>\n",
       "    </tr>\n",
       "    <tr>\n",
       "      <th>2021-02-13</th>\n",
       "      <td>199</td>\n",
       "      <td>191</td>\n",
       "      <td>1085</td>\n",
       "    </tr>\n",
       "    <tr>\n",
       "      <th>2021-02-14</th>\n",
       "      <td>167</td>\n",
       "      <td>113</td>\n",
       "      <td>651</td>\n",
       "    </tr>\n",
       "    <tr>\n",
       "      <th>2021-02-15</th>\n",
       "      <td>413</td>\n",
       "      <td>306</td>\n",
       "      <td>1431</td>\n",
       "    </tr>\n",
       "    <tr>\n",
       "      <th>2021-02-16</th>\n",
       "      <td>352</td>\n",
       "      <td>323</td>\n",
       "      <td>1857</td>\n",
       "    </tr>\n",
       "    <tr>\n",
       "      <th>2021-02-17</th>\n",
       "      <td>311</td>\n",
       "      <td>311</td>\n",
       "      <td>1559</td>\n",
       "    </tr>\n",
       "    <tr>\n",
       "      <th>2021-02-18</th>\n",
       "      <td>272</td>\n",
       "      <td>262</td>\n",
       "      <td>1490</td>\n",
       "    </tr>\n",
       "    <tr>\n",
       "      <th>2021-02-19</th>\n",
       "      <td>328</td>\n",
       "      <td>309</td>\n",
       "      <td>1543</td>\n",
       "    </tr>\n",
       "    <tr>\n",
       "      <th>2021-02-20</th>\n",
       "      <td>183</td>\n",
       "      <td>195</td>\n",
       "      <td>1029</td>\n",
       "    </tr>\n",
       "    <tr>\n",
       "      <th>2021-02-21</th>\n",
       "      <td>160</td>\n",
       "      <td>141</td>\n",
       "      <td>593</td>\n",
       "    </tr>\n",
       "    <tr>\n",
       "      <th>2021-02-22</th>\n",
       "      <td>334</td>\n",
       "      <td>274</td>\n",
       "      <td>1529</td>\n",
       "    </tr>\n",
       "    <tr>\n",
       "      <th>2021-02-23</th>\n",
       "      <td>314</td>\n",
       "      <td>345</td>\n",
       "      <td>1780</td>\n",
       "    </tr>\n",
       "  </tbody>\n",
       "</table>\n",
       "</div>"
      ],
      "text/plain": [
       "            incid_dc  incid_rea  incid_hosp\n",
       "jour                                       \n",
       "2021-02-03       358        275        1882\n",
       "2021-02-04       360        275        1752\n",
       "2021-02-05       296        255        1719\n",
       "2021-02-06       191        168        1126\n",
       "2021-02-07       171        160         790\n",
       "2021-02-08       460        356        1893\n",
       "2021-02-09       439        334        1931\n",
       "2021-02-10       297        282        1525\n",
       "2021-02-11       371        269        1618\n",
       "2021-02-12       320        264        1405\n",
       "2021-02-13       199        191        1085\n",
       "2021-02-14       167        113         651\n",
       "2021-02-15       413        306        1431\n",
       "2021-02-16       352        323        1857\n",
       "2021-02-17       311        311        1559\n",
       "2021-02-18       272        262        1490\n",
       "2021-02-19       328        309        1543\n",
       "2021-02-20       183        195        1029\n",
       "2021-02-21       160        141         593\n",
       "2021-02-22       334        274        1529\n",
       "2021-02-23       314        345        1780"
      ]
     },
     "execution_count": 143,
     "metadata": {},
     "output_type": "execute_result"
    }
   ],
   "source": [
    "covid_df = pd.read_csv('donnees-hospitalieres-nouveaux-covid19-2021-02-23-19h03.csv', sep=';')\n",
    "#covid_df = covid_df.loc[covid_df['dep'] == '06']\n",
    "df_2 = covid_df.groupby('jour')['incid_dc', 'incid_rea', 'incid_hosp'].sum()\n",
    "df_2.tail(21)"
   ]
  },
  {
   "cell_type": "code",
   "execution_count": 144,
   "metadata": {},
   "outputs": [],
   "source": [
    "covid = Class_LSTM(df_2['incid_hosp'],28)"
   ]
  },
  {
   "cell_type": "code",
   "execution_count": 147,
   "metadata": {},
   "outputs": [
    {
     "name": "stderr",
     "output_type": "stream",
     "text": [
      "C:\\Users\\Carcouss\\Anaconda3\\lib\\site-packages\\scipy\\signal\\_arraytools.py:45: FutureWarning: Using a non-tuple sequence for multidimensional indexing is deprecated; use `arr[tuple(seq)]` instead of `arr[seq]`. In the future this will be interpreted as an array index, `arr[np.array(seq)]`, which will result either in an error or a different result.\n",
      "  b = a[a_slice]\n"
     ]
    }
   ],
   "source": [
    "covid.function_Smooth(19)"
   ]
  },
  {
   "cell_type": "code",
   "execution_count": 148,
   "metadata": {},
   "outputs": [
    {
     "data": {
      "image/png": "[encoded data removed]",
      "text/plain": [
       "<Figure size 432x288 with 1 Axes>"
      ]
     },
     "metadata": {
      "needs_background": "light"
     },
     "output_type": "display_data"
    }
   ],
   "source": [
    "covid.function_Plot()"
   ]
  },
  {
   "cell_type": "code",
   "execution_count": 149,
   "metadata": {},
   "outputs": [
    {
     "data": {
      "text/plain": [
       "7.323352343672892"
      ]
     },
     "execution_count": 149,
     "metadata": {},
     "output_type": "execute_result"
    }
   ],
   "source": [
    "yaya = covid.log_Df()\n",
    "yaya[1]"
   ]
  },
  {
   "cell_type": "code",
   "execution_count": 150,
   "metadata": {},
   "outputs": [
    {
     "ename": "AttributeError",
     "evalue": "'numpy.ndarray' object has no attribute 'index'",
     "output_type": "error",
     "traceback": [
      "\u001b[1;31m---------------------------------------------------------------------------\u001b[0m",
      "\u001b[1;31mAttributeError\u001b[0m                            Traceback (most recent call last)",
      "\u001b[1;32m<ipython-input-150-35368a5d0983>\u001b[0m in \u001b[0;36m<module>\u001b[1;34m\u001b[0m\n\u001b[1;32m----> 1\u001b[1;33m \u001b[0mplt\u001b[0m\u001b[1;33m.\u001b[0m\u001b[0mplot\u001b[0m\u001b[1;33m(\u001b[0m\u001b[0myaya\u001b[0m\u001b[1;33m.\u001b[0m\u001b[0mindex\u001b[0m\u001b[1;33m,\u001b[0m \u001b[0myaya\u001b[0m\u001b[1;33m[\u001b[0m\u001b[1;36m0\u001b[0m\u001b[1;33m:\u001b[0m\u001b[1;33m]\u001b[0m\u001b[1;33m)\u001b[0m\u001b[1;33m\u001b[0m\u001b[1;33m\u001b[0m\u001b[0m\n\u001b[0m",
      "\u001b[1;31mAttributeError\u001b[0m: 'numpy.ndarray' object has no attribute 'index'"
     ]
    }
   ],
   "source": [
    "plt.plot(yaya.index, yaya[0:])"
   ]
  },
  {
   "cell_type": "code",
   "execution_count": 151,
   "metadata": {},
   "outputs": [
    {
     "data": {
      "text/plain": [
       "(array([[[0.10458816],\n",
       "         [0.50981471],\n",
       "         [0.87840116],\n",
       "         ...,\n",
       "         [1.21607075],\n",
       "         [1.10950847],\n",
       "         [0.91183937]],\n",
       " \n",
       "        [[0.50981471],\n",
       "         [0.87840116],\n",
       "         [1.21034752],\n",
       "         ...,\n",
       "         [1.10950847],\n",
       "         [0.91183937],\n",
       "         [0.78882762]],\n",
       " \n",
       "        [[0.87840116],\n",
       "         [1.21034752],\n",
       "         [1.50565378],\n",
       "         ...,\n",
       "         [0.91183937],\n",
       "         [0.78882762],\n",
       "         [0.7484051 ]],\n",
       " \n",
       "        ...,\n",
       " \n",
       "        [[0.62704176],\n",
       "         [0.6471807 ],\n",
       "         [0.64297527],\n",
       "         ...,\n",
       "         [0.34624437],\n",
       "         [0.34545054],\n",
       "         [0.34606754]],\n",
       " \n",
       "        [[0.6471807 ],\n",
       "         [0.64297527],\n",
       "         [0.57286291],\n",
       "         ...,\n",
       "         [0.34545054],\n",
       "         [0.34606754],\n",
       "         [0.34809536]],\n",
       " \n",
       "        [[0.64297527],\n",
       "         [0.57286291],\n",
       "         [0.60498458],\n",
       "         ...,\n",
       "         [0.34606754],\n",
       "         [0.34809536],\n",
       "         [0.351534  ]]]),\n",
       " array([ 7.88827622e-01,  7.48405105e-01,  6.67087268e-01,  5.77652585e-01,\n",
       "         5.71654105e-01,  4.99539091e-01,  4.21170937e-01,  2.89371310e-01,\n",
       "         1.96721852e-01,  1.20521383e-01,  2.21371151e-02, -2.03212525e-02,\n",
       "        -8.17562322e-02, -1.90823381e-01, -2.47387115e-01, -2.62727365e-01,\n",
       "        -3.04124416e-01, -3.52023574e-01, -3.72153028e-01, -4.08437453e-01,\n",
       "        -4.86476968e-01, -5.25465901e-01, -5.11405586e-01, -5.25345447e-01,\n",
       "        -5.34231487e-01, -5.56578895e-01, -5.88035702e-01, -6.42824410e-01,\n",
       "        -6.74848391e-01, -6.67549585e-01, -6.79433205e-01, -6.83983399e-01,\n",
       "        -6.95962813e-01, -7.31004766e-01, -7.76666527e-01, -8.00581251e-01,\n",
       "        -7.95726129e-01, -8.00734426e-01, -8.12538850e-01, -8.27001308e-01,\n",
       "        -8.40315192e-01, -8.74945992e-01, -8.87497795e-01, -8.77733964e-01,\n",
       "        -8.78562911e-01, -8.91204817e-01, -9.00524299e-01, -9.13771791e-01,\n",
       "        -9.38979254e-01, -9.41165908e-01, -9.41106630e-01, -9.50108854e-01,\n",
       "        -9.59365738e-01, -9.62057443e-01, -9.64968714e-01, -9.79360987e-01,\n",
       "        -9.94098022e-01, -9.95083937e-01, -9.98852608e-01, -1.00036159e+00,\n",
       "        -9.95170721e-01, -9.95491297e-01, -1.00298643e+00, -1.00121520e+00,\n",
       "        -9.96883149e-01, -1.00016337e+00, -1.00385474e+00, -1.00116114e+00,\n",
       "        -1.00313866e+00, -1.01284226e+00, -1.01104163e+00, -1.00633399e+00,\n",
       "        -1.01078318e+00, -1.01380684e+00, -1.01282851e+00, -1.01381206e+00,\n",
       "        -1.02374376e+00, -1.01869563e+00, -1.01372053e+00, -1.01507018e+00,\n",
       "        -1.01330700e+00, -1.01933726e+00, -1.02570800e+00, -1.03339757e+00,\n",
       "        -1.03240929e+00, -1.02436832e+00, -1.02700786e+00, -1.02606225e+00,\n",
       "        -1.02181414e+00, -1.02180513e+00, -1.02539264e+00, -1.02005429e+00,\n",
       "        -1.00867951e+00, -1.00829302e+00, -1.01116113e+00, -1.00182458e+00,\n",
       "        -9.98314836e-01, -1.00175345e+00, -9.97356901e-01, -9.93505714e-01,\n",
       "        -9.94932659e-01, -9.94847299e-01, -9.92641201e-01, -9.94463650e-01,\n",
       "        -1.00011642e+00, -9.93430313e-01, -9.86779298e-01, -9.92556789e-01,\n",
       "        -9.95984492e-01, -9.92175037e-01, -9.94783278e-01, -9.99092566e-01,\n",
       "        -9.91065824e-01, -9.75867367e-01, -9.81115148e-01, -9.78916638e-01,\n",
       "        -9.69410785e-01, -9.64863910e-01, -9.71835027e-01, -9.62157030e-01,\n",
       "        -9.48606033e-01, -9.53154331e-01, -9.55406429e-01, -9.50025865e-01,\n",
       "        -9.50088463e-01, -9.58651555e-01, -9.46212617e-01, -9.26447842e-01,\n",
       "        -9.31695622e-01, -9.30694532e-01, -9.26779325e-01, -9.25740771e-01,\n",
       "        -9.29119155e-01, -9.06287088e-01, -8.82268035e-01, -8.91667661e-01,\n",
       "        -8.96645133e-01, -8.79988433e-01, -8.66182777e-01, -8.69328315e-01,\n",
       "        -8.40014059e-01, -8.00934549e-01, -8.03552274e-01, -8.02400854e-01,\n",
       "        -7.88175509e-01, -7.71463324e-01, -7.81562907e-01, -7.37863491e-01,\n",
       "        -6.71528338e-01, -6.58822411e-01, -6.38509431e-01, -6.02025832e-01,\n",
       "        -5.76038269e-01, -5.72872813e-01, -5.31477659e-01, -4.72560343e-01,\n",
       "        -4.62121689e-01, -4.61970411e-01, -4.49397741e-01, -4.57551102e-01,\n",
       "        -4.99730151e-01, -4.97974094e-01, -4.83776253e-01, -4.92884230e-01,\n",
       "        -5.07203472e-01, -4.81488114e-01, -4.72615827e-01, -5.10861649e-01,\n",
       "        -4.85929237e-01, -4.38573068e-01, -4.35444127e-01, -4.33962172e-01,\n",
       "        -4.05888964e-01, -3.82473600e-01, -3.78620043e-01, -3.23302574e-01,\n",
       "        -2.50429272e-01, -2.25531953e-01, -2.20764563e-01, -1.61373970e-01,\n",
       "        -1.15531055e-01, -6.97554788e-02,  4.48923568e-02,  1.95428638e-01,\n",
       "         2.61623421e-01,  2.98109391e-01,  3.98731530e-01,  5.23935153e-01,\n",
       "         6.33052096e-01,  7.94266041e-01,  9.85507004e-01,  1.10151018e+00,\n",
       "         1.16939842e+00,  1.23622345e+00,  1.34815824e+00,  1.40903221e+00,\n",
       "         1.54270266e+00,  1.72995728e+00,  1.79147572e+00,  1.82348595e+00,\n",
       "         1.90685149e+00,  1.93722849e+00,  1.84411761e+00,  1.84799772e+00,\n",
       "         1.92821014e+00,  1.92923494e+00,  1.86687854e+00,  1.80467579e+00,\n",
       "         1.71966990e+00,  1.58079293e+00,  1.48709875e+00,  1.47400301e+00,\n",
       "         1.44688490e+00,  1.34272741e+00,  1.27991290e+00,  1.18298498e+00,\n",
       "         1.00563314e+00,  9.17919895e-01,  8.93896100e-01,  7.75325944e-01,\n",
       "         6.28116355e-01,  5.76619248e-01,  4.80402190e-01,  3.40253821e-01,\n",
       "         2.70384265e-01,  2.76708537e-01,  2.50447820e-01,  2.17227841e-01,\n",
       "         2.22922343e-01,  2.09048872e-01,  1.52334334e-01,  1.46092577e-01,\n",
       "         2.06554920e-01,  2.11763340e-01,  2.03053238e-01,  2.14634776e-01,\n",
       "         2.21180038e-01,  1.89512200e-01,  2.13269954e-01,  2.84478724e-01,\n",
       "         2.63946652e-01,  2.36537360e-01,  2.60177032e-01,  2.55316220e-01,\n",
       "         2.50445449e-01,  2.70670223e-01,  2.94669832e-01,  2.46058387e-01,\n",
       "         1.89076861e-01,  1.66463886e-01,  1.39250450e-01,  1.06925809e-01,\n",
       "         1.00698278e-01,  1.03505694e-01,  7.76494910e-02,  2.05892427e-02,\n",
       "         1.42616503e-02, -1.78946400e-03, -5.58089778e-02, -1.78993823e-02,\n",
       "         8.30200961e-02,  1.20987547e-01,  1.60162851e-01,  1.65161189e-01,\n",
       "         1.38105195e-01,  1.11527220e-01,  1.66176031e-01,  2.91207511e-01,\n",
       "         3.22842153e-01,  3.49511179e-01,  3.44959087e-01,  3.41815920e-01,\n",
       "         3.14778421e-01,  3.79184424e-01,  4.90814288e-01,  5.05282911e-01,\n",
       "         5.19893803e-01,  5.62444644e-01,  5.80834165e-01,  5.51181312e-01,\n",
       "         5.95864271e-01,  6.72285255e-01,  6.52957241e-01,  6.27041760e-01,\n",
       "         6.47180699e-01,  6.42975266e-01,  5.72862907e-01,  6.04984578e-01,\n",
       "         6.72220286e-01,  6.41918692e-01,  6.21310269e-01,  6.60903840e-01,\n",
       "         6.29982433e-01,  5.66629685e-01,  5.76013662e-01,  6.24714261e-01,\n",
       "         5.98284245e-01,  5.39107527e-01,  5.36425307e-01,  4.86162609e-01,\n",
       "         3.78144922e-01,  3.73414995e-01,  4.35057686e-01,  4.00568680e-01,\n",
       "         3.63527866e-01,  3.57090759e-01,  3.52064473e-01,  3.48449009e-01,\n",
       "         3.46244365e-01,  3.45450543e-01,  3.46067542e-01,  3.48095363e-01,\n",
       "         3.51534004e-01,  3.56383467e-01]),\n",
       " (28, 1))"
      ]
     },
     "execution_count": 151,
     "metadata": {},
     "output_type": "execute_result"
    }
   ],
   "source": [
    "covid.function_TimeSeriesGenerator()"
   ]
  },
  {
   "cell_type": "code",
   "execution_count": 152,
   "metadata": {},
   "outputs": [
    {
     "data": {
      "text/plain": [
       "<tensorflow.python.keras.engine.sequential.Sequential at 0x48c413c8>"
      ]
     },
     "execution_count": 152,
     "metadata": {},
     "output_type": "execute_result"
    }
   ],
   "source": [
    "covid.functionLSTM_Model(32,0, 0.2)"
   ]
  },
  {
   "cell_type": "code",
   "execution_count": 153,
   "metadata": {},
   "outputs": [
    {
     "name": "stdout",
     "output_type": "stream",
     "text": [
      "_________________________________________________________________\n",
      "Layer (type)                 Output Shape              Param #   \n",
      "=================================================================\n",
      "lstm_18 (LSTM)               (None, 32)                4352      \n",
      "_________________________________________________________________\n",
      "dropout_18 (Dropout)         (None, 32)                0         \n",
      "_________________________________________________________________\n",
      "dense_13 (Dense)             (None, 1)                 33        \n",
      "=================================================================\n",
      "Total params: 4,385\n",
      "Trainable params: 4,385\n",
      "Non-trainable params: 0\n",
      "_________________________________________________________________\n",
      "None\n"
     ]
    }
   ],
   "source": [
    "covid.function_Summary()"
   ]
  },
  {
   "cell_type": "code",
   "execution_count": 154,
   "metadata": {},
   "outputs": [
    {
     "name": "stdout",
     "output_type": "stream",
     "text": [
      "Train on 251 samples, validate on 63 samples\n",
      "Epoch 1/5\n",
      " - 12s - loss: 0.1127 - val_loss: 0.0052\n",
      "Epoch 2/5\n",
      " - 7s - loss: 0.0196 - val_loss: 0.0071\n",
      "Epoch 3/5\n",
      " - 6s - loss: 0.0146 - val_loss: 0.0067\n",
      "Epoch 4/5\n",
      " - 7s - loss: 0.0170 - val_loss: 0.0048\n",
      "Epoch 5/5\n",
      " - 7s - loss: 0.0130 - val_loss: 0.0083\n"
     ]
    }
   ],
   "source": [
    "covid.functionLSTM_Model(32,0, 0.2)\n",
    "covid.function_Training(epok=5, val_split=0.2)"
   ]
  },
  {
   "cell_type": "code",
   "execution_count": 155,
   "metadata": {},
   "outputs": [
    {
     "data": {
      "text/plain": [
       "array([0.36286968, 0.3955009 , 0.43191302, 0.47120643, 0.52160114,\n",
       "       0.57919639, 0.63072693, 0.68203801, 0.74097842, 0.80516374,\n",
       "       0.87305725, 0.95054543, 1.03328633, 1.10374033, 1.17480838,\n",
       "       1.2506603 , 1.32366288, 1.39649773, 1.46885502, 1.54046702,\n",
       "       1.59500492, 1.63760865, 1.67702329, 1.70939982, 1.73306918,\n",
       "       1.75470364, 1.77238083, 1.77052772])"
      ]
     },
     "execution_count": 155,
     "metadata": {},
     "output_type": "execute_result"
    },
    {
     "data": {
      "image/png": "[encoded data removed]",
      "text/plain": [
       "<Figure size 432x288 with 1 Axes>"
      ]
     },
     "metadata": {
      "needs_background": "light"
     },
     "output_type": "display_data"
    }
   ],
   "source": [
    "covid.function_Nostradamus(28, xmin = 0, plot = True)"
   ]
  },
  {
   "cell_type": "code",
   "execution_count": 158,
   "metadata": {},
   "outputs": [
    {
     "name": "stdout",
     "output_type": "stream",
     "text": [
      "Train on 251 samples, validate on 63 samples\n",
      "Epoch 1/5\n",
      " - 28s - loss: 0.2926 - val_loss: 0.0151\n",
      "Epoch 2/5\n",
      " - 19s - loss: 0.0974 - val_loss: 0.0666\n",
      "Epoch 3/5\n",
      " - 20s - loss: 0.0552 - val_loss: 0.0837\n",
      "Epoch 4/5\n",
      " - 24s - loss: 0.0552 - val_loss: 0.1531\n",
      "Epoch 5/5\n",
      " - 36s - loss: 0.0486 - val_loss: 0.0156\n"
     ]
    }
   ],
   "source": [
    "covid.functionLSTM_Model(12,3, 0.2)\n",
    "covid.function_Training(epok=5, val_split=0.2)"
   ]
  },
  {
   "cell_type": "code",
   "execution_count": 159,
   "metadata": {},
   "outputs": [
    {
     "data": {
      "text/plain": [
       "array([0.20925425, 0.20508637, 0.20611352, 0.20825747, 0.2182052 ,\n",
       "       0.23318151, 0.23689564, 0.23206027, 0.22759821, 0.22387703,\n",
       "       0.22111198, 0.22635029, 0.23882051, 0.24141465, 0.2424861 ,\n",
       "       0.24816228, 0.25429001, 0.26424766, 0.28007621, 0.30442122,\n",
       "       0.32196447, 0.33324221, 0.34688982, 0.36184171, 0.376973  ,\n",
       "       0.39948061, 0.43084118, 0.45168707])"
      ]
     },
     "execution_count": 159,
     "metadata": {},
     "output_type": "execute_result"
    },
    {
     "data": {
      "image/png": "[encoded data removed]",
      "text/plain": [
       "<Figure size 432x288 with 1 Axes>"
      ]
     },
     "metadata": {
      "needs_background": "light"
     },
     "output_type": "display_data"
    }
   ],
   "source": [
    "covid.function_Nostradamus(28, xmin = 0, plot = True)"
   ]
  },
  {
   "cell_type": "code",
   "execution_count": null,
   "metadata": {},
   "outputs": [],
   "source": []
  }
 ],
 "metadata": {
  "kernelspec": {
   "display_name": "Python 3",
   "language": "python",
   "name": "python3"
  },
  "language_info": {
   "codemirror_mode": {
    "name": "ipython",
    "version": 3
   },
   "file_extension": ".py",
   "mimetype": "text/x-python",
   "name": "python",
   "nbconvert_exporter": "python",
   "pygments_lexer": "ipython3",
   "version": "3.7.1"
  }
 },
 "nbformat": 4,
 "nbformat_minor": 2
}
